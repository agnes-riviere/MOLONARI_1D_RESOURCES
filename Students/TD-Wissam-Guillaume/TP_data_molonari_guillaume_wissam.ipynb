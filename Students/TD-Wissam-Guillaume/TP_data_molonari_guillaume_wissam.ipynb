{
 "cells": [
  {
   "cell_type": "markdown",
   "metadata": {
    "_cell_guid": "5cd5061f-ae30-4837-a53b-690ffd5c5830",
    "_uuid": "9d82bf13584b8e682962fbb96131f2447d741679"
   },
   "source": [
    "# Mettre en place notre environnement\n",
    "________\n",
    "\n",
    "La première chose que nous devons faire est de charger les bibliothèques et les ensembles de données que nous allons utiliser. Pour aujourd'hui, nous allons travailler avec deux ensembles de données : un contenant des chroniques de température dans le lit de la rivière (zone hyporhéique), et un autre contenant des les chroniques de différence de charge enregistré en **Volt**.\n",
    "\n",
    "**Important!** Assurez-vous d'exécuter cette cellule vous-même ou le reste de votre code ne fonctionnera pas"
   ]
  },
  {
   "cell_type": "code",
   "execution_count": 32,
   "metadata": {
    "_cell_guid": "135a7804-b5f5-40aa-8657-4a15774e3666",
    "_uuid": "835cbe0834b935fb0fd40c75b9c39454836f4d5f",
    "jupyter": {
     "outputs_hidden": true
    }
   },
   "outputs": [],
   "source": [
    "/# modules\n",
    "import pandas as pd\n",
    "import numpy as np\n",
    "import matplotlib.pyplot as plt\n",
    "import seaborn as sns\n",
    "import datetime\n",
    "# C:\\Users\\guill\\Dropbox\\Ingenieur_civil_Mines\\MOLONARI\\MOLONARI_1D_RESOURCES\n",
    "# read in our data\n",
    "capteur_riviere = pd.read_csv(\"../documents/molonari/MOLONARI_1D_RESOURCES/sampling_points/Point034/point034_P_measures.csv\")\n",
    "capteur_ZH = pd.read_csv(\"../documents/molonari/MOLONARI_1D_RESOURCES/sampling_points/Point034/point034_T_measures.csv\")\n",
    "etalonage_capteur_riv = pd.read_csv(\"../documents/molonari/MOLONARI_1D_RESOURCES/configuration/pressure_sensors\\P508.csv\")\n",
    "\n",
    "# set seed for reproducibility\n",
    "np.random.seed(0)"
   ]
  },
  {
   "cell_type": "markdown",
   "metadata": {
    "_cell_guid": "604ac3a4-b1d9-4264-b312-4bbeecdeec00",
    "_uuid": "03ce3b4afe87d98f777172c2c7be066a66a0b237"
   },
   "source": [
    "Nous sommes maintenant prêts à examiner quelques dates ! (Si vous le souhaitez, vous pouvez profiter de cette occasion pour jeter un coup d'œil à certaines des données)."
   ]
  },
  {
   "cell_type": "markdown",
   "metadata": {},
   "source": [
    "# Imprimez le noms des colonnes\n",
    "renommer les colonnes du fichier capteur_riviere :  \tdates,tension_V,temperature_stream_C et celles du fichier capteur_ZH  :\n",
    "#,dates,temperature_depth_1_C,temperature_depth_2_C,temperature_depth_3_C,temperature_depth_4_C\n",
    "\n"
   ]
  },
  {
   "cell_type": "markdown",
   "metadata": {},
   "source": [
    "# Transformez les données de différence de charge en mètres\n",
    "\n"
   ]
  },
  {
   "cell_type": "code",
   "execution_count": 33,
   "metadata": {},
   "outputs": [
    {
     "data": {
      "text/html": [
       "<div>\n",
       "<style scoped>\n",
       "    .dataframe tbody tr th:only-of-type {\n",
       "        vertical-align: middle;\n",
       "    }\n",
       "\n",
       "    .dataframe tbody tr th {\n",
       "        vertical-align: top;\n",
       "    }\n",
       "\n",
       "    .dataframe thead th {\n",
       "        text-align: right;\n",
       "    }\n",
       "</style>\n",
       "<table border=\"1\" class=\"dataframe\">\n",
       "  <thead>\n",
       "    <tr style=\"text-align: right;\">\n",
       "      <th></th>\n",
       "      <th>#</th>\n",
       "      <th>dates</th>\n",
       "      <th>temperature_depth_1_C</th>\n",
       "      <th>temperature_depth_2_C</th>\n",
       "      <th>temperature_depth_3_C</th>\n",
       "      <th>temperature_depth_4_C</th>\n",
       "    </tr>\n",
       "  </thead>\n",
       "  <tbody>\n",
       "    <tr>\n",
       "      <th>1</th>\n",
       "      <td>1</td>\n",
       "      <td>06/27/16 12:00:00 PM</td>\n",
       "      <td>13.810</td>\n",
       "      <td>13.834</td>\n",
       "      <td>13.858</td>\n",
       "      <td>13.810</td>\n",
       "    </tr>\n",
       "    <tr>\n",
       "      <th>2</th>\n",
       "      <td>2</td>\n",
       "      <td>06/27/16 12:15:00 PM</td>\n",
       "      <td>13.834</td>\n",
       "      <td>13.858</td>\n",
       "      <td>13.882</td>\n",
       "      <td>13.834</td>\n",
       "    </tr>\n",
       "    <tr>\n",
       "      <th>3</th>\n",
       "      <td>3</td>\n",
       "      <td>06/27/16 12:30:00 PM</td>\n",
       "      <td>13.930</td>\n",
       "      <td>13.954</td>\n",
       "      <td>14.050</td>\n",
       "      <td>14.002</td>\n",
       "    </tr>\n",
       "    <tr>\n",
       "      <th>4</th>\n",
       "      <td>4</td>\n",
       "      <td>06/27/16 12:45:00 PM</td>\n",
       "      <td>13.882</td>\n",
       "      <td>13.954</td>\n",
       "      <td>14.026</td>\n",
       "      <td>13.954</td>\n",
       "    </tr>\n",
       "    <tr>\n",
       "      <th>5</th>\n",
       "      <td>5</td>\n",
       "      <td>06/27/16 01:00:00 PM</td>\n",
       "      <td>13.858</td>\n",
       "      <td>13.930</td>\n",
       "      <td>14.026</td>\n",
       "      <td>13.954</td>\n",
       "    </tr>\n",
       "    <tr>\n",
       "      <th>...</th>\n",
       "      <td>...</td>\n",
       "      <td>...</td>\n",
       "      <td>...</td>\n",
       "      <td>...</td>\n",
       "      <td>...</td>\n",
       "      <td>...</td>\n",
       "    </tr>\n",
       "    <tr>\n",
       "      <th>1434</th>\n",
       "      <td>1434</td>\n",
       "      <td>07/12/16 10:15:00 AM</td>\n",
       "      <td>14.457</td>\n",
       "      <td>14.697</td>\n",
       "      <td>14.792</td>\n",
       "      <td>14.649</td>\n",
       "    </tr>\n",
       "    <tr>\n",
       "      <th>1435</th>\n",
       "      <td>1435</td>\n",
       "      <td>07/12/16 10:30:00 AM</td>\n",
       "      <td>15.008</td>\n",
       "      <td>14.792</td>\n",
       "      <td>14.816</td>\n",
       "      <td>14.649</td>\n",
       "    </tr>\n",
       "    <tr>\n",
       "      <th>1436</th>\n",
       "      <td>1436</td>\n",
       "      <td>07/12/16 10:45:00 AM</td>\n",
       "      <td>17.320</td>\n",
       "      <td>17.296</td>\n",
       "      <td>17.034</td>\n",
       "      <td>17.130</td>\n",
       "    </tr>\n",
       "    <tr>\n",
       "      <th>1437</th>\n",
       "      <td>1437</td>\n",
       "      <td>07/12/16 10:49:31 AM</td>\n",
       "      <td>NaN</td>\n",
       "      <td>NaN</td>\n",
       "      <td>NaN</td>\n",
       "      <td>NaN</td>\n",
       "    </tr>\n",
       "    <tr>\n",
       "      <th>1438</th>\n",
       "      <td>1438</td>\n",
       "      <td>07/12/16 10:49:47 AM</td>\n",
       "      <td>NaN</td>\n",
       "      <td>NaN</td>\n",
       "      <td>NaN</td>\n",
       "      <td>NaN</td>\n",
       "    </tr>\n",
       "  </tbody>\n",
       "</table>\n",
       "<p>1438 rows × 6 columns</p>\n",
       "</div>"
      ],
      "text/plain": [
       "         #                 dates temperature_depth_1_C temperature_depth_2_C  \\\n",
       "1        1  06/27/16 12:00:00 PM                13.810                13.834   \n",
       "2        2  06/27/16 12:15:00 PM                13.834                13.858   \n",
       "3        3  06/27/16 12:30:00 PM                13.930                13.954   \n",
       "4        4  06/27/16 12:45:00 PM                13.882                13.954   \n",
       "5        5  06/27/16 01:00:00 PM                13.858                13.930   \n",
       "...    ...                   ...                   ...                   ...   \n",
       "1434  1434  07/12/16 10:15:00 AM                14.457                14.697   \n",
       "1435  1435  07/12/16 10:30:00 AM                15.008                14.792   \n",
       "1436  1436  07/12/16 10:45:00 AM                17.320                17.296   \n",
       "1437  1437  07/12/16 10:49:31 AM                   NaN                   NaN   \n",
       "1438  1438  07/12/16 10:49:47 AM                   NaN                   NaN   \n",
       "\n",
       "     temperature_depth_3_C temperature_depth_4_C  \n",
       "1                   13.858                13.810  \n",
       "2                   13.882                13.834  \n",
       "3                   14.050                14.002  \n",
       "4                   14.026                13.954  \n",
       "5                   14.026                13.954  \n",
       "...                    ...                   ...  \n",
       "1434                14.792                14.649  \n",
       "1435                14.816                14.649  \n",
       "1436                17.034                17.130  \n",
       "1437                   NaN                   NaN  \n",
       "1438                   NaN                   NaN  \n",
       "\n",
       "[1438 rows x 6 columns]"
      ]
     },
     "execution_count": 33,
     "metadata": {},
     "output_type": "execute_result"
    }
   ],
   "source": [
    "cap2 = capteur_ZH.reset_index().drop([0])\n",
    "capteur_ZH = cap2.drop(columns=[cap2.columns[6],cap2.columns[7],cap2.columns[8]],axis=1).rename({'level_0':'#','level_1':'dates','level_2':'temperature_depth_1_C','level_3':'temperature_depth_2_C','level_4':'temperature_depth_3_C','level_5':'temperature_depth_4_C'},axis=1)\n",
    "capteur_ZH"
   ]
  },
  {
   "cell_type": "code",
   "execution_count": 8,
   "metadata": {},
   "outputs": [
    {
     "data": {
      "text/html": [
       "<div>\n",
       "<style scoped>\n",
       "    .dataframe tbody tr th:only-of-type {\n",
       "        vertical-align: middle;\n",
       "    }\n",
       "\n",
       "    .dataframe tbody tr th {\n",
       "        vertical-align: top;\n",
       "    }\n",
       "\n",
       "    .dataframe thead th {\n",
       "        text-align: right;\n",
       "    }\n",
       "</style>\n",
       "<table border=\"1\" class=\"dataframe\">\n",
       "  <thead>\n",
       "    <tr style=\"text-align: right;\">\n",
       "      <th></th>\n",
       "      <th>Unnamed: 1</th>\n",
       "      <th>Unnamed: 2</th>\n",
       "      <th>Unnamed: 3</th>\n",
       "    </tr>\n",
       "  </thead>\n",
       "  <tbody>\n",
       "    <tr>\n",
       "      <th>1</th>\n",
       "      <td>06/27/16 12:00:00 PM</td>\n",
       "      <td>1.26787</td>\n",
       "      <td>18.342</td>\n",
       "    </tr>\n",
       "    <tr>\n",
       "      <th>2</th>\n",
       "      <td>06/27/16 12:15:00 PM</td>\n",
       "      <td>1.0663</td>\n",
       "      <td>13.898</td>\n",
       "    </tr>\n",
       "    <tr>\n",
       "      <th>3</th>\n",
       "      <td>06/27/16 12:30:00 PM</td>\n",
       "      <td>1.20661</td>\n",
       "      <td>13.915</td>\n",
       "    </tr>\n",
       "    <tr>\n",
       "      <th>4</th>\n",
       "      <td>06/27/16 12:45:00 PM</td>\n",
       "      <td>1.24533</td>\n",
       "      <td>13.939</td>\n",
       "    </tr>\n",
       "    <tr>\n",
       "      <th>5</th>\n",
       "      <td>06/27/16 01:00:00 PM</td>\n",
       "      <td>1.24437</td>\n",
       "      <td>13.967</td>\n",
       "    </tr>\n",
       "    <tr>\n",
       "      <th>...</th>\n",
       "      <td>...</td>\n",
       "      <td>...</td>\n",
       "      <td>...</td>\n",
       "    </tr>\n",
       "    <tr>\n",
       "      <th>1456</th>\n",
       "      <td>07/12/2016 15:45</td>\n",
       "      <td>1.13668</td>\n",
       "      <td>9.126</td>\n",
       "    </tr>\n",
       "    <tr>\n",
       "      <th>1457</th>\n",
       "      <td>07/12/2016 16:00</td>\n",
       "      <td>1.33513</td>\n",
       "      <td>9.157</td>\n",
       "    </tr>\n",
       "    <tr>\n",
       "      <th>1458</th>\n",
       "      <td>07/12/2016 16:15</td>\n",
       "      <td>1.38926</td>\n",
       "      <td>9.199</td>\n",
       "    </tr>\n",
       "    <tr>\n",
       "      <th>1459</th>\n",
       "      <td>07/12/2016 16:30</td>\n",
       "      <td>1.41386</td>\n",
       "      <td>9.244</td>\n",
       "    </tr>\n",
       "    <tr>\n",
       "      <th>1460</th>\n",
       "      <td>07/12/2016 16:45</td>\n",
       "      <td>1.42794</td>\n",
       "      <td>9.29</td>\n",
       "    </tr>\n",
       "  </tbody>\n",
       "</table>\n",
       "<p>1460 rows × 3 columns</p>\n",
       "</div>"
      ],
      "text/plain": [
       "                Unnamed: 1 Unnamed: 2 Unnamed: 3\n",
       "1     06/27/16 12:00:00 PM    1.26787     18.342\n",
       "2     06/27/16 12:15:00 PM     1.0663     13.898\n",
       "3     06/27/16 12:30:00 PM    1.20661     13.915\n",
       "4     06/27/16 12:45:00 PM    1.24533     13.939\n",
       "5     06/27/16 01:00:00 PM    1.24437     13.967\n",
       "...                    ...        ...        ...\n",
       "1456      07/12/2016 15:45    1.13668      9.126\n",
       "1457      07/12/2016 16:00    1.33513      9.157\n",
       "1458      07/12/2016 16:15    1.38926      9.199\n",
       "1459      07/12/2016 16:30    1.41386      9.244\n",
       "1460      07/12/2016 16:45    1.42794       9.29\n",
       "\n",
       "[1460 rows x 3 columns]"
      ]
     },
     "execution_count": 8,
     "metadata": {},
     "output_type": "execute_result"
    }
   ],
   "source": [
    "capteur_riviere =capteur_riviere.drop(columns = [capteur_riviere.columns[0],capteur_riviere.columns[4],capteur_riviere.columns[5],capteur_riviere.columns[6]],axis=1)\n",
    "capteur_riviere2"
   ]
  },
  {
   "cell_type": "code",
   "execution_count": 728,
   "metadata": {},
   "outputs": [],
   "source": [
    "alpha = -1.462495\n",
    "beta = 0.001474\n",
    "intercept = 1.210344"
   ]
  },
  {
   "cell_type": "code",
   "execution_count": 729,
   "metadata": {},
   "outputs": [
    {
     "data": {
      "text/html": [
       "<div>\n",
       "<style scoped>\n",
       "    .dataframe tbody tr th:only-of-type {\n",
       "        vertical-align: middle;\n",
       "    }\n",
       "\n",
       "    .dataframe tbody tr th {\n",
       "        vertical-align: top;\n",
       "    }\n",
       "\n",
       "    .dataframe thead th {\n",
       "        text-align: right;\n",
       "    }\n",
       "</style>\n",
       "<table border=\"1\" class=\"dataframe\">\n",
       "  <thead>\n",
       "    <tr style=\"text-align: right;\">\n",
       "      <th></th>\n",
       "      <th>dates</th>\n",
       "      <th>charge_diff</th>\n",
       "      <th>temperature_stream_C</th>\n",
       "    </tr>\n",
       "  </thead>\n",
       "  <tbody>\n",
       "    <tr>\n",
       "      <th>1</th>\n",
       "      <td>06/27/16 12:00:00 PM</td>\n",
       "      <td>1.26787</td>\n",
       "      <td>18.342</td>\n",
       "    </tr>\n",
       "    <tr>\n",
       "      <th>2</th>\n",
       "      <td>06/27/16 12:15:00 PM</td>\n",
       "      <td>1.0663</td>\n",
       "      <td>13.898</td>\n",
       "    </tr>\n",
       "    <tr>\n",
       "      <th>3</th>\n",
       "      <td>06/27/16 12:30:00 PM</td>\n",
       "      <td>1.20661</td>\n",
       "      <td>13.915</td>\n",
       "    </tr>\n",
       "    <tr>\n",
       "      <th>4</th>\n",
       "      <td>06/27/16 12:45:00 PM</td>\n",
       "      <td>1.24533</td>\n",
       "      <td>13.939</td>\n",
       "    </tr>\n",
       "    <tr>\n",
       "      <th>5</th>\n",
       "      <td>06/27/16 01:00:00 PM</td>\n",
       "      <td>1.24437</td>\n",
       "      <td>13.967</td>\n",
       "    </tr>\n",
       "  </tbody>\n",
       "</table>\n",
       "</div>"
      ],
      "text/plain": [
       "                  dates charge_diff temperature_stream_C\n",
       "1  06/27/16 12:00:00 PM     1.26787               18.342\n",
       "2  06/27/16 12:15:00 PM      1.0663               13.898\n",
       "3  06/27/16 12:30:00 PM     1.20661               13.915\n",
       "4  06/27/16 12:45:00 PM     1.24533               13.939\n",
       "5  06/27/16 01:00:00 PM     1.24437               13.967"
      ]
     },
     "execution_count": 729,
     "metadata": {},
     "output_type": "execute_result"
    }
   ],
   "source": [
    "capteur_riviere = capteur_riviere.rename({'tension_V':'charge_diff'},axis=1)\n",
    "capteur_riviere.head()"
   ]
  },
  {
   "cell_type": "code",
   "execution_count": 730,
   "metadata": {},
   "outputs": [],
   "source": [
    "capteur_riviere=capteur_riviere.assign(charge_diff=(capteur_riviere['charge_diff'].astype(float)-intercept)/alpha-capteur_riviere['temperature_stream_C'].astype(float)*beta)"
   ]
  },
  {
   "cell_type": "code",
   "execution_count": 731,
   "metadata": {},
   "outputs": [
    {
     "data": {
      "text/html": [
       "<div>\n",
       "<style scoped>\n",
       "    .dataframe tbody tr th:only-of-type {\n",
       "        vertical-align: middle;\n",
       "    }\n",
       "\n",
       "    .dataframe tbody tr th {\n",
       "        vertical-align: top;\n",
       "    }\n",
       "\n",
       "    .dataframe thead th {\n",
       "        text-align: right;\n",
       "    }\n",
       "</style>\n",
       "<table border=\"1\" class=\"dataframe\">\n",
       "  <thead>\n",
       "    <tr style=\"text-align: right;\">\n",
       "      <th></th>\n",
       "      <th>dates</th>\n",
       "      <th>charge_diff</th>\n",
       "      <th>temperature_stream_C</th>\n",
       "    </tr>\n",
       "  </thead>\n",
       "  <tbody>\n",
       "    <tr>\n",
       "      <th>1</th>\n",
       "      <td>06/27/16 12:00:00 PM</td>\n",
       "      <td>-0.066370</td>\n",
       "      <td>18.342</td>\n",
       "    </tr>\n",
       "    <tr>\n",
       "      <th>2</th>\n",
       "      <td>06/27/16 12:15:00 PM</td>\n",
       "      <td>0.078006</td>\n",
       "      <td>13.898</td>\n",
       "    </tr>\n",
       "    <tr>\n",
       "      <th>3</th>\n",
       "      <td>06/27/16 12:30:00 PM</td>\n",
       "      <td>-0.017958</td>\n",
       "      <td>13.915</td>\n",
       "    </tr>\n",
       "    <tr>\n",
       "      <th>4</th>\n",
       "      <td>06/27/16 12:45:00 PM</td>\n",
       "      <td>-0.044468</td>\n",
       "      <td>13.939</td>\n",
       "    </tr>\n",
       "    <tr>\n",
       "      <th>5</th>\n",
       "      <td>06/27/16 01:00:00 PM</td>\n",
       "      <td>-0.043853</td>\n",
       "      <td>13.967</td>\n",
       "    </tr>\n",
       "  </tbody>\n",
       "</table>\n",
       "</div>"
      ],
      "text/plain": [
       "                  dates  charge_diff temperature_stream_C\n",
       "1  06/27/16 12:00:00 PM    -0.066370               18.342\n",
       "2  06/27/16 12:15:00 PM     0.078006               13.898\n",
       "3  06/27/16 12:30:00 PM    -0.017958               13.915\n",
       "4  06/27/16 12:45:00 PM    -0.044468               13.939\n",
       "5  06/27/16 01:00:00 PM    -0.043853               13.967"
      ]
     },
     "execution_count": 731,
     "metadata": {},
     "output_type": "execute_result"
    }
   ],
   "source": [
    "capteur_riviere.head()"
   ]
  },
  {
   "cell_type": "markdown",
   "metadata": {
    "_cell_guid": "9b87a77d-e5e5-4581-9cd3-0e7339fe1516",
    "_uuid": "742028572a307a42ce40db0102171bc219b05282"
   },
   "source": [
    "# Traitement des dates\n",
    "## Vérifiez le type de données de notre colonne de date\n",
    "___\n",
    "\n",
    "Imprimer les dates des deux fichiers"
   ]
  },
  {
   "cell_type": "code",
   "execution_count": 732,
   "metadata": {
    "_cell_guid": "e6b7eb39-c3e3-40a1-b0a5-91cfcd2d42da",
    "_uuid": "93a08de7a6a621e4b07968c07c1cc612936c6027",
    "jupyter": {
     "outputs_hidden": true
    }
   },
   "outputs": [
    {
     "data": {
      "text/html": [
       "<div>\n",
       "<style scoped>\n",
       "    .dataframe tbody tr th:only-of-type {\n",
       "        vertical-align: middle;\n",
       "    }\n",
       "\n",
       "    .dataframe tbody tr th {\n",
       "        vertical-align: top;\n",
       "    }\n",
       "\n",
       "    .dataframe thead th {\n",
       "        text-align: right;\n",
       "    }\n",
       "</style>\n",
       "<table border=\"1\" class=\"dataframe\">\n",
       "  <thead>\n",
       "    <tr style=\"text-align: right;\">\n",
       "      <th></th>\n",
       "      <th>dates</th>\n",
       "    </tr>\n",
       "  </thead>\n",
       "  <tbody>\n",
       "    <tr>\n",
       "      <th>1</th>\n",
       "      <td>06/27/16 12:00:00 PM</td>\n",
       "    </tr>\n",
       "    <tr>\n",
       "      <th>2</th>\n",
       "      <td>06/27/16 12:15:00 PM</td>\n",
       "    </tr>\n",
       "    <tr>\n",
       "      <th>3</th>\n",
       "      <td>06/27/16 12:30:00 PM</td>\n",
       "    </tr>\n",
       "    <tr>\n",
       "      <th>4</th>\n",
       "      <td>06/27/16 12:45:00 PM</td>\n",
       "    </tr>\n",
       "    <tr>\n",
       "      <th>5</th>\n",
       "      <td>06/27/16 01:00:00 PM</td>\n",
       "    </tr>\n",
       "    <tr>\n",
       "      <th>...</th>\n",
       "      <td>...</td>\n",
       "    </tr>\n",
       "    <tr>\n",
       "      <th>1456</th>\n",
       "      <td>07/12/2016 15:45</td>\n",
       "    </tr>\n",
       "    <tr>\n",
       "      <th>1457</th>\n",
       "      <td>07/12/2016 16:00</td>\n",
       "    </tr>\n",
       "    <tr>\n",
       "      <th>1458</th>\n",
       "      <td>07/12/2016 16:15</td>\n",
       "    </tr>\n",
       "    <tr>\n",
       "      <th>1459</th>\n",
       "      <td>07/12/2016 16:30</td>\n",
       "    </tr>\n",
       "    <tr>\n",
       "      <th>1460</th>\n",
       "      <td>07/12/2016 16:45</td>\n",
       "    </tr>\n",
       "  </tbody>\n",
       "</table>\n",
       "<p>1460 rows × 1 columns</p>\n",
       "</div>"
      ],
      "text/plain": [
       "                     dates\n",
       "1     06/27/16 12:00:00 PM\n",
       "2     06/27/16 12:15:00 PM\n",
       "3     06/27/16 12:30:00 PM\n",
       "4     06/27/16 12:45:00 PM\n",
       "5     06/27/16 01:00:00 PM\n",
       "...                    ...\n",
       "1456      07/12/2016 15:45\n",
       "1457      07/12/2016 16:00\n",
       "1458      07/12/2016 16:15\n",
       "1459      07/12/2016 16:30\n",
       "1460      07/12/2016 16:45\n",
       "\n",
       "[1460 rows x 1 columns]"
      ]
     },
     "execution_count": 732,
     "metadata": {},
     "output_type": "execute_result"
    }
   ],
   "source": [
    "capteur_riviere[[\"dates\"]]"
   ]
  },
  {
   "cell_type": "code",
   "execution_count": 733,
   "metadata": {},
   "outputs": [
    {
     "data": {
      "text/html": [
       "<div>\n",
       "<style scoped>\n",
       "    .dataframe tbody tr th:only-of-type {\n",
       "        vertical-align: middle;\n",
       "    }\n",
       "\n",
       "    .dataframe tbody tr th {\n",
       "        vertical-align: top;\n",
       "    }\n",
       "\n",
       "    .dataframe thead th {\n",
       "        text-align: right;\n",
       "    }\n",
       "</style>\n",
       "<table border=\"1\" class=\"dataframe\">\n",
       "  <thead>\n",
       "    <tr style=\"text-align: right;\">\n",
       "      <th></th>\n",
       "      <th>dates</th>\n",
       "    </tr>\n",
       "  </thead>\n",
       "  <tbody>\n",
       "    <tr>\n",
       "      <th>1</th>\n",
       "      <td>06/27/16 12:00:00 PM</td>\n",
       "    </tr>\n",
       "    <tr>\n",
       "      <th>2</th>\n",
       "      <td>06/27/16 12:15:00 PM</td>\n",
       "    </tr>\n",
       "    <tr>\n",
       "      <th>3</th>\n",
       "      <td>06/27/16 12:30:00 PM</td>\n",
       "    </tr>\n",
       "    <tr>\n",
       "      <th>4</th>\n",
       "      <td>06/27/16 12:45:00 PM</td>\n",
       "    </tr>\n",
       "    <tr>\n",
       "      <th>5</th>\n",
       "      <td>06/27/16 01:00:00 PM</td>\n",
       "    </tr>\n",
       "    <tr>\n",
       "      <th>...</th>\n",
       "      <td>...</td>\n",
       "    </tr>\n",
       "    <tr>\n",
       "      <th>1434</th>\n",
       "      <td>07/12/16 10:15:00 AM</td>\n",
       "    </tr>\n",
       "    <tr>\n",
       "      <th>1435</th>\n",
       "      <td>07/12/16 10:30:00 AM</td>\n",
       "    </tr>\n",
       "    <tr>\n",
       "      <th>1436</th>\n",
       "      <td>07/12/16 10:45:00 AM</td>\n",
       "    </tr>\n",
       "    <tr>\n",
       "      <th>1437</th>\n",
       "      <td>07/12/16 10:49:31 AM</td>\n",
       "    </tr>\n",
       "    <tr>\n",
       "      <th>1438</th>\n",
       "      <td>07/12/16 10:49:47 AM</td>\n",
       "    </tr>\n",
       "  </tbody>\n",
       "</table>\n",
       "<p>1438 rows × 1 columns</p>\n",
       "</div>"
      ],
      "text/plain": [
       "                     dates\n",
       "1     06/27/16 12:00:00 PM\n",
       "2     06/27/16 12:15:00 PM\n",
       "3     06/27/16 12:30:00 PM\n",
       "4     06/27/16 12:45:00 PM\n",
       "5     06/27/16 01:00:00 PM\n",
       "...                    ...\n",
       "1434  07/12/16 10:15:00 AM\n",
       "1435  07/12/16 10:30:00 AM\n",
       "1436  07/12/16 10:45:00 AM\n",
       "1437  07/12/16 10:49:31 AM\n",
       "1438  07/12/16 10:49:47 AM\n",
       "\n",
       "[1438 rows x 1 columns]"
      ]
     },
     "execution_count": 733,
     "metadata": {},
     "output_type": "execute_result"
    }
   ],
   "source": [
    "capteur_ZH[[\"dates\"]]"
   ]
  },
  {
   "cell_type": "markdown",
   "metadata": {
    "_cell_guid": "dbdacb7c-10d4-4b0a-8f6b-6d4a940ca446",
    "_uuid": "d88dbc08ab145fd20f86073b027c53f40fd306bc"
   },
   "source": [
    "Remarquez qu'en bas de la sortie de `head()`, vous pouvez voir qu'il est dit que le type de données de cette colonne est \"object\". \n",
    "\n",
    "> Pandas utilise le dtype \"object\" pour stocker différents types de données, mais le plus souvent, lorsque vous voyez une colonne avec le dtype \"object\", elle contient des chaînes de caractères. \n",
    "\n",
    "Si vous consultez la documentation sur le dtype de Pandas [ici] (http://pandas.pydata.org/pandas-docs/stable/basics.html#dtypes), vous remarquerez qu'il existe également un dtype spécifique `datetime64`. Comme le dtype de notre colonne est `object` plutôt que `datetime64`, nous pouvons dire que Python ne sait pas que cette colonne contient des dates.\n",
    "\n",
    "Nous pouvons aussi regarder uniquement le dtype de votre colonne sans imprimer les premières lignes si nous le souhaitons :"
   ]
  },
  {
   "cell_type": "code",
   "execution_count": 734,
   "metadata": {
    "_cell_guid": "56a047f4-cbf7-4914-951c-a04310ee7432",
    "_uuid": "e2ab2ac80aaac7b165b3af64edb75d29f2612482",
    "jupyter": {
     "outputs_hidden": true
    }
   },
   "outputs": [
    {
     "data": {
      "text/html": [
       "<div>\n",
       "<style scoped>\n",
       "    .dataframe tbody tr th:only-of-type {\n",
       "        vertical-align: middle;\n",
       "    }\n",
       "\n",
       "    .dataframe tbody tr th {\n",
       "        vertical-align: top;\n",
       "    }\n",
       "\n",
       "    .dataframe thead th {\n",
       "        text-align: right;\n",
       "    }\n",
       "</style>\n",
       "<table border=\"1\" class=\"dataframe\">\n",
       "  <thead>\n",
       "    <tr style=\"text-align: right;\">\n",
       "      <th></th>\n",
       "      <th>dates</th>\n",
       "    </tr>\n",
       "  </thead>\n",
       "  <tbody>\n",
       "    <tr>\n",
       "      <th>1</th>\n",
       "      <td>06/27/16 12:00:00 PM</td>\n",
       "    </tr>\n",
       "    <tr>\n",
       "      <th>2</th>\n",
       "      <td>06/27/16 12:15:00 PM</td>\n",
       "    </tr>\n",
       "    <tr>\n",
       "      <th>3</th>\n",
       "      <td>06/27/16 12:30:00 PM</td>\n",
       "    </tr>\n",
       "    <tr>\n",
       "      <th>4</th>\n",
       "      <td>06/27/16 12:45:00 PM</td>\n",
       "    </tr>\n",
       "    <tr>\n",
       "      <th>5</th>\n",
       "      <td>06/27/16 01:00:00 PM</td>\n",
       "    </tr>\n",
       "    <tr>\n",
       "      <th>...</th>\n",
       "      <td>...</td>\n",
       "    </tr>\n",
       "    <tr>\n",
       "      <th>1434</th>\n",
       "      <td>07/12/16 10:15:00 AM</td>\n",
       "    </tr>\n",
       "    <tr>\n",
       "      <th>1435</th>\n",
       "      <td>07/12/16 10:30:00 AM</td>\n",
       "    </tr>\n",
       "    <tr>\n",
       "      <th>1436</th>\n",
       "      <td>07/12/16 10:45:00 AM</td>\n",
       "    </tr>\n",
       "    <tr>\n",
       "      <th>1437</th>\n",
       "      <td>07/12/16 10:49:31 AM</td>\n",
       "    </tr>\n",
       "    <tr>\n",
       "      <th>1438</th>\n",
       "      <td>07/12/16 10:49:47 AM</td>\n",
       "    </tr>\n",
       "  </tbody>\n",
       "</table>\n",
       "<p>1438 rows × 1 columns</p>\n",
       "</div>"
      ],
      "text/plain": [
       "                     dates\n",
       "1     06/27/16 12:00:00 PM\n",
       "2     06/27/16 12:15:00 PM\n",
       "3     06/27/16 12:30:00 PM\n",
       "4     06/27/16 12:45:00 PM\n",
       "5     06/27/16 01:00:00 PM\n",
       "...                    ...\n",
       "1434  07/12/16 10:15:00 AM\n",
       "1435  07/12/16 10:30:00 AM\n",
       "1436  07/12/16 10:45:00 AM\n",
       "1437  07/12/16 10:49:31 AM\n",
       "1438  07/12/16 10:49:47 AM\n",
       "\n",
       "[1438 rows x 1 columns]"
      ]
     },
     "execution_count": 734,
     "metadata": {},
     "output_type": "execute_result"
    }
   ],
   "source": [
    "# check the data type of our date column\n",
    "capteur_ZH[[\"dates\"]]"
   ]
  },
  {
   "cell_type": "code",
   "execution_count": 735,
   "metadata": {},
   "outputs": [
    {
     "data": {
      "text/plain": [
       "#                        object\n",
       "dates                    object\n",
       "temperature_depth_1_C    object\n",
       "temperature_depth_2_C    object\n",
       "temperature_depth_3_C    object\n",
       "temperature_depth_4_C    object\n",
       "dtype: object"
      ]
     },
     "execution_count": 735,
     "metadata": {},
     "output_type": "execute_result"
    }
   ],
   "source": [
    "capteur_ZH.dtypes"
   ]
  },
  {
   "cell_type": "markdown",
   "metadata": {
    "_cell_guid": "99a207db-3db0-4343-9805-58753f51f6e8",
    "_uuid": "06e6483764014a04e7a1f34525e2f12aee5fdab8"
   },
   "source": [
    "You may have to check the [numpy documentation](https://docs.scipy.org/doc/numpy-1.12.0/reference/generated/numpy.dtype.kind.html#numpy.dtype.kind) to match the letter code to the dtype of the object. \"O\" is the code for \"object\", so we can see that these two methods give us the same information."
   ]
  },
  {
   "cell_type": "markdown",
   "metadata": {
    "_cell_guid": "fb3b552b-411b-4fc0-b1e6-a3a8156fd459",
    "_uuid": "0939ce269aef7001e35cc8f2a5f1eed1f6160940"
   },
   "source": [
    "## Convertir nos colonnes de date en datetime\n",
    "___\n",
    "\n",
    "Maintenant que nous savons que notre colonne de date n'est pas reconnue comme une date, il est temps de la convertir pour qu'elle soit reconnue comme une date. Cette opération est appelée \"analyse syntaxique des dates\" car nous prenons une chaîne de caractères et identifions ses composants. Nous allons utiliser la fonction pd.to_datetime.\n",
    "\n",
    "Nous pouvons indiquer à pandas le format de nos dates à l'aide d'un guide appelé [\"strftime directive\", sur lequel vous trouverez plus d'informations à ce lien] (http://strftime.org/). L'idée de base est que vous devez indiquer quelles parties de la date se trouvent où et quelle ponctuation se trouve entre elles. Il existe [de nombreuses parties possibles d'une date](http://strftime.org/), mais les plus courantes sont `%d` pour le jour, `%m` pour le mois, `%y` pour une année à deux chiffres et `%Y` pour une année à quatre chiffres.\n",
    "\n",
    "Quelques exemples :\n",
    "\n",
    " * Le 17 janvier 2007 a le format \"%m/%d/%y\".\n",
    " * 17-1-2007 a le format \"%d-%m-%Y\".\n",
    " "
   ]
  },
  {
   "cell_type": "code",
   "execution_count": 736,
   "metadata": {
    "_cell_guid": "f955aa17-ede7-4457-a913-ba1c44f8846d",
    "_uuid": "a471aae50241b245caa0c60fbb19821372682b76",
    "jupyter": {
     "outputs_hidden": true
    }
   },
   "outputs": [],
   "source": [
    "capteur_riviere['dates'] = pd.to_datetime(capteur_riviere['dates'], infer_datetime_format=True)\n",
    "capteur_ZH['dates'] = pd.to_datetime(capteur_ZH['dates'], infer_datetime_format=True)"
   ]
  },
  {
   "cell_type": "code",
   "execution_count": 737,
   "metadata": {},
   "outputs": [
    {
     "data": {
      "text/html": [
       "<div>\n",
       "<style scoped>\n",
       "    .dataframe tbody tr th:only-of-type {\n",
       "        vertical-align: middle;\n",
       "    }\n",
       "\n",
       "    .dataframe tbody tr th {\n",
       "        vertical-align: top;\n",
       "    }\n",
       "\n",
       "    .dataframe thead th {\n",
       "        text-align: right;\n",
       "    }\n",
       "</style>\n",
       "<table border=\"1\" class=\"dataframe\">\n",
       "  <thead>\n",
       "    <tr style=\"text-align: right;\">\n",
       "      <th></th>\n",
       "      <th>dates</th>\n",
       "      <th>charge_diff</th>\n",
       "      <th>temperature_stream_C</th>\n",
       "    </tr>\n",
       "  </thead>\n",
       "  <tbody>\n",
       "    <tr>\n",
       "      <th>1</th>\n",
       "      <td>2016-06-27 12:00:00</td>\n",
       "      <td>-0.066370</td>\n",
       "      <td>18.342</td>\n",
       "    </tr>\n",
       "    <tr>\n",
       "      <th>2</th>\n",
       "      <td>2016-06-27 12:15:00</td>\n",
       "      <td>0.078006</td>\n",
       "      <td>13.898</td>\n",
       "    </tr>\n",
       "    <tr>\n",
       "      <th>3</th>\n",
       "      <td>2016-06-27 12:30:00</td>\n",
       "      <td>-0.017958</td>\n",
       "      <td>13.915</td>\n",
       "    </tr>\n",
       "    <tr>\n",
       "      <th>4</th>\n",
       "      <td>2016-06-27 12:45:00</td>\n",
       "      <td>-0.044468</td>\n",
       "      <td>13.939</td>\n",
       "    </tr>\n",
       "    <tr>\n",
       "      <th>5</th>\n",
       "      <td>2016-06-27 13:00:00</td>\n",
       "      <td>-0.043853</td>\n",
       "      <td>13.967</td>\n",
       "    </tr>\n",
       "  </tbody>\n",
       "</table>\n",
       "</div>"
      ],
      "text/plain": [
       "                dates  charge_diff temperature_stream_C\n",
       "1 2016-06-27 12:00:00    -0.066370               18.342\n",
       "2 2016-06-27 12:15:00     0.078006               13.898\n",
       "3 2016-06-27 12:30:00    -0.017958               13.915\n",
       "4 2016-06-27 12:45:00    -0.044468               13.939\n",
       "5 2016-06-27 13:00:00    -0.043853               13.967"
      ]
     },
     "execution_count": 737,
     "metadata": {},
     "output_type": "execute_result"
    }
   ],
   "source": [
    "capteur_riviere.head()"
   ]
  },
  {
   "cell_type": "code",
   "execution_count": 738,
   "metadata": {},
   "outputs": [
    {
     "data": {
      "text/plain": [
       "dates                   datetime64[ns]\n",
       "charge_diff                    float64\n",
       "temperature_stream_C            object\n",
       "dtype: object"
      ]
     },
     "execution_count": 738,
     "metadata": {},
     "output_type": "execute_result"
    }
   ],
   "source": [
    "capteur_riviere.dtypes"
   ]
  },
  {
   "cell_type": "code",
   "execution_count": 739,
   "metadata": {},
   "outputs": [
    {
     "data": {
      "text/plain": [
       "#                                object\n",
       "dates                    datetime64[ns]\n",
       "temperature_depth_1_C            object\n",
       "temperature_depth_2_C            object\n",
       "temperature_depth_3_C            object\n",
       "temperature_depth_4_C            object\n",
       "dtype: object"
      ]
     },
     "execution_count": 739,
     "metadata": {},
     "output_type": "execute_result"
    }
   ],
   "source": [
    "capteur_ZH.dtypes"
   ]
  },
  {
   "cell_type": "markdown",
   "metadata": {
    "_cell_guid": "7bd8f8b6-8a60-4a12-b94b-4100188845da",
    "_uuid": "fc95b22f0f4d7a6bc0cb1a7cc55abfb204cc81f9"
   },
   "source": [
    "Maintenant que nos dates sont analysées correctement, nous pouvons travailler avec celles-ci.\n",
    "\n",
    "___\n",
    "* Bien que nous spécifions le format de la date ici, il arrive parfois que vous rencontriez une erreur lorsque plusieurs formats de date sont présents dans une même colonne. Dans ce cas, vous pouvez demander à pandas de déduire le bon format de date. Vous pouvez le faire comme suit :\n",
    "\n",
    "`capteur_riviere['date'] = pd.to_datetime(capteur_riviere['date'], infer_datetime_format=True)``\n",
    "\n",
    "**Pourquoi ne pas toujours utiliser `infer_datetime_format = True?`** Il y a deux grandes raisons de ne pas toujours faire deviner à pandas le format de l'heure. La première est que pandas n'est toujours capable de trouver le bon format de date, surtout si quelqu'un a fait preuve de créativité dans la saisie des données. La seconde est que c'est beaucoup plus lent que de spécifier le format exact des dates.\n",
    "____"
   ]
  },
  {
   "cell_type": "markdown",
   "metadata": {
    "_cell_guid": "fe33df7d-c85d-4b61-b572-5682e6eea81b",
    "_uuid": "a2cec7b480ef13c070d40ca0e0763d2d30a86a9c"
   },
   "source": [
    "## Tracer le jour du mois pour vérifier l'analyse de la date\n",
    "___\n",
    "\n",
    "L'un des plus grands dangers de l'analyse des dates est de mélanger les mois et les jours. La fonction to_datetime() a des messages d'erreur très utiles, mais il n'est pas inutile de vérifier que les jours du mois que nous avons extraits ont un sens. \n",
    "\n",
    "Pour ce faire, nous allons tracer un histogramme des jours du mois. Nous nous attendons à ce qu'il ait des valeurs entre 1 et 31 et, puisqu'il n'y a aucune raison de supposer que les glissements de terrain sont plus fréquents certains jours du mois que d'autres, une distribution relativement égale. (Avec un creux sur 31 car tous les mois n'ont pas 31 jours.) "
   ]
  },
  {
   "cell_type": "code",
   "execution_count": 740,
   "metadata": {
    "_cell_guid": "49feb18f-c077-474e-9353-a24ae850acf6",
    "_uuid": "d3d5a143d3d49e10187e420abfe9cfe18c7bac56",
    "jupyter": {
     "outputs_hidden": true
    }
   },
   "outputs": [
    {
     "data": {
      "text/plain": [
       "<AxesSubplot:>"
      ]
     },
     "execution_count": 740,
     "metadata": {},
     "output_type": "execute_result"
    },
    {
     "data": {
      "image/png": "[encoded data removed]",
      "text/plain": [
       "<Figure size 1440x720 with 1 Axes>"
      ]
     },
     "metadata": {
      "needs_background": "light"
     },
     "output_type": "display_data"
    }
   ],
   "source": [
    "capteur_riviere['dates'].dt.day.hist(bins=31)"
   ]
  },
  {
   "cell_type": "code",
   "execution_count": 741,
   "metadata": {},
   "outputs": [
    {
     "data": {
      "text/plain": [
       "<AxesSubplot:>"
      ]
     },
     "execution_count": 741,
     "metadata": {},
     "output_type": "execute_result"
    },
    {
     "data": {
      "image/png": "[encoded data removed]",
      "text/plain": [
       "<Figure size 1440x720 with 1 Axes>"
      ]
     },
     "metadata": {
      "needs_background": "light"
     },
     "output_type": "display_data"
    }
   ],
   "source": [
    "capteur_ZH['dates'].dt.day.hist(bins=31)"
   ]
  },
  {
   "cell_type": "markdown",
   "metadata": {},
   "source": [
    "# Valeurs aberrantes\n",
    "\n",
    "L'un des plus grands défis du nettoyage des données est l'identification et le traitement des valeurs aberrantes. En termes simples, les valeurs aberrantes sont des observations qui sont significativement différentes des autres points de données. Même les meilleurs algorithmes d'estimation des paramètres automatique seront moins performants si les observations aberrantes ne sont pas nettoyées des données, car elles impliquent des simulations obsolètes des variables.\n",
    "\n"
   ]
  },
  {
   "cell_type": "code",
   "execution_count": 742,
   "metadata": {},
   "outputs": [],
   "source": [
    "capteur_riviere['temperature_stream_C'] = capteur_riviere['temperature_stream_C'].astype(float)\n",
    "capteur_ZH['temperature_depth_1_C'] = capteur_ZH['temperature_depth_1_C'].astype(float)\n",
    "capteur_ZH['temperature_depth_2_C'] = capteur_ZH['temperature_depth_2_C'].astype(float)\n",
    "capteur_ZH['temperature_depth_3_C'] = capteur_ZH['temperature_depth_3_C'].astype(float)\n",
    "capteur_ZH['temperature_depth_4_C'] = capteur_ZH['temperature_depth_4_C'].astype(float)"
   ]
  },
  {
   "cell_type": "code",
   "execution_count": 743,
   "metadata": {},
   "outputs": [
    {
     "name": "stdout",
     "output_type": "stream",
     "text": [
      "<class 'pandas.core.frame.DataFrame'>\n",
      "Int64Index: 1460 entries, 1 to 1460\n",
      "Data columns (total 3 columns):\n",
      " #   Column                Non-Null Count  Dtype         \n",
      "---  ------                --------------  -----         \n",
      " 0   dates                 1460 non-null   datetime64[ns]\n",
      " 1   charge_diff           1460 non-null   float64       \n",
      " 2   temperature_stream_C  1460 non-null   float64       \n",
      "dtypes: datetime64[ns](1), float64(2)\n",
      "memory usage: 45.6 KB\n",
      "None\n"
     ]
    }
   ],
   "source": [
    "print(capteur_riviere.info())"
   ]
  },
  {
   "cell_type": "markdown",
   "metadata": {},
   "source": []
  },
  {
   "cell_type": "markdown",
   "metadata": {},
   "source": [
    "## Identification des valeurs aberrantes\n",
    "\n",
    "La présence de valeurs aberrantes dans les données peut avoir de nombreuses raisons. Parfois, les valeurs aberrantes peuvent être authentiques, alors que dans d'autres cas, elles peuvent être dues à des erreurs de saisie de données. Il est important de comprendre les raisons des valeurs aberrantes avant de les nettoyer.\n",
    "\n",
    "Nous allons commencer le processus de recherche des valeurs aberrantes en exécutant les statistiques sommaires sur les variables. Pour ce faire, nous utilisons la fonction describe() ci-dessous, qui fournit un résumé statistique de toutes les variables quantitatives.\n",
    "\n",
    "\n"
   ]
  },
  {
   "cell_type": "markdown",
   "metadata": {},
   "source": [
    "## Tracez les graphiques de distribution pour les différentes variables"
   ]
  },
  {
   "cell_type": "code",
   "execution_count": 744,
   "metadata": {},
   "outputs": [
    {
     "data": {
      "text/plain": [
       "<bound method NDFrame.describe of                    dates  charge_diff  temperature_stream_C\n",
       "1    2016-06-27 12:00:00    -0.066370                18.342\n",
       "2    2016-06-27 12:15:00     0.078006                13.898\n",
       "3    2016-06-27 12:30:00    -0.017958                13.915\n",
       "4    2016-06-27 12:45:00    -0.044468                13.939\n",
       "5    2016-06-27 13:00:00    -0.043853                13.967\n",
       "...                  ...          ...                   ...\n",
       "1456 2016-07-12 15:45:00     0.036917                 9.126\n",
       "1457 2016-07-12 16:00:00    -0.098821                 9.157\n",
       "1458 2016-07-12 16:15:00    -0.135895                 9.199\n",
       "1459 2016-07-12 16:30:00    -0.152782                 9.244\n",
       "1460 2016-07-12 16:45:00    -0.162478                 9.290\n",
       "\n",
       "[1460 rows x 3 columns]>"
      ]
     },
     "execution_count": 744,
     "metadata": {},
     "output_type": "execute_result"
    }
   ],
   "source": [
    "capteur_riviere.describe"
   ]
  },
  {
   "cell_type": "markdown",
   "metadata": {},
   "source": [
    "#### 1. Box plot\n",
    "\n",
    "Le box plot est une manière standardisée d'afficher la distribution des données sur la base du résumé en cinq chiffres (minimum, premier quartile (Q1), médiane, troisième quartile (Q3) et maximum). Elle est souvent utilisée pour identifier la distribution des données et détecter les valeurs aberrantes. La ligne de code ci-dessous trace le box plot de la variable numérique 'Loan_amount'. "
   ]
  },
  {
   "cell_type": "code",
   "execution_count": 745,
   "metadata": {},
   "outputs": [
    {
     "data": {
      "text/plain": [
       "<AxesSubplot:>"
      ]
     },
     "execution_count": 745,
     "metadata": {},
     "output_type": "execute_result"
    },
    {
     "data": {
      "image/png": "[encoded data removed]",
      "text/plain": [
       "<Figure size 1440x720 with 1 Axes>"
      ]
     },
     "metadata": {
      "needs_background": "light"
     },
     "output_type": "display_data"
    }
   ],
   "source": [
    "capteur_riviere.boxplot()"
   ]
  },
  {
   "cell_type": "code",
   "execution_count": 746,
   "metadata": {},
   "outputs": [
    {
     "data": {
      "text/plain": [
       "<AxesSubplot:>"
      ]
     },
     "execution_count": 746,
     "metadata": {},
     "output_type": "execute_result"
    },
    {
     "data": {
      "image/png": "[encoded data removed]",
      "text/plain": [
       "<Figure size 1440x720 with 1 Axes>"
      ]
     },
     "metadata": {
      "needs_background": "light"
     },
     "output_type": "display_data"
    }
   ],
   "source": [
    "capteur_ZH.boxplot()"
   ]
  },
  {
   "cell_type": "markdown",
   "metadata": {},
   "source": [
    "## 2. Histogramme\n",
    "\n",
    "Un histogramme est utilisé pour visualiser la distribution d'une variable numérique. Une valeur aberrante apparaît en dehors du modèle général de distribution. La ligne de code ci-dessous trace un histogramme de la variable 'Revenu', en utilisant la fonction hist(). A histogram is used to visualize the distribution of a numerical variable. An outlier will appear outside the overall pattern of distribution. The line of code below plots a histogram of the 'Income' variable, using the hist() function. "
   ]
  },
  {
   "cell_type": "code",
   "execution_count": 747,
   "metadata": {},
   "outputs": [
    {
     "data": {
      "text/plain": [
       "Text(0.5, 1.0, 'Histogramme de temperature_stream_C')"
      ]
     },
     "execution_count": 747,
     "metadata": {},
     "output_type": "execute_result"
    },
    {
     "data": {
      "image/png": "[encoded data removed]",
      "text/plain": [
       "<Figure size 1440x720 with 1 Axes>"
      ]
     },
     "metadata": {
      "needs_background": "light"
     },
     "output_type": "display_data"
    }
   ],
   "source": [
    "plt.hist(capteur_riviere['temperature_stream_C'])\n",
    "plt.title('Histogramme de temperature_stream_C')"
   ]
  },
  {
   "cell_type": "code",
   "execution_count": 748,
   "metadata": {},
   "outputs": [
    {
     "data": {
      "text/plain": [
       "Text(0.5, 1.0, 'Histogramme de charge_diff')"
      ]
     },
     "execution_count": 748,
     "metadata": {},
     "output_type": "execute_result"
    },
    {
     "data": {
      "image/png": "[encoded data removed]",
      "text/plain": [
       "<Figure size 1440x720 with 1 Axes>"
      ]
     },
     "metadata": {
      "needs_background": "light"
     },
     "output_type": "display_data"
    }
   ],
   "source": [
    "plt.hist(capteur_riviere['charge_diff'])\n",
    "plt.title('Histogramme de charge_diff')"
   ]
  },
  {
   "cell_type": "code",
   "execution_count": 749,
   "metadata": {},
   "outputs": [
    {
     "data": {
      "text/plain": [
       "Text(0.5, 1.0, 'Histogramme de la température du capteur ZH à la profondeur 1')"
      ]
     },
     "execution_count": 749,
     "metadata": {},
     "output_type": "execute_result"
    },
    {
     "data": {
      "image/png": "[encoded data removed]",
      "text/plain": [
       "<Figure size 1440x720 with 1 Axes>"
      ]
     },
     "metadata": {
      "needs_background": "light"
     },
     "output_type": "display_data"
    }
   ],
   "source": [
    "plt.hist(capteur_ZH['temperature_depth_1_C'])\n",
    "plt.title('Histogramme de la température du capteur ZH à la profondeur 1')"
   ]
  },
  {
   "cell_type": "code",
   "execution_count": 750,
   "metadata": {},
   "outputs": [
    {
     "data": {
      "text/plain": [
       "Text(0.5, 1.0, 'Histogramme de la température du capteur ZH à la profondeur 2')"
      ]
     },
     "execution_count": 750,
     "metadata": {},
     "output_type": "execute_result"
    },
    {
     "data": {
      "image/png": "[encoded data removed]",
      "text/plain": [
       "<Figure size 1440x720 with 1 Axes>"
      ]
     },
     "metadata": {
      "needs_background": "light"
     },
     "output_type": "display_data"
    }
   ],
   "source": [
    "plt.hist(capteur_ZH['temperature_depth_2_C'])\n",
    "plt.title('Histogramme de la température du capteur ZH à la profondeur 2')"
   ]
  },
  {
   "cell_type": "code",
   "execution_count": 751,
   "metadata": {},
   "outputs": [
    {
     "data": {
      "text/plain": [
       "Text(0.5, 1.0, 'Histogramme de la température du capteur ZH à la profondeur 3')"
      ]
     },
     "execution_count": 751,
     "metadata": {},
     "output_type": "execute_result"
    },
    {
     "data": {
      "image/png": "[encoded data removed]",
      "text/plain": [
       "<Figure size 1440x720 with 1 Axes>"
      ]
     },
     "metadata": {
      "needs_background": "light"
     },
     "output_type": "display_data"
    }
   ],
   "source": [
    "plt.hist(capteur_ZH['temperature_depth_3_C'])\n",
    "plt.title('Histogramme de la température du capteur ZH à la profondeur 3')"
   ]
  },
  {
   "cell_type": "code",
   "execution_count": 752,
   "metadata": {},
   "outputs": [
    {
     "data": {
      "text/plain": [
       "Text(0.5, 1.0, 'Histogramme de la température du capteur ZH à la profondeur 4')"
      ]
     },
     "execution_count": 752,
     "metadata": {},
     "output_type": "execute_result"
    },
    {
     "data": {
      "image/png": "[encoded data removed]",
      "text/plain": [
       "<Figure size 1440x720 with 1 Axes>"
      ]
     },
     "metadata": {
      "needs_background": "light"
     },
     "output_type": "display_data"
    }
   ],
   "source": [
    "plt.hist(capteur_ZH['temperature_depth_4_C'])\n",
    "plt.title('Histogramme de la température du capteur ZH à la profondeur 4')"
   ]
  },
  {
   "cell_type": "markdown",
   "metadata": {},
   "source": [
    "## 3. Scatterplot\n",
    "\n",
    "Un nuage de points permet de visualiser la relation entre deux variables quantitatives. Les données sont affichées sous la forme d'une collection de points, et tout point qui ne correspond pas au regroupement général des deux variables peut indiquer des valeurs aberrantes. \n",
    "\n",
    "génèrez un nuage de points entre les différentes variables de températures. \n",
    "\n"
   ]
  },
  {
   "cell_type": "code",
   "execution_count": 753,
   "metadata": {},
   "outputs": [
    {
     "data": {
      "text/plain": [
       "Text(0, 0.5, 'Temperature (en °C)')"
      ]
     },
     "execution_count": 753,
     "metadata": {},
     "output_type": "execute_result"
    },
    {
     "data": {
      "image/png": "[encoded data removed]",
      "text/plain": [
       "<Figure size 1440x720 with 1 Axes>"
      ]
     },
     "metadata": {
      "needs_background": "light"
     },
     "output_type": "display_data"
    }
   ],
   "source": [
    "plt.scatter(capteur_riviere['charge_diff'],capteur_riviere['temperature_stream_C'])\n",
    "plt.xlabel('charge différentielle (en m)')\n",
    "plt.ylabel('Temperature (en °C)')"
   ]
  },
  {
   "cell_type": "markdown",
   "metadata": {},
   "source": [
    "## Identification des valeurs aberrantes avec l'écart interquartile (IQR)\n",
    "\n",
    "L'écart interquartile (IQR) est une mesure de la dispersion statistique et est calculé comme la différence entre les 75e et 25e percentiles. Il est représenté par la formule IQR = Q3 - Q1. Les  lignes de code ci-dessous calculent et impriment l'écart interquartile pour chacune des variables de l'ensemble de données.  La règle générale est que tout ce qui n'est pas dans la plage de (Q1 - 1,5 IQR) et (Q3 + 1,5 IQR) est une valeur aberrante et peut être supprimé.\n"
   ]
  },
  {
   "cell_type": "markdown",
   "metadata": {},
   "source": [
    "### Fonctions d'assistance\n",
    "\n",
    "Ecrire des fonctions afin d'examiner chaque colonne des deux fichiers de données de terain et de calculer les 1er et 3e quartiles, l'intervalle inter-quartile et le minimum et le maximum. Toute valeur en dehors du minimum et du maximum est une valeur aberrante."
   ]
  },
  {
   "cell_type": "code",
   "execution_count": 40,
   "metadata": {},
   "outputs": [],
   "source": [
    "def assistance(df,nom_colonne,coef):#on introduit l'argument coef pour pouvoir utiliser la méthode IQR avec une place [Q1-coef*IQR;Q3+coef*IQR] avec coef!=1.5 sion le souhaite\n",
    "    q1 = df[nom_colonne].quantile(0.25)\n",
    "    q3 = df[nom_colonne].quantile(0.75)\n",
    "    iqr = q3-q1\n",
    "    minimum = q1 - coef*iqr\n",
    "    maximum = q3 + coef*iqr\n",
    "    return minimum,maximum"
   ]
  },
  {
   "cell_type": "markdown",
   "metadata": {},
   "source": [
    "### Résolution de la distribution asymétrique…\n",
    "\n",
    "A partir de nos données dans un histogramme, nous pouvons obtenir une distribution asymétrique des données. Une seule grande barre avec de minuscules barres à gauche ou à droite (ou les deux) est un signe révélateur que des valeurs aberrantes peuvent être présentes dans les données et cela signifie que notre bel histogramme, bien rangé et normalement distribué, est complètement caché et obscurci par le seul grand bar.\n",
    "\n",
    "\n",
    "Lorsque nous observons ce modèle, nous devons supprimer les valeurs aberrantes, puis voir à quoi ressemble la nouvelle distribution. Si nous voulons vérifier la présence de valeurs aberrantes, une boîte à moustaches rapide confirmera ou refusera…"
   ]
  },
  {
   "cell_type": "markdown",
   "metadata": {},
   "source": []
  },
  {
   "cell_type": "markdown",
   "metadata": {},
   "source": [
    "## Suppression des valeurs aberrantes et visualisation du résultat\n",
    "\n",
    "Après avoir fait tout le gros du travail dans les fonctions d'assistance, nous pouvons maintenant supprimer les lignes des données qui contiennent des valeurs aberrantes en dehors de | - et - | moustaches…\n",
    "\n"
   ]
  },
  {
   "cell_type": "code",
   "execution_count": 755,
   "metadata": {},
   "outputs": [],
   "source": [
    "bornes_charge_diff = assistance(capteur_riviere,'charge_diff',1.5)\n",
    "bornes_temperature = assistance(capteur_riviere,'temperature_stream_C',1.5)"
   ]
  },
  {
   "cell_type": "code",
   "execution_count": 756,
   "metadata": {},
   "outputs": [],
   "source": [
    "index = capteur_riviere.index\n",
    "capteur_riviere2=capteur_riviere.drop(index[(capteur_riviere['charge_diff']<bornes_charge_diff[0])|(capteur_riviere['charge_diff']>bornes_charge_diff[1])|(capteur_riviere['temperature_stream_C']<bornes_temperature[0])|(capteur_riviere['temperature_stream_C']>bornes_temperature[1])])\n",
    "#on supprime les observations qui ont une valeur de charge differentielle ou de temperature qui est soit\n",
    "#inférieure au minimum soit supérieure au maximum"
   ]
  },
  {
   "cell_type": "code",
   "execution_count": 757,
   "metadata": {},
   "outputs": [
    {
     "data": {
      "text/html": [
       "<div>\n",
       "<style scoped>\n",
       "    .dataframe tbody tr th:only-of-type {\n",
       "        vertical-align: middle;\n",
       "    }\n",
       "\n",
       "    .dataframe tbody tr th {\n",
       "        vertical-align: top;\n",
       "    }\n",
       "\n",
       "    .dataframe thead th {\n",
       "        text-align: right;\n",
       "    }\n",
       "</style>\n",
       "<table border=\"1\" class=\"dataframe\">\n",
       "  <thead>\n",
       "    <tr style=\"text-align: right;\">\n",
       "      <th></th>\n",
       "      <th>dates</th>\n",
       "      <th>charge_diff</th>\n",
       "      <th>temperature_stream_C</th>\n",
       "    </tr>\n",
       "  </thead>\n",
       "  <tbody>\n",
       "    <tr>\n",
       "      <th>4</th>\n",
       "      <td>2016-06-27 12:45:00</td>\n",
       "      <td>-0.044468</td>\n",
       "      <td>13.939</td>\n",
       "    </tr>\n",
       "    <tr>\n",
       "      <th>5</th>\n",
       "      <td>2016-06-27 13:00:00</td>\n",
       "      <td>-0.043853</td>\n",
       "      <td>13.967</td>\n",
       "    </tr>\n",
       "    <tr>\n",
       "      <th>6</th>\n",
       "      <td>2016-06-27 13:15:00</td>\n",
       "      <td>-0.041610</td>\n",
       "      <td>13.985</td>\n",
       "    </tr>\n",
       "    <tr>\n",
       "      <th>7</th>\n",
       "      <td>2016-06-27 13:30:00</td>\n",
       "      <td>-0.040623</td>\n",
       "      <td>14.021</td>\n",
       "    </tr>\n",
       "    <tr>\n",
       "      <th>8</th>\n",
       "      <td>2016-06-27 13:45:00</td>\n",
       "      <td>-0.040007</td>\n",
       "      <td>14.062</td>\n",
       "    </tr>\n",
       "    <tr>\n",
       "      <th>...</th>\n",
       "      <td>...</td>\n",
       "      <td>...</td>\n",
       "      <td>...</td>\n",
       "    </tr>\n",
       "    <tr>\n",
       "      <th>1430</th>\n",
       "      <td>2016-07-12 09:15:00</td>\n",
       "      <td>-0.063417</td>\n",
       "      <td>14.214</td>\n",
       "    </tr>\n",
       "    <tr>\n",
       "      <th>1431</th>\n",
       "      <td>2016-07-12 09:30:00</td>\n",
       "      <td>-0.063711</td>\n",
       "      <td>14.237</td>\n",
       "    </tr>\n",
       "    <tr>\n",
       "      <th>1432</th>\n",
       "      <td>2016-07-12 09:45:00</td>\n",
       "      <td>-0.063478</td>\n",
       "      <td>14.255</td>\n",
       "    </tr>\n",
       "    <tr>\n",
       "      <th>1433</th>\n",
       "      <td>2016-07-12 10:00:00</td>\n",
       "      <td>-0.063458</td>\n",
       "      <td>14.279</td>\n",
       "    </tr>\n",
       "    <tr>\n",
       "      <th>1434</th>\n",
       "      <td>2016-07-12 10:15:00</td>\n",
       "      <td>-0.065218</td>\n",
       "      <td>14.285</td>\n",
       "    </tr>\n",
       "  </tbody>\n",
       "</table>\n",
       "<p>1410 rows × 3 columns</p>\n",
       "</div>"
      ],
      "text/plain": [
       "                   dates  charge_diff  temperature_stream_C\n",
       "4    2016-06-27 12:45:00    -0.044468                13.939\n",
       "5    2016-06-27 13:00:00    -0.043853                13.967\n",
       "6    2016-06-27 13:15:00    -0.041610                13.985\n",
       "7    2016-06-27 13:30:00    -0.040623                14.021\n",
       "8    2016-06-27 13:45:00    -0.040007                14.062\n",
       "...                  ...          ...                   ...\n",
       "1430 2016-07-12 09:15:00    -0.063417                14.214\n",
       "1431 2016-07-12 09:30:00    -0.063711                14.237\n",
       "1432 2016-07-12 09:45:00    -0.063478                14.255\n",
       "1433 2016-07-12 10:00:00    -0.063458                14.279\n",
       "1434 2016-07-12 10:15:00    -0.065218                14.285\n",
       "\n",
       "[1410 rows x 3 columns]"
      ]
     },
     "execution_count": 757,
     "metadata": {},
     "output_type": "execute_result"
    }
   ],
   "source": [
    "capteur_riviere2"
   ]
  },
  {
   "cell_type": "code",
   "execution_count": 758,
   "metadata": {},
   "outputs": [],
   "source": [
    "bornes_temperature_depth_1_C = assistance(capteur_ZH,'temperature_depth_1_C',1.5)\n",
    "bornes_temperature_depth_2_C = assistance(capteur_ZH,'temperature_depth_2_C',1.5)\n",
    "bornes_temperature_depth_3_C = assistance(capteur_ZH,'temperature_depth_3_C',1.5)\n",
    "bornes_temperature_depth_4_C = assistance(capteur_ZH,'temperature_depth_4_C',1.5)\n",
    "\n",
    "index = capteur_ZH.index\n",
    "capteur_ZH2 = capteur_ZH.drop(index[(capteur_ZH['temperature_depth_1_C']<bornes_temperature_depth_1_C[0])|(capteur_ZH['temperature_depth_1_C']>bornes_temperature_depth_1_C[1])|(capteur_ZH['temperature_depth_2_C']<bornes_temperature_depth_2_C[0])|(capteur_ZH['temperature_depth_2_C']>bornes_temperature_depth_2_C[1])|(capteur_ZH['temperature_depth_3_C']<bornes_temperature_depth_3_C[0])|(capteur_ZH['temperature_depth_3_C']>bornes_temperature_depth_3_C[1])|(capteur_ZH['temperature_depth_4_C']<bornes_temperature_depth_4_C[0])|(capteur_ZH['temperature_depth_4_C']>bornes_temperature_depth_4_C[1])])"
   ]
  },
  {
   "cell_type": "code",
   "execution_count": 759,
   "metadata": {},
   "outputs": [
    {
     "data": {
      "text/html": [
       "<div>\n",
       "<style scoped>\n",
       "    .dataframe tbody tr th:only-of-type {\n",
       "        vertical-align: middle;\n",
       "    }\n",
       "\n",
       "    .dataframe tbody tr th {\n",
       "        vertical-align: top;\n",
       "    }\n",
       "\n",
       "    .dataframe thead th {\n",
       "        text-align: right;\n",
       "    }\n",
       "</style>\n",
       "<table border=\"1\" class=\"dataframe\">\n",
       "  <thead>\n",
       "    <tr style=\"text-align: right;\">\n",
       "      <th></th>\n",
       "      <th>#</th>\n",
       "      <th>dates</th>\n",
       "      <th>temperature_depth_1_C</th>\n",
       "      <th>temperature_depth_2_C</th>\n",
       "      <th>temperature_depth_3_C</th>\n",
       "      <th>temperature_depth_4_C</th>\n",
       "    </tr>\n",
       "  </thead>\n",
       "  <tbody>\n",
       "    <tr>\n",
       "      <th>1</th>\n",
       "      <td>1</td>\n",
       "      <td>2016-06-27 12:00:00</td>\n",
       "      <td>13.810</td>\n",
       "      <td>13.834</td>\n",
       "      <td>13.858</td>\n",
       "      <td>13.810</td>\n",
       "    </tr>\n",
       "    <tr>\n",
       "      <th>2</th>\n",
       "      <td>2</td>\n",
       "      <td>2016-06-27 12:15:00</td>\n",
       "      <td>13.834</td>\n",
       "      <td>13.858</td>\n",
       "      <td>13.882</td>\n",
       "      <td>13.834</td>\n",
       "    </tr>\n",
       "    <tr>\n",
       "      <th>3</th>\n",
       "      <td>3</td>\n",
       "      <td>2016-06-27 12:30:00</td>\n",
       "      <td>13.930</td>\n",
       "      <td>13.954</td>\n",
       "      <td>14.050</td>\n",
       "      <td>14.002</td>\n",
       "    </tr>\n",
       "    <tr>\n",
       "      <th>4</th>\n",
       "      <td>4</td>\n",
       "      <td>2016-06-27 12:45:00</td>\n",
       "      <td>13.882</td>\n",
       "      <td>13.954</td>\n",
       "      <td>14.026</td>\n",
       "      <td>13.954</td>\n",
       "    </tr>\n",
       "    <tr>\n",
       "      <th>5</th>\n",
       "      <td>5</td>\n",
       "      <td>2016-06-27 13:00:00</td>\n",
       "      <td>13.858</td>\n",
       "      <td>13.930</td>\n",
       "      <td>14.026</td>\n",
       "      <td>13.954</td>\n",
       "    </tr>\n",
       "    <tr>\n",
       "      <th>...</th>\n",
       "      <td>...</td>\n",
       "      <td>...</td>\n",
       "      <td>...</td>\n",
       "      <td>...</td>\n",
       "      <td>...</td>\n",
       "      <td>...</td>\n",
       "    </tr>\n",
       "    <tr>\n",
       "      <th>1433</th>\n",
       "      <td>1433</td>\n",
       "      <td>2016-07-12 10:00:00</td>\n",
       "      <td>14.457</td>\n",
       "      <td>14.721</td>\n",
       "      <td>14.816</td>\n",
       "      <td>14.649</td>\n",
       "    </tr>\n",
       "    <tr>\n",
       "      <th>1434</th>\n",
       "      <td>1434</td>\n",
       "      <td>2016-07-12 10:15:00</td>\n",
       "      <td>14.457</td>\n",
       "      <td>14.697</td>\n",
       "      <td>14.792</td>\n",
       "      <td>14.649</td>\n",
       "    </tr>\n",
       "    <tr>\n",
       "      <th>1435</th>\n",
       "      <td>1435</td>\n",
       "      <td>2016-07-12 10:30:00</td>\n",
       "      <td>15.008</td>\n",
       "      <td>14.792</td>\n",
       "      <td>14.816</td>\n",
       "      <td>14.649</td>\n",
       "    </tr>\n",
       "    <tr>\n",
       "      <th>1437</th>\n",
       "      <td>1437</td>\n",
       "      <td>2016-07-12 10:49:31</td>\n",
       "      <td>NaN</td>\n",
       "      <td>NaN</td>\n",
       "      <td>NaN</td>\n",
       "      <td>NaN</td>\n",
       "    </tr>\n",
       "    <tr>\n",
       "      <th>1438</th>\n",
       "      <td>1438</td>\n",
       "      <td>2016-07-12 10:49:47</td>\n",
       "      <td>NaN</td>\n",
       "      <td>NaN</td>\n",
       "      <td>NaN</td>\n",
       "      <td>NaN</td>\n",
       "    </tr>\n",
       "  </tbody>\n",
       "</table>\n",
       "<p>1286 rows × 6 columns</p>\n",
       "</div>"
      ],
      "text/plain": [
       "         #               dates  temperature_depth_1_C  temperature_depth_2_C  \\\n",
       "1        1 2016-06-27 12:00:00                 13.810                 13.834   \n",
       "2        2 2016-06-27 12:15:00                 13.834                 13.858   \n",
       "3        3 2016-06-27 12:30:00                 13.930                 13.954   \n",
       "4        4 2016-06-27 12:45:00                 13.882                 13.954   \n",
       "5        5 2016-06-27 13:00:00                 13.858                 13.930   \n",
       "...    ...                 ...                    ...                    ...   \n",
       "1433  1433 2016-07-12 10:00:00                 14.457                 14.721   \n",
       "1434  1434 2016-07-12 10:15:00                 14.457                 14.697   \n",
       "1435  1435 2016-07-12 10:30:00                 15.008                 14.792   \n",
       "1437  1437 2016-07-12 10:49:31                    NaN                    NaN   \n",
       "1438  1438 2016-07-12 10:49:47                    NaN                    NaN   \n",
       "\n",
       "      temperature_depth_3_C  temperature_depth_4_C  \n",
       "1                    13.858                 13.810  \n",
       "2                    13.882                 13.834  \n",
       "3                    14.050                 14.002  \n",
       "4                    14.026                 13.954  \n",
       "5                    14.026                 13.954  \n",
       "...                     ...                    ...  \n",
       "1433                 14.816                 14.649  \n",
       "1434                 14.792                 14.649  \n",
       "1435                 14.816                 14.649  \n",
       "1437                    NaN                    NaN  \n",
       "1438                    NaN                    NaN  \n",
       "\n",
       "[1286 rows x 6 columns]"
      ]
     },
     "execution_count": 759,
     "metadata": {},
     "output_type": "execute_result"
    }
   ],
   "source": [
    "capteur_ZH2"
   ]
  },
  {
   "cell_type": "markdown",
   "metadata": {},
   "source": [
    "## Expliquez le résultat\n",
    "est ce que cette méthodologie vous semble suffisante? Tentez de trouver les limites de cette méthodologie?\n",
    "Que pouvez vous apportez aux fonctions afin de les améliorer?"
   ]
  },
  {
   "cell_type": "code",
   "execution_count": 760,
   "metadata": {},
   "outputs": [
    {
     "data": {
      "text/plain": [
       "<AxesSubplot:>"
      ]
     },
     "execution_count": 760,
     "metadata": {},
     "output_type": "execute_result"
    },
    {
     "data": {
      "image/png": "[encoded data removed]",
      "text/plain": [
       "<Figure size 1440x720 with 1 Axes>"
      ]
     },
     "metadata": {
      "needs_background": "light"
     },
     "output_type": "display_data"
    }
   ],
   "source": [
    "capteur_riviere2.boxplot()"
   ]
  },
  {
   "cell_type": "code",
   "execution_count": 761,
   "metadata": {},
   "outputs": [
    {
     "data": {
      "text/plain": [
       "<AxesSubplot:>"
      ]
     },
     "execution_count": 761,
     "metadata": {},
     "output_type": "execute_result"
    },
    {
     "data": {
      "image/png": "[encoded data removed]",
      "text/plain": [
       "<Figure size 1440x720 with 1 Axes>"
      ]
     },
     "metadata": {
      "needs_background": "light"
     },
     "output_type": "display_data"
    }
   ],
   "source": [
    "capteur_ZH2.boxplot()"
   ]
  },
  {
   "cell_type": "markdown",
   "metadata": {},
   "source": [
    "On remarque que la suppression des valeurs aberrantes au sens de l'écart interquartile a permis de supprimer les valeurs aberrantes de charge différentielle et qu'elle a permis de supprimer les valeurs aberrantes de temperature_stream_C à une exception près.\n",
    "Pour la base de données Capteur_ZH, la suppression des valeurs aberrantes au sens de l'écart interquartile a permis de supprimer les valeurs les plus aberrantes (il y avait un point isolé très aberrant à chaque profondeur; ceux-ci ont disparu). Cependant, un groupe de valeurs aberrantes de température assez nombreux persiste, pour chaque profondeur , pour le capteur ZH."
   ]
  },
  {
   "cell_type": "markdown",
   "metadata": {},
   "source": []
  },
  {
   "cell_type": "markdown",
   "metadata": {},
   "source": [
    "## Valeurs abérantes avec la méthode score Z \n",
    "Il s'agit d'une unité mesurée en écart-type. Fondamentalement, il s'agit d'une mesure de la distance entre le score brut et la moyenne. Il est compris entre -3 et +3, où 0 = moyenne et 1 = écart-type, c'est-à-dire une distribution normale.\n",
    "\n",
    "Cette méthode suggère qu'en tout point de données il existe une relation entre l'écart-type et la moyenne. Le score Z permet de trouver la distribution des données où la moyenne est égale à 0 et l'écart-type à 1, c'est-à-dire une distribution normale. Vous devez vous demander en quoi cela peut nous aider à identifier les valeurs aberrantes ? En calculant le score Z, nous redimensionnons et centrons les données et recherchons les points de données qui sont trop éloignés de zéro. Ces points de données qui sont trop éloignés de zéro seront traités comme des valeurs aberrantes. Dans la plupart des cas, un seuil de 3 ou -3 est utilisé, c'est-à-dire que si la valeur du score Z est supérieure ou inférieure à 3 ou -3 respectivement, ce point de données sera identifié comme aberrant.\n",
    "\n",
    "Formule pour le score Z = (Observation - Moyenne)/Écart-type\n",
    "\n",
    "z = (X - μ) / σ\n",
    "\n",
    "Ecrire des functions afin de pouvoir appliquer cette méthodologie aux données"
   ]
  },
  {
   "cell_type": "code",
   "execution_count": 56,
   "metadata": {},
   "outputs": [],
   "source": [
    "def mean_std(df,nom_colonne):\n",
    "    mean = df[nom_colonne].mean()\n",
    "    std = df[nom_colonne].std()\n",
    "    return mean,std"
   ]
  },
  {
   "cell_type": "code",
   "execution_count": 766,
   "metadata": {},
   "outputs": [],
   "source": [
    "seuil = 3"
   ]
  },
  {
   "cell_type": "code",
   "execution_count": 767,
   "metadata": {},
   "outputs": [],
   "source": [
    "mean_std_charge_diff = mean_std(capteur_riviere,'charge_diff')\n",
    "mean_std_temp = mean_std(capteur_riviere,'temperature_stream_C')\n",
    "indices_aberrants = capteur_riviere[((capteur_riviere['charge_diff']-mean_std_charge_diff[0])/mean_std_charge_diff[1]<-seuil)|((capteur_riviere['charge_diff']-mean_std_charge_diff[0])/mean_std_charge_diff[1]>seuil)|((capteur_riviere['temperature_stream_C']-mean_std_temp[0])/mean_std_temp[1]<-seuil)|((capteur_riviere['temperature_stream_C']-mean_std_temp[0])/mean_std_temp[1]>seuil)].index\n",
    "capteur_riviere_clean = capteur_riviere.drop(indices_aberrants)\n",
    "#on retire les observations qui ont un z-score de charge différentielle ou de température inférieur à -3 ou\n",
    "#supérieur à 3"
   ]
  },
  {
   "cell_type": "code",
   "execution_count": 768,
   "metadata": {},
   "outputs": [
    {
     "data": {
      "text/plain": [
       "<AxesSubplot:>"
      ]
     },
     "execution_count": 768,
     "metadata": {},
     "output_type": "execute_result"
    },
    {
     "data": {
      "image/png": "[encoded data removed]",
      "text/plain": [
       "<Figure size 1440x720 with 1 Axes>"
      ]
     },
     "metadata": {
      "needs_background": "light"
     },
     "output_type": "display_data"
    }
   ],
   "source": [
    "capteur_riviere_clean.boxplot()"
   ]
  },
  {
   "cell_type": "code",
   "execution_count": 782,
   "metadata": {},
   "outputs": [],
   "source": [
    "seuil = 3"
   ]
  },
  {
   "cell_type": "code",
   "execution_count": 783,
   "metadata": {},
   "outputs": [],
   "source": [
    "mean_std_1 = mean_std(capteur_ZH,'temperature_depth_1_C')\n",
    "mean_std_2 = mean_std(capteur_ZH,'temperature_depth_2_C')\n",
    "mean_std_3 = mean_std(capteur_ZH,'temperature_depth_3_C')\n",
    "mean_std_4 = mean_std(capteur_ZH,'temperature_depth_4_C')\n",
    "indices_aberrants = capteur_ZH[((capteur_ZH['temperature_depth_1_C']-mean_std_1[0])/mean_std_1[1]<-seuil)|((capteur_ZH['temperature_depth_1_C']-mean_std_1[0])/mean_std_1[1]>seuil)|((capteur_ZH['temperature_depth_2_C']-mean_std_2[0])/mean_std_2[1]<-seuil)|((capteur_ZH['temperature_depth_2_C']-mean_std_2[0])/mean_std_2[1]>seuil)|((capteur_ZH['temperature_depth_3_C']-mean_std_3[0])/mean_std_3[1]<-seuil)|((capteur_ZH['temperature_depth_3_C']-mean_std_3[0])/mean_std_3[1]>seuil)|((capteur_ZH['temperature_depth_4_C']-mean_std_4[0])/mean_std_4[1]<-seuil)|((capteur_ZH['temperature_depth_4_C']-mean_std_4[0])/mean_std_4[1]>seuil)].index\n",
    "capteur_ZH_clean = capteur_ZH.drop(indices_aberrants)"
   ]
  },
  {
   "cell_type": "code",
   "execution_count": 784,
   "metadata": {},
   "outputs": [
    {
     "data": {
      "text/plain": [
       "<AxesSubplot:>"
      ]
     },
     "execution_count": 784,
     "metadata": {},
     "output_type": "execute_result"
    },
    {
     "data": {
      "image/png": "[encoded data removed]",
      "text/plain": [
       "<Figure size 1440x720 with 1 Axes>"
      ]
     },
     "metadata": {
      "needs_background": "light"
     },
     "output_type": "display_data"
    }
   ],
   "source": [
    "capteur_ZH_clean.boxplot("
   ]
  },
  {
   "cell_type": "markdown",
   "metadata": {},
   "source": [
    "## Comparer les deux méthodologies, donner leurs avantages et leurs limitations\n",
    "Vous pouvez proposer des alternatives."
   ]
  },
  {
   "cell_type": "markdown",
   "metadata": {},
   "source": [
    "L'avantage du Z-Score par rapport à l'écart interquartile est qu'il prend en compte à la fois la valeur moyenne de la distribution et sa dispersion (via l'écart-type) tandis que l'écart interquartile prend seulement en compte des inducateurs de dispersion (les quartiles).\n",
    "La limite du Z-score est qu'il suppose que les données suivent une loi gaussienne. Il perd donc de sa pertinence lorsque la distribution est très différente d'une loi normale/gaussienne. À l'inverse, la méthode utilisant l'écart interquartile est adaptable à tout type de loi de distribution."
   ]
  },
  {
   "cell_type": "markdown",
   "metadata": {},
   "source": [
    "## Proposer une fonction permettant d'aller des données brutes jusqu'au premier traitement des données.\n",
    "\n",
    "N'oubliez pas de permettre à l'utilisateur de pouvoir prendre des décisions et de l'aider à prendre ces décisions\n",
    "Pensez à indiquer à l'utilisateur si le jeu de données est utilisable, quels sont les capteurs défaillant, quel semble être l'orientation des échanges nappe-rivière, les données de différence de charge semblent t'elles données les mêmes informations que les données du profils de température.\n",
    "\n",
    "Votre function doit prendre en entrée, les trois fichiers et proposer au fur et à mesure de son dérouler des propositions à l'utilisateur."
   ]
  },
  {
   "cell_type": "markdown",
   "metadata": {},
   "source": [
    "### Notre code\n",
    "\n",
    "Structure de notre code :\n",
    "\n",
    "(i) traitement_donnees : c'est la fonction qui prend en entrée le fichier d'informations sur le point, le fichier de mesures du capteur de la rivière et le fichier de mesures du capteur de la zone hyporhéique et accompagne l'utilisateur jusqu'au premier traitement de données\n",
    "\n",
    "(ii) partie2 : une fonction auxiliaire qui traite spécifiquement le nettoyage des données issues du capteur de la zone hyporhéique\n",
    "\n",
    "(iii) id_defaillant : une fonction auxiliaire qui indique si un capteur est défaillant au vu de la vitesse de variation de température qu'il enregistre\n",
    "\n",
    "(iv) orientation_echanges : une fonction auxiliaire qui trace l'évolution des différences de charge et indique, pour chaque période, l'orientation des échanges et donc le type de régime (infiltratoire/exfiltratoire)\n",
    "\n",
    "(v) coherence : une fonction qui vérifie si les données issues de la différence de charge et des profils de température sont cohérentes entre elles\n"
   ]
  },
  {
   "cell_type": "code",
   "execution_count": 150,
   "metadata": {},
   "outputs": [],
   "source": [
    "import ipywidgets as widgets\n",
    "from ipywidgets import interact, interact_manual\n",
    "def traitement_donnees(fichier_info,P_measures,T_measures):\n",
    "    info = pd.read_csv(fichier_info)\n",
    "    capteur_riviere = pd.read_csv(P_measures,skiprows=1)\n",
    "    if capteur_riviere[capteur_riviere.columns[0]][0]!=1:\n",
    "        capteur_riviere = capteur_riviere.reset_index()\n",
    "    if '46' in T_measures:\n",
    "        capteur_ZH = pd.read_csv(T_measures, skiprows = 1, sep = '\\t')\n",
    "    else:\n",
    "        capteur_ZH = pd.read_csv(T_measures, skiprows = 1)\n",
    "    capteur_riviere = capteur_riviere.rename(columns = {capteur_riviere.columns[0]:'indice',capteur_riviere.columns[1]:'dates', capteur_riviere.columns[2]:'charge_diff',capteur_riviere.columns[3]:'temperature_stream_C'})\n",
    "    capteur_ZH = capteur_ZH.rename(columns = {capteur_ZH.columns[0]:'indice',capteur_ZH.columns[1]:'dates', capteur_ZH.columns[2]:'temperature_depth_1_C',capteur_ZH.columns[3]:'temperature_depth_2_C',capteur_ZH.columns[4]:'temperature_depth_3_C',capteur_ZH.columns[5]:'temperature_depth_4_C'})\n",
    "    ref_capteur_P = info[info['Point_Name']=='P_Sensor_Name'].iloc[0,1]\n",
    "    capteur_P = pd.read_csv(\"../documents/molonari/MOLONARI_1D_RESOURCES/configuration/pressure_sensors/\"+ref_capteur_P+\".csv\")\n",
    "    alpha = float(capteur_P[capteur_P['Sensor_Name']=='dU/dH'].iloc[0,1])\n",
    "    beta = float(capteur_P[capteur_P['Sensor_Name']=='dU/dT'].iloc[0,1])\n",
    "    intercept = float(capteur_P[capteur_P['Sensor_Name']=='Intercept'].iloc[0,1])\n",
    "    capteur_riviere = capteur_riviere.assign(charge_diff=(capteur_riviere['charge_diff'].astype(float)-intercept)/alpha-capteur_riviere['temperature_stream_C'].astype(float)*beta)\n",
    "    ref_shaft = info[info['Point_Name']=='Shaft_Name'].iloc[0,1]\n",
    "    shaft = pd.read_csv(\"../documents/molonari/MOLONARI_1D_RESOURCES/configuration/shafts/\"+ref_shaft+\".csv\")\n",
    "    depths = shaft[shaft['Shaft_Name']=='Sensors_Depth'].iloc[0,1]\n",
    "    depths = depths.replace(' ','').replace('[','').replace(']','').split(',')\n",
    "    capteur_riviere['dates'] = pd.to_datetime(capteur_riviere['dates'], infer_datetime_format=True)\n",
    "    capteur_ZH['dates'] = pd.to_datetime(capteur_ZH['dates'], infer_datetime_format=True)\n",
    "    capteur_riviere['temperature_stream_C'] = capteur_riviere['temperature_stream_C'].astype(float)\n",
    "    capteur_ZH['temperature_depth_1_C'] = capteur_ZH['temperature_depth_1_C'].astype(float)\n",
    "    capteur_ZH['temperature_depth_2_C'] = capteur_ZH['temperature_depth_2_C'].astype(float)\n",
    "    capteur_ZH['temperature_depth_3_C'] = capteur_ZH['temperature_depth_3_C'].astype(float)\n",
    "    capteur_ZH['temperature_depth_4_C'] = capteur_ZH['temperature_depth_4_C'].astype(float)\n",
    "    bornes_charge_diff = assistance(capteur_riviere,'charge_diff',1.5)\n",
    "    bornes_temperature = assistance(capteur_riviere,'temperature_stream_C',1.5)\n",
    "    bornes_1 = assistance(capteur_ZH,'temperature_depth_1_C',1.5)\n",
    "    bornes_2 = assistance(capteur_ZH,'temperature_depth_2_C',1.5)\n",
    "    bornes_3 = assistance(capteur_ZH,'temperature_depth_3_C',1.5)\n",
    "    bornes_4 = assistance(capteur_ZH,'temperature_depth_4_C',1.5)\n",
    "    indices_aberrants_riviere = capteur_riviere[(capteur_riviere['charge_diff']<bornes_charge_diff[0])|(capteur_riviere['charge_diff']>bornes_charge_diff[1])|(capteur_riviere['temperature_stream_C']<bornes_temperature[0])|(capteur_riviere['temperature_stream_C']>bornes_temperature[1])].index\n",
    "    indices_aberrants_ZH = capteur_ZH[(capteur_ZH['temperature_depth_1_C']<bornes_1[0])|(capteur_ZH['temperature_depth_1_C']>bornes_1[1])|(capteur_ZH['temperature_depth_2_C']<bornes_2[0])|(capteur_ZH['temperature_depth_2_C']>bornes_2[1])|(capteur_ZH['temperature_depth_3_C']<bornes_3[0])|(capteur_ZH['temperature_depth_3_C']>bornes_3[1])|(capteur_ZH['temperature_depth_4_C']<bornes_4[0])|(capteur_ZH['temperature_depth_4_C']>bornes_4[1])].index\n",
    "    seuil = 3\n",
    "    print('Capteur rivière :')\n",
    "    if len(indices_aberrants_riviere) == 0 and len(indices_aberrants_ZH)==0:\n",
    "        print('''Ce jeu de données est utilisable. En effet, il ne contient pas de valeurs aberrantes au sens de l'écart interquartile avec un coefficient de 1.5''')\n",
    "        print('Voici ci-dessous la boîte à moustache représentant les données du capteur rivière')\n",
    "        capteur_riviere[['charge_diff','temperature_stream_C']].boxplot()\n",
    "        plt.show()\n",
    "        print('Voici ci-dessous la boîte à moustache représentant les données du capteur ZH')\n",
    "        capteur_ZH[['temperature_depth_1_C','temperature_depth_2_C','temperature_depth_3_C','temperature_depth_4_C']].boxplot()\n",
    "        plt.show()\n",
    "        print('Voici la liste des capteurs défaillants :')\n",
    "        id_defaillant(capteur_riviere, capteur_ZH,depths)\n",
    "        print('''Orientation des échanges nappe-rivière au cours du temps:''')\n",
    "        orientation_echanges(capteur_riviere)\n",
    "        print('Cohérence entre les données de différence de charge et celles des profils de température')\n",
    "        coherence(capteur_riviere, capteur_ZH)\n",
    "    elif len(indices_aberrants_riviere) == 0:\n",
    "        print('''Le jeu de données du capteur rivière est utilisable en l'état''')\n",
    "        print('Voici ci-dessous la boîte à moustache représentant les données du capteur rivière')\n",
    "        capteur_riviere[['charge_diff','temperature_stream_C']].boxplot()\n",
    "        plt.show()\n",
    "        partie2(capteur_ZH,capteur_riviere,depths)\n",
    "    else:\n",
    "        print('''Ce jeu de données n'est pas utilisable en l'état car il contient des valeurs aberrantes au sens de l'écart interquartile avec un coefficient de 1.5''')\n",
    "        plt.subplot(311)\n",
    "        plt.hist(capteur_riviere['charge_diff'])\n",
    "        plt.title('Histogramme de la charge différentielle')\n",
    "        plt.subplot(313)\n",
    "        plt.hist(capteur_riviere['temperature_stream_C'])\n",
    "        plt.title('Histogramme de la température de la rivière')\n",
    "        plt.show()\n",
    "        print(\"Si la distribution des données est proche d'une gaussienne, nous vous recommandons d'utiliser le score Z. Sinon, utilisez l'écart interquartile\")\n",
    "        btn_scorez = widgets.Button(description= 'Score Z')\n",
    "        btn_iqr = widgets.Button(description = 'Ecart interquartile')\n",
    "        display(btn_scorez, btn_iqr)\n",
    "        def applique_scorez(obj):\n",
    "            mean_std_charge_diff = mean_std(capteur_riviere,'charge_diff')\n",
    "            mean_std_temp = mean_std(capteur_riviere,'temperature_stream_C')\n",
    "            def scatter_riviere_zscore(seuil):\n",
    "                indices_aberrants = capteur_riviere[((capteur_riviere['charge_diff']-mean_std_charge_diff[0])/mean_std_charge_diff[1]<-seuil)|((capteur_riviere['charge_diff']-mean_std_charge_diff[0])/mean_std_charge_diff[1]>seuil)|((capteur_riviere['temperature_stream_C']-mean_std_temp[0])/mean_std_temp[1]<-seuil)|((capteur_riviere['temperature_stream_C']-mean_std_temp[0])/mean_std_temp[1]>seuil)].index\n",
    "                n = len(capteur_riviere['charge_diff'])\n",
    "                colors = ['red' if i in indices_aberrants else 'green' for i in range(n)]\n",
    "                plt.scatter(capteur_riviere['charge_diff'],capteur_riviere['temperature_stream_C'],c=colors)\n",
    "                plt.xlabel('charge différentielle (en m)')\n",
    "                plt.ylabel('Temperature (en °C)')\n",
    "                plt.show()\n",
    "            print('Faites varier le seuil et visualisez en temps réel les points qui seraient conservés (en vert) et supprimés (en rouge) en appliquant la méthode du score Z avec le seuil courant')\n",
    "            w = widgets.interactive(scatter_riviere_zscore, seuil=(0,6,0.1))\n",
    "            btn = widgets.Button(description='Valider le seuil')\n",
    "            display(w, btn)\n",
    "            def drop_aberrants_zscore(obj):\n",
    "                seuil = w.children[0].value\n",
    "                indices_aberrants = capteur_riviere[((capteur_riviere['charge_diff']-mean_std_charge_diff[0])/mean_std_charge_diff[1]<-seuil)|((capteur_riviere['charge_diff']-mean_std_charge_diff[0])/mean_std_charge_diff[1]>seuil)|((capteur_riviere['temperature_stream_C']-mean_std_temp[0])/mean_std_temp[1]<-seuil)|((capteur_riviere['temperature_stream_C']-mean_std_temp[0])/mean_std_temp[1]>seuil)].index\n",
    "                capteur_riviere_clean = capteur_riviere.drop(indices_aberrants)\n",
    "                capteur_riviere_clean = capteur_riviere_clean.reset_index().drop(['index'],axis=1)\n",
    "                print('Voici ci-dessous la boîte à moustache représentant les données nettoyées du capteur rivière')\n",
    "                capteur_riviere_clean[['charge_diff','temperature_stream_C']].boxplot()\n",
    "                plt.show()\n",
    "                partie2(capteur_ZH,capteur_riviere_clean,depths)\n",
    "            btn.on_click(drop_aberrants_zscore)\n",
    "        def applique_iqr(obj):\n",
    "            def scatter_riviere_interquartile(coef):\n",
    "                bornes_charge_diff = assistance(capteur_riviere,'charge_diff',coef)\n",
    "                bornes_temperature = assistance(capteur_riviere,'temperature_stream_C',coef)\n",
    "                indices_aberrants = capteur_riviere[(capteur_riviere['charge_diff']<bornes_charge_diff[0])|(capteur_riviere['charge_diff']>bornes_charge_diff[1])|(capteur_riviere['temperature_stream_C']<bornes_temperature[0])|(capteur_riviere['temperature_stream_C']>bornes_temperature[1])].index\n",
    "                n = len(capteur_riviere['charge_diff'])\n",
    "                colors = ['red' if i in indices_aberrants else 'green' for i in range(n)]\n",
    "                plt.scatter(capteur_riviere['charge_diff'],capteur_riviere['temperature_stream_C'],c=colors)\n",
    "                plt.xlabel('charge différentielle (en m)')\n",
    "                plt.ylabel('Temperature (en °C)')\n",
    "                plt.show()\n",
    "            w = widgets.interactive(scatter_riviere_interquartile, coef=(0,3,0.1))\n",
    "            print('''Faites varier le seuil et visualisezen temps réel les points qui seraient conservés (en vert) et supprimés (en rouge) en appliquant la méthode de l'écart interquartile avec le coefficient courant''')\n",
    "            btn = widgets.Button(description='Valider le coefficient')\n",
    "            display(w, btn)\n",
    "            def drop_aberrants_interquartile(obj):\n",
    "                coef = w.children[0].value\n",
    "                bornes_charge_diff = assistance(capteur_riviere,'charge_diff',coef)\n",
    "                bornes_temperature = assistance(capteur_riviere,'temperature_stream_C',coef)\n",
    "                indices_aberrants = capteur_riviere[(capteur_riviere['charge_diff']<bornes_charge_diff[0])|(capteur_riviere['charge_diff']>bornes_charge_diff[1])|(capteur_riviere['temperature_stream_C']<bornes_temperature[0])|(capteur_riviere['temperature_stream_C']>bornes_temperature[1])].index\n",
    "                capteur_riviere_clean = capteur_riviere.drop(indices_aberrants)\n",
    "                capteur_riviere_clean = capteur_riviere_clean.reset_index().drop(['index'],axis=1)\n",
    "                print('Voici ci-dessous la boîte à moustache représentant les données nettoyées du capteur rivière')\n",
    "                capteur_riviere_clean[['charge_diff','temperature_stream_C']].boxplot()\n",
    "                plt.show()\n",
    "                partie2(capteur_ZH,capteur_riviere_clean,depths)\n",
    "            btn.on_click(drop_aberrants_interquartile)\n",
    "        btn_scorez.on_click(applique_scorez)\n",
    "        btn_iqr.on_click(applique_iqr)\n"
   ]
  },
  {
   "cell_type": "code",
   "execution_count": 151,
   "metadata": {},
   "outputs": [],
   "source": [
    "def partie2(capteur_ZH,cr,depths):\n",
    "    bornes_1 = assistance(capteur_ZH,'temperature_depth_1_C',1.5)\n",
    "    bornes_2 = assistance(capteur_ZH,'temperature_depth_2_C',1.5)\n",
    "    bornes_3 = assistance(capteur_ZH,'temperature_depth_3_C',1.5)\n",
    "    bornes_4 = assistance(capteur_ZH,'temperature_depth_4_C',1.5)\n",
    "    indices_aberrants = capteur_ZH[(capteur_ZH['temperature_depth_1_C']<bornes_1[0])|(capteur_ZH['temperature_depth_1_C']>bornes_1[1])|(capteur_ZH['temperature_depth_2_C']<bornes_2[0])|(capteur_ZH['temperature_depth_2_C']>bornes_2[1])|(capteur_ZH['temperature_depth_3_C']<bornes_3[0])|(capteur_ZH['temperature_depth_3_C']>bornes_3[1])|(capteur_ZH['temperature_depth_4_C']<bornes_4[0])|(capteur_ZH['temperature_depth_4_C']>bornes_4[1])].index\n",
    "    print('Capteur zone hyporhéique :')\n",
    "    if len(indices_aberrants)==0:\n",
    "        print('Le jeu de données du capteur ZH est utilisable')\n",
    "    else:\n",
    "        print('''Le jeu de données du capteur ZH n'est pas utilisable en l'état''')\n",
    "        plt.clf()\n",
    "        plt.subplot(3,5,1)\n",
    "        plt.hist(capteur_ZH['temperature_depth_1_C'])\n",
    "        plt.title('Histogramme de la température à -'+str(depths[0])+'m')\n",
    "        plt.subplot(3,5,5)\n",
    "        plt.hist(capteur_ZH['temperature_depth_2_C'])\n",
    "        plt.title('Histogramme de la température à -'+str(depths[1])+'m')\n",
    "        plt.subplot(3,5,11)\n",
    "        plt.hist(capteur_ZH['temperature_depth_3_C'])\n",
    "        plt.title('Histogramme de la température à -'+str(depths[2])+'m')\n",
    "        plt.subplot(3,5,15)\n",
    "        plt.hist(capteur_ZH['temperature_depth_4_C'])\n",
    "        plt.title('Histogramme de la température à -'+str(depths[3])+'m')\n",
    "        plt.show()\n",
    "        print(\"Si la distribution des données est proche d'une gaussienne, nous vous recommandons d'utiliser le score Z. Sinon, utilisez l'écart interquartile\")\n",
    "        btn_scorez = widgets.Button(description = 'Score Z')\n",
    "        btn_iqr = widgets.Button(description = 'Ecart interquartile')\n",
    "        display(btn_scorez,btn_iqr)\n",
    "        def scorez(obj):\n",
    "            choix_seuil = widgets.FloatSlider(description = 'Seuil', value = 3, min = 0, max = 6)\n",
    "            btn_seuil = widgets.Button(description = 'Valider le seuil')\n",
    "            display(choix_seuil, btn_seuil)\n",
    "            def nettoyage_ZH_scorez(obj):\n",
    "                seuil = choix_seuil.value\n",
    "                mean_std_1 = mean_std(capteur_ZH,'temperature_depth_1_C')\n",
    "                mean_std_2 = mean_std(capteur_ZH,'temperature_depth_2_C')\n",
    "                mean_std_3 = mean_std(capteur_ZH,'temperature_depth_3_C')\n",
    "                mean_std_4 = mean_std(capteur_ZH,'temperature_depth_4_C')\n",
    "                indices_aberrants = capteur_ZH[((capteur_ZH['temperature_depth_1_C']-mean_std_1[0])/mean_std_1[1]<-seuil)|((capteur_ZH['temperature_depth_1_C']-mean_std_1[0])/mean_std_1[1]>seuil)|((capteur_ZH['temperature_depth_2_C']-mean_std_2[0])/mean_std_2[1]<-seuil)|((capteur_ZH['temperature_depth_2_C']-mean_std_2[0])/mean_std_2[1]>seuil)|((capteur_ZH['temperature_depth_3_C']-mean_std_3[0])/mean_std_3[1]<-seuil)|((capteur_ZH['temperature_depth_3_C']-mean_std_3[0])/mean_std_3[1]>seuil)|((capteur_ZH['temperature_depth_4_C']-mean_std_4[0])/mean_std_4[1]<-seuil)|((capteur_ZH['temperature_depth_4_C']-mean_std_4[0])/mean_std_4[1]>seuil)].index\n",
    "                capteur_ZH_clean = capteur_ZH.drop(indices_aberrants)\n",
    "                capteur_ZH_clean = capteur_ZH_clean.reset_index().drop(['index'],axis=1)\n",
    "                print('Voici ci-dessous la boîte à moustache représentant les données nettoyées du capteur ZH')\n",
    "                capteur_ZH_clean[['temperature_depth_1_C','temperature_depth_2_C','temperature_depth_3_C','temperature_depth_4_C']].boxplot()\n",
    "                plt.show()\n",
    "                print('Voici la liste des capteurs défaillants :')\n",
    "                id_defaillant(cr, capteur_ZH_clean,depths)\n",
    "                print('''Orientation des échanges nappe-rivière au cours du temps:''')\n",
    "                orientation_echanges(cr)\n",
    "                print('Cohérence entre les données de différence de charge et celles des profils de température')\n",
    "                coherence(cr, capteur_ZH_clean)\n",
    "            btn_seuil.on_click(nettoyage_ZH_scorez)\n",
    "        def iqr(obj):\n",
    "            choix_coef = widgets.FloatSlider(description = 'Coefficient', value = 1.5, min = 0, max = 3)\n",
    "            btn_coef = widgets.Button(description = 'Valider le coefficient')\n",
    "            display(choix_coef, btn_coef)\n",
    "            def nettoyage_ZH_iqr(obj):\n",
    "                coef = choix_coef.value\n",
    "                bornes_1 = assistance(capteur_ZH,'temperature_depth_1_C',coef)\n",
    "                bornes_2 = assistance(capteur_ZH,'temperature_depth_2_C',coef)\n",
    "                bornes_3 = assistance(capteur_ZH,'temperature_depth_3_C',coef)\n",
    "                bornes_4 = assistance(capteur_ZH,'temperature_depth_4_C',coef)\n",
    "                indices_aberrants = capteur_ZH[(capteur_ZH['temperature_depth_1_C']<bornes_1[0])|(capteur_ZH['temperature_depth_1_C']>bornes_1[1])|(capteur_ZH['temperature_depth_2_C']<bornes_2[0])|(capteur_ZH['temperature_depth_2_C']>bornes_2[1])|(capteur_ZH['temperature_depth_3_C']<bornes_3[0])|(capteur_ZH['temperature_depth_3_C']>bornes_3[1])|(capteur_ZH['temperature_depth_4_C']<bornes_4[0])|(capteur_ZH['temperature_depth_4_C']>bornes_4[1])].index\n",
    "                capteur_ZH_clean = capteur_ZH.drop(indices_aberrants)\n",
    "                capteur_ZH_clean = capteur_ZH_clean.reset_index().drop(['index'],axis=1)\n",
    "                print('Voici ci-dessous la boîte à moustache représentant les données nettoyées du capteur ZH')\n",
    "                capteur_ZH_clean[['temperature_depth_1_C','temperature_depth_2_C','temperature_depth_3_C','temperature_depth_4_C']].boxplot()\n",
    "                plt.show()\n",
    "                print('Voici la liste des capteurs défaillants :')\n",
    "                id_defaillant(cr, capteur_ZH_clean,depths)\n",
    "                print('''Orientation des échanges nappe-rivière au cours du temps:''')\n",
    "                orientation_echanges(cr)\n",
    "                print('Cohérence entre les données de différence de charge et celles des profils de température:')\n",
    "                coherence(cr, capteur_ZH_clean)\n",
    "            btn_coef.on_click(nettoyage_ZH_iqr)\n",
    "        btn_scorez.on_click(scorez)\n",
    "        btn_iqr.on_click(iqr)"
   ]
  },
  {
   "cell_type": "code",
   "execution_count": 152,
   "metadata": {},
   "outputs": [],
   "source": [
    "def id_defaillant(capteur_riviere,capteur_ZH,depths):\n",
    "    def variation(df,nom_colonne):\n",
    "        return [abs((df[nom_colonne][n+1]-df[nom_colonne][n]))*abs(datetime.timedelta(minutes=15)/(df['dates'][n+1]-df['dates'][n])) for n in range(len(df)-1)]\n",
    "    if max(variation(capteur_riviere,'temperature_stream_C'))>0.03:\n",
    "        print(f'''Le capteur rivière est défaillant. En effet, les mesures de températures qu'il a enregistrées subissent des variations trop brusques pour que ces données soient conformes à la réalité. Elles atteignent jusqu'à {np.round(max(variation(capteur_riviere,'temperature_stream_C')),2)}°C/(15 min)''')\n",
    "    for i in range(1,4):\n",
    "        maxi = np.round(max(variation(capteur_ZH,'temperature_depth_'+str(i)+'_C')),2)\n",
    "        if maxi>0.03:\n",
    "            print(f'''Le capteur situé à -{depths[i-1]}m est défaillant. En effet, les mesures de températures qu'il a enregistrées subissent des variations trop brusques pour que ces données soient conformes à la réalité. Elles atteignent jusqu'à {maxi}°C/(15 min)''')\n"
   ]
  },
  {
   "cell_type": "code",
   "execution_count": 153,
   "metadata": {},
   "outputs": [],
   "source": [
    "def orientation_echanges(capteur_riviere):\n",
    "    df_negatifs = capteur_riviere[capteur_riviere['charge_diff']<0]\n",
    "    df_positifs = capteur_riviere[capteur_riviere['charge_diff']>=0]\n",
    "    n = len(capteur_riviere)\n",
    "    plt.clf()\n",
    "    plt.plot(df_negatifs['dates'],df_negatifs['charge_diff'],'ro',label = 'régime exfiltrant',linewidth=0.01)\n",
    "    plt.plot(df_positifs['dates'],df_positifs['charge_diff'],'bo',label = 'régime infiltrant')\n",
    "    plt.plot(df_positifs['dates'],len(df_positifs)*[0],'black')\n",
    "    plt.legend()\n",
    "    plt.tick_params(axis = 'both', labelsize = 5)\n",
    "    plt.title('Evolution de la différence de charge')\n",
    "    plt.show()"
   ]
  },
  {
   "cell_type": "code",
   "execution_count": 154,
   "metadata": {},
   "outputs": [],
   "source": [
    "def coherence(capteur_riviere,capteur_ZH):\n",
    "    capteur_riviere_infiltration = capteur_riviere[capteur_riviere['charge_diff']>=0]\n",
    "\n",
    "    df = capteur_riviere_infiltration.merge(capteur_ZH, on = 'dates')\n",
    "    incoherent = False\n",
    "    for i in range(1,len(df)-1):\n",
    "        incoherent = incoherent or (df['temperature_stream_C'][i+1]-df['temperature_stream_C'][i])*(df['temperature_depth_1_C'][i+1]-df['temperature_depth_1_C'][i])<0\n",
    "    if incoherent:\n",
    "        print(\"Les données de différence de charge ne donnent pas les mêmes informations que celles du profil de température. En effet, pendant certaines périodes qui sont des périodes de régime d'infiltration d'après les données de différence de charges, les profils de température ne suivent pas les mêmes variations, ce qui est contradictoire car les variations de température sont censées se propager de la rivière vers la zone hyporhéique en régime infiltratoire.\")\n",
    "    else:\n",
    "        print(\"Les données de différence de charge donnent les mêmes informations que celles du profil de température. En regime infiltratoire, la température suit effectivement les mêmes variations dans la rivière et à toutes les profondeurs de la zone hyporhéique.\")"
   ]
  },
  {
   "cell_type": "markdown",
   "metadata": {},
   "source": [
    "### Test de notre fonction"
   ]
  },
  {
   "cell_type": "code",
   "execution_count": 155,
   "metadata": {},
   "outputs": [
    {
     "name": "stdout",
     "output_type": "stream",
     "text": [
      "Capteur rivière :\n",
      "Ce jeu de données n'est pas utilisable en l'état car il contient des valeurs aberrantes au sens de l'écart interquartile avec un coefficient de 1.5\n"
     ]
    },
    {
     "data": {
      "image/png": "[encoded data removed]",
      "text/plain": [
       "<Figure size 432x288 with 2 Axes>"
      ]
     },
     "metadata": {
      "needs_background": "light"
     },
     "output_type": "display_data"
    },
    {
     "name": "stdout",
     "output_type": "stream",
     "text": [
      "Si la distribution des données est proche d'une gaussienne, nous vous recommandons d'utiliser le score Z. Sinon, utilisez l'écart interquartile\n"
     ]
    },
    {
     "data": {
      "application/vnd.jupyter.widget-view+json": {
       "model_id": "8697dcf700074000956d34c4873d5fb4",
       "version_major": 2,
       "version_minor": 0
      },
      "text/plain": [
       "Button(description='Score Z', style=ButtonStyle())"
      ]
     },
     "metadata": {},
     "output_type": "display_data"
    },
    {
     "data": {
      "application/vnd.jupyter.widget-view+json": {
       "model_id": "b36dcce269274218a5db5018a4adb698",
       "version_major": 2,
       "version_minor": 0
      },
      "text/plain": [
       "Button(description='Ecart interquartile', style=ButtonStyle())"
      ]
     },
     "metadata": {},
     "output_type": "display_data"
    },
    {
     "name": "stdout",
     "output_type": "stream",
     "text": [
      "Faites varier le seuil et visualisez en temps réel les points qui seraient conservés (en vert) et supprimés (en rouge) en appliquant la méthode du score Z avec le seuil courant\n"
     ]
    },
    {
     "data": {
      "application/vnd.jupyter.widget-view+json": {
       "model_id": "2b9661a74166451499a05dd4b5d76f41",
       "version_major": 2,
       "version_minor": 0
      },
      "text/plain": [
       "interactive(children=(FloatSlider(value=3.0, description='seuil', max=6.0), Output()), _dom_classes=('widget-i…"
      ]
     },
     "metadata": {},
     "output_type": "display_data"
    },
    {
     "data": {
      "application/vnd.jupyter.widget-view+json": {
       "model_id": "44346e40e6b94ad182d67adced5a605d",
       "version_major": 2,
       "version_minor": 0
      },
      "text/plain": [
       "Button(description='Valider le seuil', style=ButtonStyle())"
      ]
     },
     "metadata": {},
     "output_type": "display_data"
    },
    {
     "name": "stdout",
     "output_type": "stream",
     "text": [
      "Voici ci-dessous la boîte à moustache représentant les données nettoyées du capteur rivière\n"
     ]
    },
    {
     "data": {
      "image/png": "[encoded data removed]",
      "text/plain": [
       "<Figure size 432x288 with 1 Axes>"
      ]
     },
     "metadata": {
      "needs_background": "light"
     },
     "output_type": "display_data"
    },
    {
     "name": "stdout",
     "output_type": "stream",
     "text": [
      "Capteur zone hyporhéique :\n",
      "Le jeu de données du capteur ZH n'est pas utilisable en l'état\n"
     ]
    },
    {
     "data": {
      "image/png": "[encoded data removed]",
      "text/plain": [
       "<Figure size 432x288 with 4 Axes>"
      ]
     },
     "metadata": {
      "needs_background": "light"
     },
     "output_type": "display_data"
    },
    {
     "name": "stdout",
     "output_type": "stream",
     "text": [
      "Si la distribution des données est proche d'une gaussienne, nous vous recommandons d'utiliser le score Z. Sinon, utilisez l'écart interquartile\n"
     ]
    },
    {
     "data": {
      "application/vnd.jupyter.widget-view+json": {
       "model_id": "4b09d0329b1c44bea73361d1dc20898c",
       "version_major": 2,
       "version_minor": 0
      },
      "text/plain": [
       "Button(description='Score Z', style=ButtonStyle())"
      ]
     },
     "metadata": {},
     "output_type": "display_data"
    },
    {
     "data": {
      "application/vnd.jupyter.widget-view+json": {
       "model_id": "f550fe186ec4403e97021e9e3f0552b1",
       "version_major": 2,
       "version_minor": 0
      },
      "text/plain": [
       "Button(description='Ecart interquartile', style=ButtonStyle())"
      ]
     },
     "metadata": {},
     "output_type": "display_data"
    },
    {
     "data": {
      "application/vnd.jupyter.widget-view+json": {
       "model_id": "daaa67fbf4e94f13a1096def302ee659",
       "version_major": 2,
       "version_minor": 0
      },
      "text/plain": [
       "FloatSlider(value=1.5, description='Coefficient', max=3.0)"
      ]
     },
     "metadata": {},
     "output_type": "display_data"
    },
    {
     "data": {
      "application/vnd.jupyter.widget-view+json": {
       "model_id": "9e18b1ce59ce424f928c08ae72c25d0b",
       "version_major": 2,
       "version_minor": 0
      },
      "text/plain": [
       "Button(description='Valider le coefficient', style=ButtonStyle())"
      ]
     },
     "metadata": {},
     "output_type": "display_data"
    },
    {
     "name": "stdout",
     "output_type": "stream",
     "text": [
      "Voici ci-dessous la boîte à moustache représentant les données nettoyées du capteur ZH\n"
     ]
    },
    {
     "data": {
      "image/png": "[encoded data removed]",
      "text/plain": [
       "<Figure size 432x288 with 1 Axes>"
      ]
     },
     "metadata": {
      "needs_background": "light"
     },
     "output_type": "display_data"
    },
    {
     "name": "stdout",
     "output_type": "stream",
     "text": [
      "Voici la liste des capteurs défaillants :\n",
      "Le capteur rivière est défaillant. En effet, les mesures de températures qu'il a enregistrées subissent des variations trop brusques pour que ces données soient conformes à la réalité. Elles atteignent jusqu'à 0.15°C/(15 min)\n",
      "Le capteur situé à -0.10m est défaillant. En effet, les mesures de températures qu'il a enregistrées subissent des variations trop brusques pour que ces données soient conformes à la réalité. Elles atteignent jusqu'à 0.55°C/(15 min)\n",
      "Le capteur situé à -0.20m est défaillant. En effet, les mesures de températures qu'il a enregistrées subissent des variations trop brusques pour que ces données soient conformes à la réalité. Elles atteignent jusqu'à 0.1°C/(15 min)\n",
      "Le capteur situé à -0.30m est défaillant. En effet, les mesures de températures qu'il a enregistrées subissent des variations trop brusques pour que ces données soient conformes à la réalité. Elles atteignent jusqu'à 0.17°C/(15 min)\n",
      "Orientation des échanges nappe-rivière au cours du temps:\n"
     ]
    },
    {
     "data": {
      "image/png": "[encoded data removed]",
      "text/plain": [
       "<Figure size 432x288 with 1 Axes>"
      ]
     },
     "metadata": {
      "needs_background": "light"
     },
     "output_type": "display_data"
    },
    {
     "name": "stdout",
     "output_type": "stream",
     "text": [
      "Cohérence entre les données de différence de charge et celles des profils de température:\n",
      "Les données de différence de charge donnent les mêmes informations que celles du profil de température. En regime infiltratoire, la température suit effectivement les mêmes variations dans la rivière et à toutes les profondeurs de la zone hyporhéique.\n"
     ]
    }
   ],
   "source": [
    "traitement_donnees(\"../documents/molonari/MOLONARI_1D_RESOURCES/sampling_points/Point034/point034_info.csv\",\"../documents/molonari/MOLONARI_1D_RESOURCES/sampling_points/Point034/point034_P_measures.csv\",\"../documents/molonari/MOLONARI_1D_RESOURCES/sampling_points/Point034/point034_T_measures.csv\")"
   ]
  },
  {
   "cell_type": "markdown",
   "metadata": {},
   "source": [
    "# Deux autres jeux de données sont disponibles sur le répertoire github.\n",
    "Votre rôle est de traiter et d'analyser ces données avec la méthodologie que vous avez développé"
   ]
  },
  {
   "cell_type": "code",
   "execution_count": 156,
   "metadata": {},
   "outputs": [
    {
     "name": "stdout",
     "output_type": "stream",
     "text": [
      "Capteur rivière :\n",
      "Le jeu de données du capteur rivière est utilisable en l'état\n",
      "Voici ci-dessous la boîte à moustache représentant les données du capteur rivière\n"
     ]
    },
    {
     "data": {
      "image/png": "[encoded data removed]",
      "text/plain": [
       "<Figure size 432x288 with 1 Axes>"
      ]
     },
     "metadata": {
      "needs_background": "light"
     },
     "output_type": "display_data"
    },
    {
     "name": "stdout",
     "output_type": "stream",
     "text": [
      "Capteur zone hyporhéique :\n",
      "Le jeu de données du capteur ZH n'est pas utilisable en l'état\n"
     ]
    },
    {
     "data": {
      "image/png": "[encoded data removed]",
      "text/plain": [
       "<Figure size 432x288 with 4 Axes>"
      ]
     },
     "metadata": {
      "needs_background": "light"
     },
     "output_type": "display_data"
    },
    {
     "name": "stdout",
     "output_type": "stream",
     "text": [
      "Si la distribution des données est proche d'une gaussienne, nous vous recommandons d'utiliser le score Z. Sinon, utilisez l'écart interquartile\n"
     ]
    },
    {
     "data": {
      "application/vnd.jupyter.widget-view+json": {
       "model_id": "847b8f81daeb4e0baa75bea50e32797f",
       "version_major": 2,
       "version_minor": 0
      },
      "text/plain": [
       "Button(description='Score Z', style=ButtonStyle())"
      ]
     },
     "metadata": {},
     "output_type": "display_data"
    },
    {
     "data": {
      "application/vnd.jupyter.widget-view+json": {
       "model_id": "b37c1c5ab73d457ca372567c715cb9b4",
       "version_major": 2,
       "version_minor": 0
      },
      "text/plain": [
       "Button(description='Ecart interquartile', style=ButtonStyle())"
      ]
     },
     "metadata": {},
     "output_type": "display_data"
    },
    {
     "data": {
      "application/vnd.jupyter.widget-view+json": {
       "model_id": "180ea53de6be41e0909d56e72d0066cf",
       "version_major": 2,
       "version_minor": 0
      },
      "text/plain": [
       "FloatSlider(value=1.5, description='Coefficient', max=3.0)"
      ]
     },
     "metadata": {},
     "output_type": "display_data"
    },
    {
     "data": {
      "application/vnd.jupyter.widget-view+json": {
       "model_id": "18997931b1e64063989336396e27e63a",
       "version_major": 2,
       "version_minor": 0
      },
      "text/plain": [
       "Button(description='Valider le coefficient', style=ButtonStyle())"
      ]
     },
     "metadata": {},
     "output_type": "display_data"
    },
    {
     "name": "stdout",
     "output_type": "stream",
     "text": [
      "Voici ci-dessous la boîte à moustache représentant les données nettoyées du capteur ZH\n"
     ]
    },
    {
     "data": {
      "image/png": "[encoded data removed]",
      "text/plain": [
       "<Figure size 432x288 with 1 Axes>"
      ]
     },
     "metadata": {
      "needs_background": "light"
     },
     "output_type": "display_data"
    },
    {
     "name": "stdout",
     "output_type": "stream",
     "text": [
      "Voici la liste des capteurs défaillants :\n",
      "Le capteur rivière est défaillant. En effet, les mesures de températures qu'il a enregistrées subissent des variations trop brusques pour que ces données soient conformes à la réalité. Elles atteignent jusqu'à 0.39°C/(15 min)\n",
      "Le capteur situé à -0.10m est défaillant. En effet, les mesures de températures qu'il a enregistrées subissent des variations trop brusques pour que ces données soient conformes à la réalité. Elles atteignent jusqu'à 0.06°C/(15 min)\n",
      "Le capteur situé à -0.20m est défaillant. En effet, les mesures de températures qu'il a enregistrées subissent des variations trop brusques pour que ces données soient conformes à la réalité. Elles atteignent jusqu'à 9.0°C/(15 min)\n",
      "Orientation des échanges nappe-rivière au cours du temps:\n"
     ]
    },
    {
     "data": {
      "image/png": "[encoded data removed]",
      "text/plain": [
       "<Figure size 432x288 with 1 Axes>"
      ]
     },
     "metadata": {
      "needs_background": "light"
     },
     "output_type": "display_data"
    },
    {
     "name": "stdout",
     "output_type": "stream",
     "text": [
      "Cohérence entre les données de différence de charge et celles des profils de température:\n",
      "Les données de différence de charge ne donnent pas les mêmes informations que celles du profil de température. En effet, pendant certaines périodes qui sont des périodes de régime d'infiltration d'après les données de différence de charges, les profils de température ne suivent pas les mêmes variations, ce qui est contradictoire car les variations de température sont censées se propager de la rivière vers la zone hyporhéique en régime infiltratoire.\n"
     ]
    }
   ],
   "source": [
    "traitement_donnees(\"../documents/molonari/MOLONARI_1D_RESOURCES/sampling_points/Point047/point047_info.csv\",\"../documents/molonari/MOLONARI_1D_RESOURCES/sampling_points/Point047/point047_P_measures.csv\",\"../documents/molonari/MOLONARI_1D_RESOURCES/sampling_points/Point047/point047_T_measures.csv\")"
   ]
  },
  {
   "cell_type": "code",
   "execution_count": 157,
   "metadata": {},
   "outputs": [
    {
     "name": "stdout",
     "output_type": "stream",
     "text": [
      "Capteur rivière :\n",
      "Le jeu de données du capteur rivière est utilisable en l'état\n",
      "Voici ci-dessous la boîte à moustache représentant les données du capteur rivière\n"
     ]
    },
    {
     "data": {
      "image/png": "[encoded data removed]",
      "text/plain": [
       "<Figure size 432x288 with 1 Axes>"
      ]
     },
     "metadata": {
      "needs_background": "light"
     },
     "output_type": "display_data"
    },
    {
     "name": "stdout",
     "output_type": "stream",
     "text": [
      "Capteur zone hyporhéique :\n",
      "Le jeu de données du capteur ZH n'est pas utilisable en l'état\n"
     ]
    },
    {
     "data": {
      "image/png": "[encoded data removed]",
      "text/plain": [
       "<Figure size 432x288 with 4 Axes>"
      ]
     },
     "metadata": {
      "needs_background": "light"
     },
     "output_type": "display_data"
    },
    {
     "name": "stdout",
     "output_type": "stream",
     "text": [
      "Si la distribution des données est proche d'une gaussienne, nous vous recommandons d'utiliser le score Z. Sinon, utilisez l'écart interquartile\n"
     ]
    },
    {
     "data": {
      "application/vnd.jupyter.widget-view+json": {
       "model_id": "c7d1343f191c44098b06a6105e5e8023",
       "version_major": 2,
       "version_minor": 0
      },
      "text/plain": [
       "Button(description='Score Z', style=ButtonStyle())"
      ]
     },
     "metadata": {},
     "output_type": "display_data"
    },
    {
     "data": {
      "application/vnd.jupyter.widget-view+json": {
       "model_id": "03a465930bad4b2f9bd2ccd0f15f068b",
       "version_major": 2,
       "version_minor": 0
      },
      "text/plain": [
       "Button(description='Ecart interquartile', style=ButtonStyle())"
      ]
     },
     "metadata": {},
     "output_type": "display_data"
    },
    {
     "data": {
      "application/vnd.jupyter.widget-view+json": {
       "model_id": "9ecaa59d611c466886c6527b52973da6",
       "version_major": 2,
       "version_minor": 0
      },
      "text/plain": [
       "FloatSlider(value=1.5, description='Coefficient', max=3.0)"
      ]
     },
     "metadata": {},
     "output_type": "display_data"
    },
    {
     "data": {
      "application/vnd.jupyter.widget-view+json": {
       "model_id": "ed3ed91624434322be3faae42c847163",
       "version_major": 2,
       "version_minor": 0
      },
      "text/plain": [
       "Button(description='Valider le coefficient', style=ButtonStyle())"
      ]
     },
     "metadata": {},
     "output_type": "display_data"
    },
    {
     "name": "stdout",
     "output_type": "stream",
     "text": [
      "Voici ci-dessous la boîte à moustache représentant les données nettoyées du capteur ZH\n"
     ]
    },
    {
     "data": {
      "image/png": "[encoded data removed]",
      "text/plain": [
       "<Figure size 432x288 with 1 Axes>"
      ]
     },
     "metadata": {
      "needs_background": "light"
     },
     "output_type": "display_data"
    },
    {
     "name": "stdout",
     "output_type": "stream",
     "text": [
      "Voici la liste des capteurs défaillants :\n",
      "Le capteur rivière est défaillant. En effet, les mesures de températures qu'il a enregistrées subissent des variations trop brusques pour que ces données soient conformes à la réalité. Elles atteignent jusqu'à 0.38°C/(15 min)\n",
      "Le capteur situé à -0.10m est défaillant. En effet, les mesures de températures qu'il a enregistrées subissent des variations trop brusques pour que ces données soient conformes à la réalité. Elles atteignent jusqu'à 0.83°C/(15 min)\n",
      "Le capteur situé à -0.20m est défaillant. En effet, les mesures de températures qu'il a enregistrées subissent des variations trop brusques pour que ces données soient conformes à la réalité. Elles atteignent jusqu'à 5.01°C/(15 min)\n",
      "Orientation des échanges nappe-rivière au cours du temps:\n"
     ]
    },
    {
     "data": {
      "image/png": "[encoded data removed]",
      "text/plain": [
       "<Figure size 432x288 with 1 Axes>"
      ]
     },
     "metadata": {
      "needs_background": "light"
     },
     "output_type": "display_data"
    },
    {
     "name": "stdout",
     "output_type": "stream",
     "text": [
      "Cohérence entre les données de différence de charge et celles des profils de température:\n",
      "Les données de différence de charge ne donnent pas les mêmes informations que celles du profil de température. En effet, pendant certaines périodes qui sont des périodes de régime d'infiltration d'après les données de différence de charges, les profils de température ne suivent pas les mêmes variations, ce qui est contradictoire car les variations de température sont censées se propager de la rivière vers la zone hyporhéique en régime infiltratoire.\n"
     ]
    }
   ],
   "source": [
    "traitement_donnees(\"../documents/molonari/MOLONARI_1D_RESOURCES/sampling_points/Point046/point046_info.csv\",\"../documents/molonari/MOLONARI_1D_RESOURCES/sampling_points/Point046/point046_P_measures.csv\",\"../documents/molonari/MOLONARI_1D_RESOURCES/sampling_points/Point046/point046_T_measures.csv\")"
   ]
  }
 ],
 "metadata": {
  "interpreter": {
   "hash": "398dc28c06ad810e77de546bbdfa897a6ee0b83e59a5207339dda01a7843e01d"
  },
  "kernelspec": {
   "display_name": "Python 3",
   "language": "python",
   "name": "python3"
  },
  "language_info": {
   "codemirror_mode": {
    "name": "ipython",
    "version": 3
   },
   "file_extension": ".py",
   "mimetype": "text/x-python",
   "name": "python",
   "nbconvert_exporter": "python",
   "pygments_lexer": "ipython3",
   "version": "3.8.8"
  }
 },
 "nbformat": 4,
 "nbformat_minor": 4
}
