{
 "cells": [
  {
   "cell_type": "markdown",
   "metadata": {
    "_cell_guid": "5cd5061f-ae30-4837-a53b-690ffd5c5830",
    "_uuid": "9d82bf13584b8e682962fbb96131f2447d741679"
   },
   "source": [
    "# 1. Mettre en place notre environnement\n",
    "________\n",
    "\n",
    "La première chose que nous devons faire est de charger les bibliothèques et les ensembles de données que nous allons utiliser. Pour aujourd'hui, nous allons travailler avec deux ensembles de données : un contenant des chroniques de température dans le lit de la rivière (zone hyporhéique), et un autre contenant des les chroniques de différence de charge enregistré en **Volt**.\n",
    "\n",
    "**Important!** Assurez-vous d'exécuter cette cellule vous-même ou le reste de votre code ne fonctionnera pas"
   ]
  },
  {
   "cell_type": "code",
   "execution_count": 1,
   "metadata": {
    "_cell_guid": "135a7804-b5f5-40aa-8657-4a15774e3666",
    "_uuid": "835cbe0834b935fb0fd40c75b9c39454836f4d5f",
    "jupyter": {
     "outputs_hidden": true
    }
   },
   "outputs": [],
   "source": [
    "# modules\n",
    "import pandas as pd\n",
    "import numpy as np\n",
    "import matplotlib.pyplot as plt\n",
    "import seaborn as sns\n",
    "import datetime\n",
    "\n",
    "# read in our data\n",
    "capteur_riviere = pd.read_csv(\"/Users/jiangxinbei/Desktop/MOLONARI_1D_RESOURCES-main/sampling_points/Point034/point034_P_measures.csv\",header=1)\n",
    "capteur_ZH = pd.read_csv(\"/Users/jiangxinbei/Desktop/MOLONARI_1D_RESOURCES-main/sampling_points/Point034/point034_T_measures.csv\",header=1)\n",
    "etalonage_capteur_riv = pd.read_csv(\"/Users/jiangxinbei/Desktop/MOLONARI_1D_RESOURCES-main/configuration/pressure_sensors/P508.csv\")\n",
    "\n",
    "# set seed for reproducibility\n",
    "np.random.seed(0)"
   ]
  },
  {
   "cell_type": "markdown",
   "metadata": {
    "_cell_guid": "604ac3a4-b1d9-4264-b312-4bbeecdeec00",
    "_uuid": "03ce3b4afe87d98f777172c2c7be066a66a0b237"
   },
   "source": [
    "Nous sommes maintenant prêts à examiner quelques dates ! (Si vous le souhaitez, vous pouvez profiter de cette occasion pour jeter un coup d'œil à certaines des données)."
   ]
  },
  {
   "cell_type": "markdown",
   "metadata": {},
   "source": [
    "# 2 Visualisation des données brutes"
   ]
  },
  {
   "cell_type": "markdown",
   "metadata": {},
   "source": [
    "## 2.1 Imprimez le noms des colonnes\n",
    "renommer les colonnes du fichier capteur_riviere :  \tdates,tension_V,temperature_stream_C et celles du fichier capteur_ZH  :\n",
    "#,dates,temperature_depth_1_C,temperature_depth_2_C,temperature_depth_3_C,temperature_depth_4_C\n",
    "\n"
   ]
  },
  {
   "cell_type": "code",
   "execution_count": 2,
   "metadata": {},
   "outputs": [
    {
     "data": {
      "text/html": [
       "<div>\n",
       "<style scoped>\n",
       "    .dataframe tbody tr th:only-of-type {\n",
       "        vertical-align: middle;\n",
       "    }\n",
       "\n",
       "    .dataframe tbody tr th {\n",
       "        vertical-align: top;\n",
       "    }\n",
       "\n",
       "    .dataframe thead th {\n",
       "        text-align: right;\n",
       "    }\n",
       "</style>\n",
       "<table border=\"1\" class=\"dataframe\">\n",
       "  <thead>\n",
       "    <tr style=\"text-align: right;\">\n",
       "      <th></th>\n",
       "      <th>#</th>\n",
       "      <th>dates</th>\n",
       "      <th>tension_V</th>\n",
       "      <th>temperature_stream_C</th>\n",
       "      <th>Hôte connecté (LGR S/N: 10831978)</th>\n",
       "      <th>Arrêté (LGR S/N: 10831978)</th>\n",
       "      <th>Fin de fichier (LGR S/N: 10831978)</th>\n",
       "    </tr>\n",
       "  </thead>\n",
       "  <tbody>\n",
       "    <tr>\n",
       "      <th>0</th>\n",
       "      <td>1.0</td>\n",
       "      <td>06/27/16 12:00:00 PM</td>\n",
       "      <td>1.26787</td>\n",
       "      <td>18.342</td>\n",
       "      <td>NaN</td>\n",
       "      <td>NaN</td>\n",
       "      <td>NaN</td>\n",
       "    </tr>\n",
       "    <tr>\n",
       "      <th>1</th>\n",
       "      <td>2.0</td>\n",
       "      <td>06/27/16 12:15:00 PM</td>\n",
       "      <td>1.06630</td>\n",
       "      <td>13.898</td>\n",
       "      <td>NaN</td>\n",
       "      <td>NaN</td>\n",
       "      <td>NaN</td>\n",
       "    </tr>\n",
       "    <tr>\n",
       "      <th>2</th>\n",
       "      <td>3.0</td>\n",
       "      <td>06/27/16 12:30:00 PM</td>\n",
       "      <td>1.20661</td>\n",
       "      <td>13.915</td>\n",
       "      <td>NaN</td>\n",
       "      <td>NaN</td>\n",
       "      <td>NaN</td>\n",
       "    </tr>\n",
       "    <tr>\n",
       "      <th>3</th>\n",
       "      <td>4.0</td>\n",
       "      <td>06/27/16 12:45:00 PM</td>\n",
       "      <td>1.24533</td>\n",
       "      <td>13.939</td>\n",
       "      <td>NaN</td>\n",
       "      <td>NaN</td>\n",
       "      <td>NaN</td>\n",
       "    </tr>\n",
       "    <tr>\n",
       "      <th>4</th>\n",
       "      <td>5.0</td>\n",
       "      <td>06/27/16 01:00:00 PM</td>\n",
       "      <td>1.24437</td>\n",
       "      <td>13.967</td>\n",
       "      <td>NaN</td>\n",
       "      <td>NaN</td>\n",
       "      <td>NaN</td>\n",
       "    </tr>\n",
       "  </tbody>\n",
       "</table>\n",
       "</div>"
      ],
      "text/plain": [
       "     #                 dates  tension_V  temperature_stream_C  \\\n",
       "0  1.0  06/27/16 12:00:00 PM    1.26787                18.342   \n",
       "1  2.0  06/27/16 12:15:00 PM    1.06630                13.898   \n",
       "2  3.0  06/27/16 12:30:00 PM    1.20661                13.915   \n",
       "3  4.0  06/27/16 12:45:00 PM    1.24533                13.939   \n",
       "4  5.0  06/27/16 01:00:00 PM    1.24437                13.967   \n",
       "\n",
       "   Hôte connecté (LGR S/N: 10831978)  Arrêté (LGR S/N: 10831978)  \\\n",
       "0                                NaN                         NaN   \n",
       "1                                NaN                         NaN   \n",
       "2                                NaN                         NaN   \n",
       "3                                NaN                         NaN   \n",
       "4                                NaN                         NaN   \n",
       "\n",
       "   Fin de fichier (LGR S/N: 10831978)  \n",
       "0                                 NaN  \n",
       "1                                 NaN  \n",
       "2                                 NaN  \n",
       "3                                 NaN  \n",
       "4                                 NaN  "
      ]
     },
     "execution_count": 2,
     "metadata": {},
     "output_type": "execute_result"
    }
   ],
   "source": [
    "capteur_riviere.rename(columns={'#': '#', list(capteur_riviere.columns)[1]: 'dates',list(capteur_riviere.columns)[2]: 'tension_V',\n",
    "                                list(capteur_riviere.columns)[3]:'temperature_stream_C'}, inplace =  True)\n",
    "capteur_riviere.head()"
   ]
  },
  {
   "cell_type": "code",
   "execution_count": 3,
   "metadata": {},
   "outputs": [
    {
     "data": {
      "text/html": [
       "<div>\n",
       "<style scoped>\n",
       "    .dataframe tbody tr th:only-of-type {\n",
       "        vertical-align: middle;\n",
       "    }\n",
       "\n",
       "    .dataframe tbody tr th {\n",
       "        vertical-align: top;\n",
       "    }\n",
       "\n",
       "    .dataframe thead th {\n",
       "        text-align: right;\n",
       "    }\n",
       "</style>\n",
       "<table border=\"1\" class=\"dataframe\">\n",
       "  <thead>\n",
       "    <tr style=\"text-align: right;\">\n",
       "      <th></th>\n",
       "      <th>#</th>\n",
       "      <th>dates</th>\n",
       "      <th>temperature_depth_1_C</th>\n",
       "      <th>temperature_depth_2_C</th>\n",
       "      <th>temperature_depth_3_C</th>\n",
       "      <th>temperature_depth_4_C</th>\n",
       "      <th>Hôte connecté (LGR S/N: 10117166)</th>\n",
       "      <th>Arrêté (LGR S/N: 10117166)</th>\n",
       "      <th>Fin de fichier (LGR S/N: 10117166)</th>\n",
       "    </tr>\n",
       "  </thead>\n",
       "  <tbody>\n",
       "    <tr>\n",
       "      <th>0</th>\n",
       "      <td>1</td>\n",
       "      <td>06/27/16 12:00:00 PM</td>\n",
       "      <td>13.810</td>\n",
       "      <td>13.834</td>\n",
       "      <td>13.858</td>\n",
       "      <td>13.810</td>\n",
       "      <td>NaN</td>\n",
       "      <td>NaN</td>\n",
       "      <td>NaN</td>\n",
       "    </tr>\n",
       "    <tr>\n",
       "      <th>1</th>\n",
       "      <td>2</td>\n",
       "      <td>06/27/16 12:15:00 PM</td>\n",
       "      <td>13.834</td>\n",
       "      <td>13.858</td>\n",
       "      <td>13.882</td>\n",
       "      <td>13.834</td>\n",
       "      <td>NaN</td>\n",
       "      <td>NaN</td>\n",
       "      <td>NaN</td>\n",
       "    </tr>\n",
       "    <tr>\n",
       "      <th>2</th>\n",
       "      <td>3</td>\n",
       "      <td>06/27/16 12:30:00 PM</td>\n",
       "      <td>13.930</td>\n",
       "      <td>13.954</td>\n",
       "      <td>14.050</td>\n",
       "      <td>14.002</td>\n",
       "      <td>NaN</td>\n",
       "      <td>NaN</td>\n",
       "      <td>NaN</td>\n",
       "    </tr>\n",
       "    <tr>\n",
       "      <th>3</th>\n",
       "      <td>4</td>\n",
       "      <td>06/27/16 12:45:00 PM</td>\n",
       "      <td>13.882</td>\n",
       "      <td>13.954</td>\n",
       "      <td>14.026</td>\n",
       "      <td>13.954</td>\n",
       "      <td>NaN</td>\n",
       "      <td>NaN</td>\n",
       "      <td>NaN</td>\n",
       "    </tr>\n",
       "    <tr>\n",
       "      <th>4</th>\n",
       "      <td>5</td>\n",
       "      <td>06/27/16 01:00:00 PM</td>\n",
       "      <td>13.858</td>\n",
       "      <td>13.930</td>\n",
       "      <td>14.026</td>\n",
       "      <td>13.954</td>\n",
       "      <td>NaN</td>\n",
       "      <td>NaN</td>\n",
       "      <td>NaN</td>\n",
       "    </tr>\n",
       "  </tbody>\n",
       "</table>\n",
       "</div>"
      ],
      "text/plain": [
       "   #                 dates  temperature_depth_1_C  temperature_depth_2_C  \\\n",
       "0  1  06/27/16 12:00:00 PM                 13.810                 13.834   \n",
       "1  2  06/27/16 12:15:00 PM                 13.834                 13.858   \n",
       "2  3  06/27/16 12:30:00 PM                 13.930                 13.954   \n",
       "3  4  06/27/16 12:45:00 PM                 13.882                 13.954   \n",
       "4  5  06/27/16 01:00:00 PM                 13.858                 13.930   \n",
       "\n",
       "   temperature_depth_3_C  temperature_depth_4_C  \\\n",
       "0                 13.858                 13.810   \n",
       "1                 13.882                 13.834   \n",
       "2                 14.050                 14.002   \n",
       "3                 14.026                 13.954   \n",
       "4                 14.026                 13.954   \n",
       "\n",
       "  Hôte connecté (LGR S/N: 10117166) Arrêté (LGR S/N: 10117166)  \\\n",
       "0                               NaN                        NaN   \n",
       "1                               NaN                        NaN   \n",
       "2                               NaN                        NaN   \n",
       "3                               NaN                        NaN   \n",
       "4                               NaN                        NaN   \n",
       "\n",
       "  Fin de fichier (LGR S/N: 10117166)  \n",
       "0                                NaN  \n",
       "1                                NaN  \n",
       "2                                NaN  \n",
       "3                                NaN  \n",
       "4                                NaN  "
      ]
     },
     "execution_count": 3,
     "metadata": {},
     "output_type": "execute_result"
    }
   ],
   "source": [
    "capteur_ZH.rename(columns={'#': '#', list(capteur_ZH.columns)[1]: 'dates', list(capteur_ZH.columns)[2]: 'temperature_depth_1_C',\n",
    "                           list(capteur_ZH.columns)[3]:'temperature_depth_2_C', list(capteur_ZH.columns)[4]:'temperature_depth_3_C',\n",
    "                           list(capteur_ZH.columns)[5]:'temperature_depth_4_C'}, inplace =  True)\n",
    "capteur_ZH.head()"
   ]
  },
  {
   "cell_type": "markdown",
   "metadata": {},
   "source": [
    "## 2.2 Réaliser un plot des données des deux fichiers"
   ]
  },
  {
   "cell_type": "code",
   "execution_count": 4,
   "metadata": {},
   "outputs": [
    {
     "data": {
      "image/png": "[encoded data removed]",
      "text/plain": [
       "<Figure size 432x288 with 1 Axes>"
      ]
     },
     "metadata": {
      "needs_background": "light"
     },
     "output_type": "display_data"
    }
   ],
   "source": [
    "plt.plot(capteur_riviere['dates'],capteur_riviere['tension_V'])\n",
    "plt.show()"
   ]
  },
  {
   "cell_type": "code",
   "execution_count": 5,
   "metadata": {},
   "outputs": [
    {
     "data": {
      "image/png": "[encoded data removed]",
      "text/plain": [
       "<Figure size 432x288 with 1 Axes>"
      ]
     },
     "metadata": {
      "needs_background": "light"
     },
     "output_type": "display_data"
    }
   ],
   "source": [
    "plt.plot(capteur_riviere['dates'],capteur_riviere['temperature_stream_C'])\n",
    "plt.show()"
   ]
  },
  {
   "cell_type": "code",
   "execution_count": 6,
   "metadata": {},
   "outputs": [
    {
     "data": {
      "image/png": "[encoded data removed]",
      "text/plain": [
       "<Figure size 432x288 with 1 Axes>"
      ]
     },
     "metadata": {
      "needs_background": "light"
     },
     "output_type": "display_data"
    }
   ],
   "source": [
    "plt.plot(capteur_ZH['dates'],capteur_ZH['temperature_depth_1_C'])\n",
    "plt.plot(capteur_ZH['dates'],capteur_ZH['temperature_depth_2_C'])\n",
    "plt.plot(capteur_ZH['dates'],capteur_ZH['temperature_depth_3_C'])\n",
    "plt.plot(capteur_ZH['dates'],capteur_ZH['temperature_depth_4_C'])\n",
    "plt.show()"
   ]
  },
  {
   "cell_type": "markdown",
   "metadata": {},
   "source": [
    "# 3 Transformez les données de différence de charge en mètres\n",
    "\n",
    "Rappel : U = U0 + alpha * dH + beta * T"
   ]
  },
  {
   "cell_type": "code",
   "execution_count": 7,
   "metadata": {},
   "outputs": [],
   "source": [
    "capteur_riviere['tension_V']=pd.to_numeric(capteur_riviere['tension_V'], errors  ='coerce')\n",
    "capteur_riviere['temperature_stream_C']=pd.to_numeric(capteur_riviere['temperature_stream_C'], errors  ='coerce')\n",
    "\n",
    "capteur_riviere['diff_charge'] = (capteur_riviere['tension_V'] - capteur_riviere['temperature_stream_C']*(0.001474) - 1.210344)/(-1.462495)"
   ]
  },
  {
   "cell_type": "code",
   "execution_count": 8,
   "metadata": {},
   "outputs": [
    {
     "data": {
      "text/html": [
       "<div>\n",
       "<style scoped>\n",
       "    .dataframe tbody tr th:only-of-type {\n",
       "        vertical-align: middle;\n",
       "    }\n",
       "\n",
       "    .dataframe tbody tr th {\n",
       "        vertical-align: top;\n",
       "    }\n",
       "\n",
       "    .dataframe thead th {\n",
       "        text-align: right;\n",
       "    }\n",
       "</style>\n",
       "<table border=\"1\" class=\"dataframe\">\n",
       "  <thead>\n",
       "    <tr style=\"text-align: right;\">\n",
       "      <th></th>\n",
       "      <th>#</th>\n",
       "      <th>dates</th>\n",
       "      <th>tension_V</th>\n",
       "      <th>temperature_stream_C</th>\n",
       "      <th>Hôte connecté (LGR S/N: 10831978)</th>\n",
       "      <th>Arrêté (LGR S/N: 10831978)</th>\n",
       "      <th>Fin de fichier (LGR S/N: 10831978)</th>\n",
       "      <th>diff_charge</th>\n",
       "    </tr>\n",
       "  </thead>\n",
       "  <tbody>\n",
       "    <tr>\n",
       "      <th>0</th>\n",
       "      <td>1.0</td>\n",
       "      <td>06/27/16 12:00:00 PM</td>\n",
       "      <td>1.26787</td>\n",
       "      <td>18.342</td>\n",
       "      <td>NaN</td>\n",
       "      <td>NaN</td>\n",
       "      <td>NaN</td>\n",
       "      <td>-0.020848</td>\n",
       "    </tr>\n",
       "    <tr>\n",
       "      <th>1</th>\n",
       "      <td>2.0</td>\n",
       "      <td>06/27/16 12:15:00 PM</td>\n",
       "      <td>1.06630</td>\n",
       "      <td>13.898</td>\n",
       "      <td>NaN</td>\n",
       "      <td>NaN</td>\n",
       "      <td>NaN</td>\n",
       "      <td>0.112499</td>\n",
       "    </tr>\n",
       "    <tr>\n",
       "      <th>2</th>\n",
       "      <td>3.0</td>\n",
       "      <td>06/27/16 12:30:00 PM</td>\n",
       "      <td>1.20661</td>\n",
       "      <td>13.915</td>\n",
       "      <td>NaN</td>\n",
       "      <td>NaN</td>\n",
       "      <td>NaN</td>\n",
       "      <td>0.016578</td>\n",
       "    </tr>\n",
       "    <tr>\n",
       "      <th>3</th>\n",
       "      <td>4.0</td>\n",
       "      <td>06/27/16 12:45:00 PM</td>\n",
       "      <td>1.24533</td>\n",
       "      <td>13.939</td>\n",
       "      <td>NaN</td>\n",
       "      <td>NaN</td>\n",
       "      <td>NaN</td>\n",
       "      <td>-0.009873</td>\n",
       "    </tr>\n",
       "    <tr>\n",
       "      <th>4</th>\n",
       "      <td>5.0</td>\n",
       "      <td>06/27/16 01:00:00 PM</td>\n",
       "      <td>1.24437</td>\n",
       "      <td>13.967</td>\n",
       "      <td>NaN</td>\n",
       "      <td>NaN</td>\n",
       "      <td>NaN</td>\n",
       "      <td>-0.009189</td>\n",
       "    </tr>\n",
       "  </tbody>\n",
       "</table>\n",
       "</div>"
      ],
      "text/plain": [
       "     #                 dates  tension_V  temperature_stream_C  \\\n",
       "0  1.0  06/27/16 12:00:00 PM    1.26787                18.342   \n",
       "1  2.0  06/27/16 12:15:00 PM    1.06630                13.898   \n",
       "2  3.0  06/27/16 12:30:00 PM    1.20661                13.915   \n",
       "3  4.0  06/27/16 12:45:00 PM    1.24533                13.939   \n",
       "4  5.0  06/27/16 01:00:00 PM    1.24437                13.967   \n",
       "\n",
       "   Hôte connecté (LGR S/N: 10831978)  Arrêté (LGR S/N: 10831978)  \\\n",
       "0                                NaN                         NaN   \n",
       "1                                NaN                         NaN   \n",
       "2                                NaN                         NaN   \n",
       "3                                NaN                         NaN   \n",
       "4                                NaN                         NaN   \n",
       "\n",
       "   Fin de fichier (LGR S/N: 10831978)  diff_charge  \n",
       "0                                 NaN    -0.020848  \n",
       "1                                 NaN     0.112499  \n",
       "2                                 NaN     0.016578  \n",
       "3                                 NaN    -0.009873  \n",
       "4                                 NaN    -0.009189  "
      ]
     },
     "execution_count": 8,
     "metadata": {},
     "output_type": "execute_result"
    }
   ],
   "source": [
    "capteur_riviere.head()"
   ]
  },
  {
   "cell_type": "markdown",
   "metadata": {
    "_cell_guid": "9b87a77d-e5e5-4581-9cd3-0e7339fe1516",
    "_uuid": "742028572a307a42ce40db0102171bc219b05282"
   },
   "source": [
    "# 4. Traitement des dates\n",
    "## 4.1 Vérifiez le type de données de notre colonne de date\n",
    "___\n",
    "\n",
    "Imprimer les dates des deux fichiers"
   ]
  },
  {
   "cell_type": "code",
   "execution_count": 9,
   "metadata": {},
   "outputs": [
    {
     "name": "stdout",
     "output_type": "stream",
     "text": [
      "0       06/27/16 12:00:00 PM\n",
      "1       06/27/16 12:15:00 PM\n",
      "2       06/27/16 12:30:00 PM\n",
      "3       06/27/16 12:45:00 PM\n",
      "4       06/27/16 01:00:00 PM\n",
      "                ...         \n",
      "1455        07/12/2016 15:45\n",
      "1456        07/12/2016 16:00\n",
      "1457        07/12/2016 16:15\n",
      "1458        07/12/2016 16:30\n",
      "1459        07/12/2016 16:45\n",
      "Name: dates, Length: 1460, dtype: object\n"
     ]
    }
   ],
   "source": [
    "print (capteur_riviere['dates'])"
   ]
  },
  {
   "cell_type": "code",
   "execution_count": 10,
   "metadata": {},
   "outputs": [
    {
     "name": "stdout",
     "output_type": "stream",
     "text": [
      "0       06/27/16 12:00:00 PM\n",
      "1       06/27/16 12:15:00 PM\n",
      "2       06/27/16 12:30:00 PM\n",
      "3       06/27/16 12:45:00 PM\n",
      "4       06/27/16 01:00:00 PM\n",
      "                ...         \n",
      "1433    07/12/16 10:15:00 AM\n",
      "1434    07/12/16 10:30:00 AM\n",
      "1435    07/12/16 10:45:00 AM\n",
      "1436    07/12/16 10:49:31 AM\n",
      "1437    07/12/16 10:49:47 AM\n",
      "Name: dates, Length: 1438, dtype: object\n"
     ]
    }
   ],
   "source": [
    "print (capteur_ZH['dates'])"
   ]
  },
  {
   "cell_type": "markdown",
   "metadata": {
    "_cell_guid": "dbdacb7c-10d4-4b0a-8f6b-6d4a940ca446",
    "_uuid": "d88dbc08ab145fd20f86073b027c53f40fd306bc"
   },
   "source": [
    "Remarquez qu'en bas de la sortie de `head()`, vous pouvez voir qu'il est dit que le type de données de cette colonne est \"object\". \n",
    "\n",
    "> Pandas utilise le dtype \"object\" pour stocker différents types de données, mais le plus souvent, lorsque vous voyez une colonne avec le dtype \"object\", elle contient des chaînes de caractères. \n",
    "\n",
    "Si vous consultez la documentation sur le dtype de Pandas [ici] (http://pandas.pydata.org/pandas-docs/stable/basics.html#dtypes), vous remarquerez qu'il existe également un dtype spécifique `datetime64`. Comme le dtype de notre colonne est `object` plutôt que `datetime64`, nous pouvons dire que Python ne sait pas que cette colonne contient des dates.\n",
    "\n",
    "Nous pouvons aussi regarder uniquement le dtype de votre colonne sans imprimer les premières lignes si nous le souhaitons :"
   ]
  },
  {
   "cell_type": "code",
   "execution_count": 11,
   "metadata": {
    "_cell_guid": "56a047f4-cbf7-4914-951c-a04310ee7432",
    "_uuid": "e2ab2ac80aaac7b165b3af64edb75d29f2612482",
    "jupyter": {
     "outputs_hidden": true
    }
   },
   "outputs": [
    {
     "name": "stdout",
     "output_type": "stream",
     "text": [
      "type des valeurs de capteur_riviere['dates'] :  object\n"
     ]
    }
   ],
   "source": [
    "# check the data type of our date column\n",
    "print(\"type des valeurs de capteur_riviere['dates'] : \", capteur_riviere['dates'].dtype)"
   ]
  },
  {
   "cell_type": "code",
   "execution_count": 12,
   "metadata": {},
   "outputs": [
    {
     "name": "stdout",
     "output_type": "stream",
     "text": [
      "type des valeurs de capteur_ZH['dates'] :  object\n"
     ]
    }
   ],
   "source": [
    "print(\"type des valeurs de capteur_ZH['dates'] : \", capteur_ZH['dates'].dtype)"
   ]
  },
  {
   "cell_type": "markdown",
   "metadata": {
    "_cell_guid": "99a207db-3db0-4343-9805-58753f51f6e8",
    "_uuid": "06e6483764014a04e7a1f34525e2f12aee5fdab8"
   },
   "source": [
    "You may have to check the [numpy documentation](https://docs.scipy.org/doc/numpy-1.12.0/reference/generated/numpy.dtype.kind.html#numpy.dtype.kind) to match the letter code to the dtype of the object. \"O\" is the code for \"object\", so we can see that these two methods give us the same information."
   ]
  },
  {
   "cell_type": "markdown",
   "metadata": {
    "_cell_guid": "fb3b552b-411b-4fc0-b1e6-a3a8156fd459",
    "_uuid": "0939ce269aef7001e35cc8f2a5f1eed1f6160940"
   },
   "source": [
    "## 4.2 Convertir nos colonnes de date en datetime\n",
    "___\n",
    "\n",
    "Maintenant que nous savons que notre colonne de date n'est pas reconnue comme une date, il est temps de la convertir pour qu'elle soit reconnue comme une date. Cette opération est appelée \"analyse syntaxique des dates\" car nous prenons une chaîne de caractères et identifions ses composants. Nous allons utiliser la fonction pd.to_datetime.\n",
    "\n",
    "Nous pouvons indiquer à pandas le format de nos dates à l'aide d'un guide appelé [\"strftime directive\", sur lequel vous trouverez plus d'informations à ce lien] (http://strftime.org/). L'idée de base est que vous devez indiquer quelles parties de la date se trouvent où et quelle ponctuation se trouve entre elles. Il existe [de nombreuses parties possibles d'une date](http://strftime.org/), mais les plus courantes sont `%d` pour le jour, `%m` pour le mois, `%y` pour une année à deux chiffres et `%Y` pour une année à quatre chiffres.\n",
    "\n",
    "Quelques exemples :\n",
    "\n",
    " * Le 17 janvier 2007 a le format \"%m/%d/%y\".\n",
    " * 17-1-2007 a le format \"%d-%m-%Y\".\n",
    " "
   ]
  },
  {
   "cell_type": "code",
   "execution_count": 13,
   "metadata": {
    "_cell_guid": "f955aa17-ede7-4457-a913-ba1c44f8846d",
    "_uuid": "a471aae50241b245caa0c60fbb19821372682b76",
    "jupyter": {
     "outputs_hidden": true
    }
   },
   "outputs": [
    {
     "name": "stdout",
     "output_type": "stream",
     "text": [
      "0      2016-06-27 12:00:00\n",
      "1      2016-06-27 12:15:00\n",
      "2      2016-06-27 12:30:00\n",
      "3      2016-06-27 12:45:00\n",
      "4      2016-06-27 13:00:00\n",
      "               ...        \n",
      "1455   2016-07-12 15:45:00\n",
      "1456   2016-07-12 16:00:00\n",
      "1457   2016-07-12 16:15:00\n",
      "1458   2016-07-12 16:30:00\n",
      "1459   2016-07-12 16:45:00\n",
      "Name: dates, Length: 1460, dtype: datetime64[ns]\n"
     ]
    }
   ],
   "source": [
    "capteur_riviere['dates'] = pd.to_datetime(capteur_riviere['dates'])\n",
    "\n",
    "print(capteur_riviere['dates'])"
   ]
  },
  {
   "cell_type": "code",
   "execution_count": 14,
   "metadata": {},
   "outputs": [
    {
     "name": "stdout",
     "output_type": "stream",
     "text": [
      "0      2016-06-27 12:00:00\n",
      "1      2016-06-27 12:15:00\n",
      "2      2016-06-27 12:30:00\n",
      "3      2016-06-27 12:45:00\n",
      "4      2016-06-27 13:00:00\n",
      "               ...        \n",
      "1433   2016-07-12 10:15:00\n",
      "1434   2016-07-12 10:30:00\n",
      "1435   2016-07-12 10:45:00\n",
      "1436   2016-07-12 10:49:31\n",
      "1437   2016-07-12 10:49:47\n",
      "Name: dates, Length: 1438, dtype: datetime64[ns]\n"
     ]
    }
   ],
   "source": [
    "capteur_ZH['dates'] = pd.to_datetime(capteur_ZH['dates'])\n",
    "\n",
    "print(capteur_ZH['dates'])"
   ]
  },
  {
   "cell_type": "markdown",
   "metadata": {
    "_cell_guid": "7bd8f8b6-8a60-4a12-b94b-4100188845da",
    "_uuid": "fc95b22f0f4d7a6bc0cb1a7cc55abfb204cc81f9"
   },
   "source": [
    "Maintenant que nos dates sont analysées correctement, nous pouvons travailler avec celles-ci.\n",
    "\n",
    "___\n",
    "* Bien que nous spécifions le format de la date ici, il arrive parfois que vous rencontriez une erreur lorsque plusieurs formats de date sont présents dans une même colonne. Dans ce cas, vous pouvez demander à pandas de déduire le bon format de date. Vous pouvez le faire comme suit :\n",
    "\n",
    "`capteur_riviere['date'] = pd.to_datetime(capteur_riviere['date'], infer_datetime_format=True)``\n",
    "\n",
    "**Pourquoi ne pas toujours utiliser `infer_datetime_format = True?`** Il y a deux grandes raisons de ne pas toujours faire deviner à pandas le format de l'heure. La première est que pandas n'est toujours capable de trouver le bon format de date, surtout si quelqu'un a fait preuve de créativité dans la saisie des données. La seconde est que c'est beaucoup plus lent que de spécifier le format exact des dates.\n",
    "____"
   ]
  },
  {
   "cell_type": "markdown",
   "metadata": {
    "_cell_guid": "fe33df7d-c85d-4b61-b572-5682e6eea81b",
    "_uuid": "a2cec7b480ef13c070d40ca0e0763d2d30a86a9c"
   },
   "source": [
    "## 4.3 Tracer le jour du mois pour vérifier l'analyse de la date\n",
    "___\n",
    "\n",
    "L'un des plus grands dangers de l'analyse des dates est de mélanger les mois et les jours. La fonction to_datetime() a des messages d'erreur très utiles, mais il n'est pas inutile de vérifier que les jours du mois que nous avons extraits ont un sens. \n",
    "\n",
    "Pour ce faire, nous allons tracer un histogramme des jours du mois. Nous nous attendons à ce qu'il ait des valeurs entre 1 et 31 et, puisqu'il n'y a aucune raison de supposer que les glissements de terrain sont plus fréquents certains jours du mois que d'autres, une distribution relativement égale. (Avec un creux sur 31 car tous les mois n'ont pas 31 jours.) "
   ]
  },
  {
   "cell_type": "code",
   "execution_count": 15,
   "metadata": {
    "_cell_guid": "49feb18f-c077-474e-9353-a24ae850acf6",
    "_uuid": "d3d5a143d3d49e10187e420abfe9cfe18c7bac56",
    "collapsed": true,
    "jupyter": {
     "outputs_hidden": true
    }
   },
   "outputs": [
    {
     "data": {
      "image/png": "[encoded data removed]",
      "text/plain": [
       "<Figure size 432x288 with 1 Axes>"
      ]
     },
     "metadata": {
      "needs_background": "light"
     },
     "output_type": "display_data"
    }
   ],
   "source": [
    "capteur_riviere['jour'] = capteur_riviere['dates'].apply(lambda x: x.day)\n",
    "capteur_riviere.hist(column = ['jour'],bins=31)\n",
    "plt.show()"
   ]
  },
  {
   "cell_type": "markdown",
   "metadata": {},
   "source": [
    "# 5. Valeurs aberrantes\n",
    "\n",
    "L'un des plus grands défis du nettoyage des données est l'identification et le traitement des valeurs aberrantes. En termes simples, les valeurs aberrantes sont des observations qui sont significativement différentes des autres points de données. Même les meilleurs algorithmes d'estimation des paramètres automatique seront moins performants si les observations aberrantes ne sont pas nettoyées des données, car elles impliquent des simulations obsolètes des variables.\n",
    "\n"
   ]
  },
  {
   "cell_type": "code",
   "execution_count": 16,
   "metadata": {},
   "outputs": [
    {
     "name": "stdout",
     "output_type": "stream",
     "text": [
      "<class 'pandas.core.frame.DataFrame'>\n",
      "RangeIndex: 1460 entries, 0 to 1459\n",
      "Data columns (total 9 columns):\n",
      " #   Column                              Non-Null Count  Dtype         \n",
      "---  ------                              --------------  -----         \n",
      " 0   #                                   1460 non-null   float64       \n",
      " 1   dates                               1460 non-null   datetime64[ns]\n",
      " 2   tension_V                           1460 non-null   float64       \n",
      " 3   temperature_stream_C                1460 non-null   float64       \n",
      " 4   Hôte connecté (LGR S/N: 10831978)   0 non-null      float64       \n",
      " 5   Arrêté (LGR S/N: 10831978)          0 non-null      float64       \n",
      " 6   Fin de fichier (LGR S/N: 10831978)  0 non-null      float64       \n",
      " 7   diff_charge                         1460 non-null   float64       \n",
      " 8   jour                                1460 non-null   int64         \n",
      "dtypes: datetime64[ns](1), float64(7), int64(1)\n",
      "memory usage: 102.8 KB\n",
      "None\n"
     ]
    }
   ],
   "source": [
    "print(capteur_riviere.info())"
   ]
  },
  {
   "cell_type": "code",
   "execution_count": 17,
   "metadata": {},
   "outputs": [
    {
     "name": "stdout",
     "output_type": "stream",
     "text": [
      "<class 'pandas.core.frame.DataFrame'>\n",
      "RangeIndex: 1438 entries, 0 to 1437\n",
      "Data columns (total 9 columns):\n",
      " #   Column                              Non-Null Count  Dtype         \n",
      "---  ------                              --------------  -----         \n",
      " 0   #                                   1438 non-null   int64         \n",
      " 1   dates                               1438 non-null   datetime64[ns]\n",
      " 2   temperature_depth_1_C               1436 non-null   float64       \n",
      " 3   temperature_depth_2_C               1436 non-null   float64       \n",
      " 4   temperature_depth_3_C               1436 non-null   float64       \n",
      " 5   temperature_depth_4_C               1436 non-null   float64       \n",
      " 6   Hôte connecté (LGR S/N: 10117166)   1 non-null      object        \n",
      " 7   Arrêté (LGR S/N: 10117166)          1 non-null      object        \n",
      " 8   Fin de fichier (LGR S/N: 10117166)  1 non-null      object        \n",
      "dtypes: datetime64[ns](1), float64(4), int64(1), object(3)\n",
      "memory usage: 101.2+ KB\n",
      "None\n"
     ]
    }
   ],
   "source": [
    "print(capteur_ZH.info())"
   ]
  },
  {
   "cell_type": "markdown",
   "metadata": {},
   "source": [
    "## 5.1 Identification des valeurs aberrantes\n",
    "\n",
    "La présence de valeurs aberrantes dans les données peut avoir de nombreuses raisons. Parfois, les valeurs aberrantes peuvent être authentiques, alors que dans d'autres cas, elles peuvent être dues à des erreurs de saisie de données. Il est important de comprendre les raisons des valeurs aberrantes avant de les nettoyer.\n",
    "\n",
    "Nous allons commencer le processus de recherche des valeurs aberrantes en exécutant les statistiques sommaires sur les variables. Pour ce faire, nous utilisons la fonction describe() ci-dessous, qui fournit un résumé statistique de toutes les variables quantitatives.\n"
   ]
  },
  {
   "cell_type": "code",
   "execution_count": 18,
   "metadata": {},
   "outputs": [
    {
     "data": {
      "text/plain": [
       "count    1460.000000\n",
       "mean       -0.016812\n",
       "std         0.032176\n",
       "min        -0.140099\n",
       "25%        -0.025327\n",
       "50%        -0.020557\n",
       "75%        -0.009784\n",
       "max         0.390494\n",
       "Name: diff_charge, dtype: float64"
      ]
     },
     "execution_count": 18,
     "metadata": {},
     "output_type": "execute_result"
    }
   ],
   "source": [
    "capteur_riviere['diff_charge'].describe(include = '0')"
   ]
  },
  {
   "cell_type": "code",
   "execution_count": 19,
   "metadata": {},
   "outputs": [
    {
     "data": {
      "text/plain": [
       "count    1436.000000\n",
       "mean       14.717557\n",
       "std         0.721799\n",
       "min        13.329000\n",
       "25%        14.146000\n",
       "50%        14.625000\n",
       "75%        15.127000\n",
       "max        17.320000\n",
       "Name: temperature_depth_1_C, dtype: float64"
      ]
     },
     "execution_count": 19,
     "metadata": {},
     "output_type": "execute_result"
    }
   ],
   "source": [
    "capteur_ZH['temperature_depth_1_C'].describe(include = '0')"
   ]
  },
  {
   "cell_type": "markdown",
   "metadata": {},
   "source": [
    "Tracez les graphiques de distribution pour les différentes variables"
   ]
  },
  {
   "cell_type": "markdown",
   "metadata": {},
   "source": [
    "### 5.1.1 Box plot\n",
    "\n",
    "Le box plot est une manière standardisée d'afficher la distribution des données sur la base du résumé en cinq chiffres (minimum, premier quartile (Q1), médiane, troisième quartile (Q3) et maximum). Elle est souvent utilisée pour identifier la distribution des données et détecter les valeurs aberrantes. La ligne de code ci-dessous trace le box plot de la variable numérique 'Loan_amount'. "
   ]
  },
  {
   "cell_type": "code",
   "execution_count": 20,
   "metadata": {},
   "outputs": [
    {
     "data": {
      "text/plain": [
       "<AxesSubplot:>"
      ]
     },
     "execution_count": 20,
     "metadata": {},
     "output_type": "execute_result"
    },
    {
     "data": {
      "image/png": "[encoded data removed]",
      "text/plain": [
       "<Figure size 432x288 with 1 Axes>"
      ]
     },
     "metadata": {
      "needs_background": "light"
     },
     "output_type": "display_data"
    }
   ],
   "source": [
    "capteur_riviere.boxplot(column=['diff_charge'])"
   ]
  },
  {
   "cell_type": "code",
   "execution_count": 21,
   "metadata": {},
   "outputs": [
    {
     "data": {
      "text/plain": [
       "<AxesSubplot:>"
      ]
     },
     "execution_count": 21,
     "metadata": {},
     "output_type": "execute_result"
    },
    {
     "data": {
      "image/png": "[encoded data removed]",
      "text/plain": [
       "<Figure size 432x288 with 1 Axes>"
      ]
     },
     "metadata": {
      "needs_background": "light"
     },
     "output_type": "display_data"
    }
   ],
   "source": [
    "capteur_riviere.boxplot(column=['temperature_stream_C'])  "
   ]
  },
  {
   "cell_type": "code",
   "execution_count": 22,
   "metadata": {},
   "outputs": [
    {
     "data": {
      "text/plain": [
       "<AxesSubplot:>"
      ]
     },
     "execution_count": 22,
     "metadata": {},
     "output_type": "execute_result"
    },
    {
     "data": {
      "image/png": "[encoded data removed]",
      "text/plain": [
       "<Figure size 432x288 with 1 Axes>"
      ]
     },
     "metadata": {
      "needs_background": "light"
     },
     "output_type": "display_data"
    }
   ],
   "source": [
    "capteur_ZH.boxplot(column=['temperature_depth_1_C'])"
   ]
  },
  {
   "cell_type": "code",
   "execution_count": 23,
   "metadata": {},
   "outputs": [
    {
     "data": {
      "text/plain": [
       "<AxesSubplot:>"
      ]
     },
     "execution_count": 23,
     "metadata": {},
     "output_type": "execute_result"
    },
    {
     "data": {
      "image/png": "[encoded data removed]",
      "text/plain": [
       "<Figure size 432x288 with 1 Axes>"
      ]
     },
     "metadata": {
      "needs_background": "light"
     },
     "output_type": "display_data"
    }
   ],
   "source": [
    "capteur_ZH.boxplot(column=['temperature_depth_2_C'])"
   ]
  },
  {
   "cell_type": "code",
   "execution_count": 24,
   "metadata": {},
   "outputs": [
    {
     "data": {
      "text/plain": [
       "<AxesSubplot:>"
      ]
     },
     "execution_count": 24,
     "metadata": {},
     "output_type": "execute_result"
    },
    {
     "data": {
      "image/png": "[encoded data removed]",
      "text/plain": [
       "<Figure size 432x288 with 1 Axes>"
      ]
     },
     "metadata": {
      "needs_background": "light"
     },
     "output_type": "display_data"
    }
   ],
   "source": [
    "capteur_ZH.boxplot(column=['temperature_depth_3_C'])"
   ]
  },
  {
   "cell_type": "code",
   "execution_count": 25,
   "metadata": {},
   "outputs": [
    {
     "data": {
      "text/plain": [
       "<AxesSubplot:>"
      ]
     },
     "execution_count": 25,
     "metadata": {},
     "output_type": "execute_result"
    },
    {
     "data": {
      "image/png": "[encoded data removed]",
      "text/plain": [
       "<Figure size 432x288 with 1 Axes>"
      ]
     },
     "metadata": {
      "needs_background": "light"
     },
     "output_type": "display_data"
    }
   ],
   "source": [
    "capteur_ZH.boxplot(column=['temperature_depth_4_C'])"
   ]
  },
  {
   "cell_type": "markdown",
   "metadata": {},
   "source": [
    "### 5.1.2. Histogramme\n",
    "Un histogramme est utilisé pour visualiser la distribution d'une variable numérique. Une valeur aberrante apparaît en dehors du modèle général de distribution. La ligne de code ci-dessous trace un histogramme de la variable 'Revenu', en utilisant la fonction hist(). A histogram is used to visualize the distribution of a numerical variable. An outlier will appear outside the overall pattern of distribution. The line of code below plots a histogram of the 'Income' variable, using the hist() function."
   ]
  },
  {
   "cell_type": "code",
   "execution_count": 26,
   "metadata": {},
   "outputs": [
    {
     "data": {
      "text/plain": [
       "array([[<AxesSubplot:title={'center':'diff_charge'}>,\n",
       "        <AxesSubplot:title={'center':'temperature_stream_C'}>]],\n",
       "      dtype=object)"
      ]
     },
     "execution_count": 26,
     "metadata": {},
     "output_type": "execute_result"
    },
    {
     "data": {
      "image/png": "[encoded data removed]",
      "text/plain": [
       "<Figure size 432x288 with 2 Axes>"
      ]
     },
     "metadata": {
      "needs_background": "light"
     },
     "output_type": "display_data"
    }
   ],
   "source": [
    "capteur_riviere.hist(column=['diff_charge','temperature_stream_C'],bins = 50) "
   ]
  },
  {
   "cell_type": "code",
   "execution_count": 27,
   "metadata": {},
   "outputs": [
    {
     "data": {
      "text/plain": [
       "array([[<AxesSubplot:title={'center':'temperature_depth_1_C'}>,\n",
       "        <AxesSubplot:title={'center':'temperature_depth_2_C'}>],\n",
       "       [<AxesSubplot:title={'center':'temperature_depth_3_C'}>,\n",
       "        <AxesSubplot:title={'center':'temperature_depth_4_C'}>]],\n",
       "      dtype=object)"
      ]
     },
     "execution_count": 27,
     "metadata": {},
     "output_type": "execute_result"
    },
    {
     "data": {
      "image/png": "[encoded data removed]",
      "text/plain": [
       "<Figure size 432x288 with 4 Axes>"
      ]
     },
     "metadata": {
      "needs_background": "light"
     },
     "output_type": "display_data"
    }
   ],
   "source": [
    "capteur_ZH.hist(column=['temperature_depth_1_C','temperature_depth_2_C','temperature_depth_3_C','temperature_depth_4_C'],bins = 50) "
   ]
  },
  {
   "cell_type": "code",
   "execution_count": 28,
   "metadata": {},
   "outputs": [],
   "source": [
    "#capteur_ZH = capteur_ZH.drop([1436, 1437])"
   ]
  },
  {
   "cell_type": "code",
   "execution_count": 29,
   "metadata": {},
   "outputs": [],
   "source": [
    "# capteur_ZH['temperature_depth_1_C'] = capteur_ZH['temperature_depth_1_C'].dropna()\n",
    "#print (capteur_ZH['temperature_depth_1_C'])"
   ]
  },
  {
   "cell_type": "markdown",
   "metadata": {},
   "source": [
    "### 5.1.3Scatterplot\n",
    "\n",
    "Un nuage de points permet de visualiser la relation entre deux variables quantitatives. Les données sont affichées sous la forme d'une collection de points, et tout point qui ne correspond pas au regroupement général des deux variables peut indiquer des valeurs aberrantes. \n",
    "\n",
    "génèrez un nuage de points entre les différentes variables de températures. \n",
    "\n"
   ]
  },
  {
   "cell_type": "code",
   "execution_count": 30,
   "metadata": {},
   "outputs": [
    {
     "data": {
      "text/plain": [
       "<AxesSubplot:xlabel='temperature_depth_1_C', ylabel='temperature_depth_2_C'>"
      ]
     },
     "execution_count": 30,
     "metadata": {},
     "output_type": "execute_result"
    },
    {
     "data": {
      "image/png": "[encoded data removed]",
      "text/plain": [
       "<Figure size 432x288 with 1 Axes>"
      ]
     },
     "metadata": {
      "needs_background": "light"
     },
     "output_type": "display_data"
    }
   ],
   "source": [
    "capteur_ZH.plot.scatter(x='temperature_depth_1_C',y='temperature_depth_2_C')"
   ]
  },
  {
   "cell_type": "code",
   "execution_count": 31,
   "metadata": {},
   "outputs": [
    {
     "data": {
      "text/plain": [
       "<AxesSubplot:xlabel='temperature_depth_1_C', ylabel='temperature_depth_3_C'>"
      ]
     },
     "execution_count": 31,
     "metadata": {},
     "output_type": "execute_result"
    },
    {
     "data": {
      "image/png": "[encoded data removed]",
      "text/plain": [
       "<Figure size 432x288 with 1 Axes>"
      ]
     },
     "metadata": {
      "needs_background": "light"
     },
     "output_type": "display_data"
    }
   ],
   "source": [
    "capteur_ZH.plot.scatter(x='temperature_depth_1_C',y='temperature_depth_3_C')"
   ]
  },
  {
   "cell_type": "code",
   "execution_count": 32,
   "metadata": {},
   "outputs": [
    {
     "data": {
      "text/plain": [
       "<AxesSubplot:xlabel='temperature_depth_1_C', ylabel='temperature_depth_4_C'>"
      ]
     },
     "execution_count": 32,
     "metadata": {},
     "output_type": "execute_result"
    },
    {
     "data": {
      "image/png": "[encoded data removed]",
      "text/plain": [
       "<Figure size 432x288 with 1 Axes>"
      ]
     },
     "metadata": {
      "needs_background": "light"
     },
     "output_type": "display_data"
    }
   ],
   "source": [
    "capteur_ZH.plot.scatter(x='temperature_depth_1_C',y='temperature_depth_4_C')"
   ]
  },
  {
   "cell_type": "code",
   "execution_count": 33,
   "metadata": {},
   "outputs": [
    {
     "data": {
      "text/plain": [
       "<AxesSubplot:xlabel='temperature_depth_2_C', ylabel='temperature_depth_3_C'>"
      ]
     },
     "execution_count": 33,
     "metadata": {},
     "output_type": "execute_result"
    },
    {
     "data": {
      "image/png": "[encoded data removed]",
      "text/plain": [
       "<Figure size 432x288 with 1 Axes>"
      ]
     },
     "metadata": {
      "needs_background": "light"
     },
     "output_type": "display_data"
    }
   ],
   "source": [
    "capteur_ZH.plot.scatter(x='temperature_depth_2_C',y='temperature_depth_3_C')"
   ]
  },
  {
   "cell_type": "code",
   "execution_count": 34,
   "metadata": {},
   "outputs": [
    {
     "data": {
      "text/plain": [
       "<AxesSubplot:xlabel='temperature_depth_2_C', ylabel='temperature_depth_4_C'>"
      ]
     },
     "execution_count": 34,
     "metadata": {},
     "output_type": "execute_result"
    },
    {
     "data": {
      "image/png": "[encoded data removed]",
      "text/plain": [
       "<Figure size 432x288 with 1 Axes>"
      ]
     },
     "metadata": {
      "needs_background": "light"
     },
     "output_type": "display_data"
    }
   ],
   "source": [
    "capteur_ZH.plot.scatter(x='temperature_depth_2_C',y='temperature_depth_4_C')"
   ]
  },
  {
   "cell_type": "code",
   "execution_count": 35,
   "metadata": {},
   "outputs": [
    {
     "data": {
      "text/plain": [
       "<AxesSubplot:xlabel='temperature_depth_3_C', ylabel='temperature_depth_4_C'>"
      ]
     },
     "execution_count": 35,
     "metadata": {},
     "output_type": "execute_result"
    },
    {
     "data": {
      "image/png": "[encoded data removed]",
      "text/plain": [
       "<Figure size 432x288 with 1 Axes>"
      ]
     },
     "metadata": {
      "needs_background": "light"
     },
     "output_type": "display_data"
    }
   ],
   "source": [
    "capteur_ZH.plot.scatter(x='temperature_depth_3_C',y='temperature_depth_4_C')"
   ]
  },
  {
   "cell_type": "code",
   "execution_count": 36,
   "metadata": {},
   "outputs": [],
   "source": [
    "#rng = np.random.RandomState(0)\n",
    "#colors = rng.rand(1436)\n",
    "#plt.scatter(capteur_ZH['temperature_depth_2_C'],capteur_ZH['temperature_depth_1_C'],c = colors, alpha=0.5)\n",
    "#plt.show()"
   ]
  },
  {
   "cell_type": "markdown",
   "metadata": {},
   "source": [
    "## 5.2 Identification des valeurs aberrantes avec l'écart interquartile (IQR)\n",
    "\n",
    "L'écart interquartile (IQR) est une mesure de la dispersion statistique et est calculé comme la différence entre les 75e et 25e percentiles. Il est représenté par la formule IQR = Q3 - Q1. Les  lignes de code ci-dessous calculent et impriment l'écart interquartile pour chacune des variables de l'ensemble de données.  La règle générale est que tout ce qui n'est pas dans la plage de (Q1 - 1,5 IQR) et (Q3 + 1,5 IQR) est une valeur aberrante et peut être supprimé.\n"
   ]
  },
  {
   "cell_type": "markdown",
   "metadata": {},
   "source": [
    "### 5.2.1 Fonctions d'assistance\n",
    "\n",
    "Ecrire des fonctions afin d'examiner chaque colonne des deux fichiers de données de terain et de calculer les 1er et 3e quartiles, l'intervalle inter-quartile et le minimum et le maximum. Toute valeur en dehors du minimum et du maximum est une valeur aberrante."
   ]
  },
  {
   "cell_type": "code",
   "execution_count": 113,
   "metadata": {},
   "outputs": [],
   "source": [
    "def Abe(df, columns):\n",
    "\n",
    "    indices_abe = []\n",
    "    for column in columns :\n",
    "\n",
    "        # calcul des statistiques\n",
    "        q25 = df.describe().loc['25%'][column]\n",
    "        q75 = df.describe().loc['75%'][column]\n",
    "        iqr = q75 - q25\n",
    "\n",
    "        # repérage des lignes aberrantes\n",
    "        valeurs_aberr = df[column].loc[ (df[column]<q25-1.5*iqr) | (df[column]>q75+1.5*iqr) ]\n",
    "\n",
    "        # récupération des indices\n",
    "        indices_abe += list(valeurs_aberr.index.values)\n",
    "\n",
    "    return list(dict.fromkeys(indices_abe)) # retirer les indices en double"
   ]
  },
  {
   "cell_type": "code",
   "execution_count": 65,
   "metadata": {},
   "outputs": [
    {
     "data": {
      "text/plain": [
       "28"
      ]
     },
     "execution_count": 65,
     "metadata": {},
     "output_type": "execute_result"
    }
   ],
   "source": [
    "len(Abe(capteur_riviere, ['diff_charge']))"
   ]
  },
  {
   "cell_type": "code",
   "execution_count": 72,
   "metadata": {},
   "outputs": [
    {
     "data": {
      "text/plain": [
       "26"
      ]
     },
     "execution_count": 72,
     "metadata": {},
     "output_type": "execute_result"
    }
   ],
   "source": [
    "len(Abe(capteur_ZH, ['temperature_depth_1_C']))"
   ]
  },
  {
   "cell_type": "code",
   "execution_count": 73,
   "metadata": {},
   "outputs": [
    {
     "data": {
      "text/plain": [
       "35"
      ]
     },
     "execution_count": 73,
     "metadata": {},
     "output_type": "execute_result"
    }
   ],
   "source": [
    "len(Abe(capteur_ZH, ['temperature_depth_2_C']))"
   ]
  },
  {
   "cell_type": "code",
   "execution_count": 74,
   "metadata": {},
   "outputs": [
    {
     "data": {
      "text/plain": [
       "72"
      ]
     },
     "execution_count": 74,
     "metadata": {},
     "output_type": "execute_result"
    }
   ],
   "source": [
    "len(Abe(capteur_ZH, ['temperature_depth_3_C']))"
   ]
  },
  {
   "cell_type": "code",
   "execution_count": 75,
   "metadata": {},
   "outputs": [
    {
     "data": {
      "text/plain": [
       "142"
      ]
     },
     "execution_count": 75,
     "metadata": {},
     "output_type": "execute_result"
    }
   ],
   "source": [
    "len(Abe(capteur_ZH, ['temperature_depth_4_C']))"
   ]
  },
  {
   "cell_type": "markdown",
   "metadata": {},
   "source": [
    "### 5.2.2 Résolution de la distribution asymétrique…\n",
    "\n",
    "A partir de nos données dans un histogramme, nous pouvons obtenir une distribution asymétrique des données. Une seule grande barre avec de minuscules barres à gauche ou à droite (ou les deux) est un signe révélateur que des valeurs aberrantes peuvent être présentes dans les données et cela signifie que notre bel histogramme, bien rangé et normalement distribué, est complètement caché et obscurci par le seul grand bar.\n",
    "\n",
    "\n",
    "Lorsque nous observons ce modèle, nous devons supprimer les valeurs aberrantes, puis voir à quoi ressemble la nouvelle distribution. Si nous voulons vérifier la présence de valeurs aberrantes, une boîte à moustaches rapide confirmera ou refusera…"
   ]
  },
  {
   "cell_type": "code",
   "execution_count": 76,
   "metadata": {},
   "outputs": [],
   "source": [
    "capteur_riviere_s = capteur_riviere.drop(Abe(capteur_riviere, ['diff_charge']))\n"
   ]
  },
  {
   "cell_type": "code",
   "execution_count": 77,
   "metadata": {},
   "outputs": [],
   "source": [
    "capteur_ZH_s = capteur_ZH.drop(Abe(capteur_ZH, ['temperature_depth_1_C','temperature_depth_2_C','temperature_depth_3_C','temperature_depth_4_C']))"
   ]
  },
  {
   "cell_type": "code",
   "execution_count": 78,
   "metadata": {},
   "outputs": [],
   "source": [
    "# Removing the outliers\n",
    "#def removeOutliers(data, col):\n",
    "    #Q3 = np.quantile(data[col], 0.75)\n",
    "    #Q1 = np.quantile(data[col], 0.25)\n",
    "    #IQR = Q3 - Q1\n",
    "     \n",
    "    #print(\"IQR value for column %s is: %s\" % (col, IQR))\n",
    "    #global outlier_free_list\n",
    "    #global filtered_data\n",
    "     \n",
    "    #lower_range = Q1 - 1.5 * IQR\n",
    "    #upper_range = Q3 + 1.5 * IQR\n",
    "    #outlier_free_list = [x for x in data[col] if (\n",
    "        #(x > lower_range) & (x < upper_range))]\n",
    "    \n",
    "    #filtered_data = data.loc[data[col].isin(outlier_free_list)]\n",
    "    \n",
    "    #return filtered_data\n",
    "\n",
    "#data1 = removeOutliers(capteur_riviere, 'diff_charge')\n",
    "#data2 = removeOutliers(capteur_ZH, 'temperature_depth_1_C')\n",
    "#data3 = removeOutliers(capteur_ZH, 'temperature_depth_2_C')\n",
    "#data4 = removeOutliers(capteur_ZH, 'temperature_depth_3_C')\n",
    "#data5 = removeOutliers(capteur_ZH, 'temperature_depth_4_C')\n",
    "# Assigning filtered data back to our original variable\n",
    "# data1 = filtered_data\n",
    "#print(\"Shape of data after outlier removal is: \", data1.shape, data2.shape, data3.shape, data4.shape, data5.shape)\n",
    "\n"
   ]
  },
  {
   "cell_type": "markdown",
   "metadata": {},
   "source": [
    "### 5.2.3 Suppression des valeurs aberrantes et visualisation du résultat\n",
    "\n",
    "Après avoir fait tout le gros du travail dans les fonctions d'assistance, nous pouvons maintenant supprimer les lignes des données qui contiennent des valeurs aberrantes en dehors de | - et - | moustaches…\n",
    "\n"
   ]
  },
  {
   "cell_type": "code",
   "execution_count": 79,
   "metadata": {},
   "outputs": [
    {
     "data": {
      "text/plain": [
       "<AxesSubplot:>"
      ]
     },
     "execution_count": 79,
     "metadata": {},
     "output_type": "execute_result"
    },
    {
     "data": {
      "image/png": "[encoded data removed]",
      "text/plain": [
       "<Figure size 432x288 with 1 Axes>"
      ]
     },
     "metadata": {
      "needs_background": "light"
     },
     "output_type": "display_data"
    }
   ],
   "source": [
    "capteur_riviere_s.boxplot(column=['diff_charge'])"
   ]
  },
  {
   "cell_type": "code",
   "execution_count": 80,
   "metadata": {},
   "outputs": [
    {
     "data": {
      "text/plain": [
       "<AxesSubplot:>"
      ]
     },
     "execution_count": 80,
     "metadata": {},
     "output_type": "execute_result"
    },
    {
     "data": {
      "image/png": "[encoded data removed]",
      "text/plain": [
       "<Figure size 432x288 with 1 Axes>"
      ]
     },
     "metadata": {
      "needs_background": "light"
     },
     "output_type": "display_data"
    }
   ],
   "source": [
    "capteur_ZH_s.boxplot(column=['temperature_depth_1_C'])"
   ]
  },
  {
   "cell_type": "code",
   "execution_count": 81,
   "metadata": {},
   "outputs": [
    {
     "data": {
      "text/plain": [
       "<AxesSubplot:>"
      ]
     },
     "execution_count": 81,
     "metadata": {},
     "output_type": "execute_result"
    },
    {
     "data": {
      "image/png": "[encoded data removed]",
      "text/plain": [
       "<Figure size 432x288 with 1 Axes>"
      ]
     },
     "metadata": {
      "needs_background": "light"
     },
     "output_type": "display_data"
    }
   ],
   "source": [
    "capteur_ZH_s.boxplot(column=['temperature_depth_2_C'])"
   ]
  },
  {
   "cell_type": "code",
   "execution_count": 82,
   "metadata": {},
   "outputs": [
    {
     "data": {
      "text/plain": [
       "<AxesSubplot:>"
      ]
     },
     "execution_count": 82,
     "metadata": {},
     "output_type": "execute_result"
    },
    {
     "data": {
      "image/png": "[encoded data removed]",
      "text/plain": [
       "<Figure size 432x288 with 1 Axes>"
      ]
     },
     "metadata": {
      "needs_background": "light"
     },
     "output_type": "display_data"
    }
   ],
   "source": [
    "capteur_ZH_s.boxplot(column=['temperature_depth_3_C'])"
   ]
  },
  {
   "cell_type": "code",
   "execution_count": 83,
   "metadata": {},
   "outputs": [
    {
     "data": {
      "text/plain": [
       "<AxesSubplot:>"
      ]
     },
     "execution_count": 83,
     "metadata": {},
     "output_type": "execute_result"
    },
    {
     "data": {
      "image/png": "[encoded data removed]",
      "text/plain": [
       "<Figure size 432x288 with 1 Axes>"
      ]
     },
     "metadata": {
      "needs_background": "light"
     },
     "output_type": "display_data"
    }
   ],
   "source": [
    "capteur_ZH_s.boxplot(column=['temperature_depth_4_C'])"
   ]
  },
  {
   "cell_type": "markdown",
   "metadata": {},
   "source": [
    "### 5.2.4 Expliquez le résultat\n",
    "est ce que cette méthodologie vous semble suffisante? Tentez de trouver les limites de cette méthodologie? Que pouvez vous apportez aux fonctions afin de les améliorer?"
   ]
  },
  {
   "cell_type": "markdown",
   "metadata": {},
   "source": [
    "Cette méthodologie nous permet de supprimer des valeurs extrêmes en comparant la distance entre cette valeur et les 75 et 25 percentiles. \n",
    "Mais c'est aussi possible que nous supprimions trop de data, dont une partie puisse être utile mais se situe après Q3 + 1,5IQR ou avant Q1 - 1,5IQR."
   ]
  },
  {
   "cell_type": "markdown",
   "metadata": {},
   "source": [
    "## 5.3 Valeurs abérantes avec la méthode score Z \n",
    "Il s'agit d'une unité mesurée en écart-type. Fondamentalement, il s'agit d'une mesure de la distance entre le score brut et la moyenne. Il est compris entre -3 et +3, où 0 = moyenne et 1 = écart-type, c'est-à-dire une distribution normale.\n",
    "\n",
    "Cette méthode suggère qu'en tout point de données il existe une relation entre l'écart-type et la moyenne. Le score Z permet de trouver la distribution des données où la moyenne est égale à 0 et l'écart-type à 1, c'est-à-dire une distribution normale. Vous devez vous demander en quoi cela peut nous aider à identifier les valeurs aberrantes ? En calculant le score Z, nous redimensionnons et centrons les données et recherchons les points de données qui sont trop éloignés de zéro. Ces points de données qui sont trop éloignés de zéro seront traités comme des valeurs aberrantes. Dans la plupart des cas, un seuil de 3 ou -3 est utilisé, c'est-à-dire que si la valeur du score Z est supérieure ou inférieure à 3 ou -3 respectivement, ce point de données sera identifié comme aberrant.\n",
    "\n",
    "Formule pour le score Z = (Observation - Moyenne)/Écart-type\n",
    "\n",
    "z = (X - μ) / σ\n",
    "\n",
    "Ecrire des functions afin de pouvoir appliquer cette méthodologie aux données"
   ]
  },
  {
   "cell_type": "code",
   "execution_count": 84,
   "metadata": {},
   "outputs": [
    {
     "name": "stdout",
     "output_type": "stream",
     "text": [
      "outlier in dH is [0.11249929196339141, 0.3517078991723048, 0.3517078991723048, 0.3517078991723048, 0.3517078991723048, 0.3517078991723048, 0.28333159703110106, -0.14009855760190615, -0.12188555448052808, -0.13544078167788598, 0.3904541786467646, 0.39031707048571107, 0.39049449331450714, -0.12983999535041124, -0.13942101682398902]\n"
     ]
    }
   ],
   "source": [
    "dH = capteur_riviere['diff_charge'].tolist()\n",
    "threshold = 3\n",
    "outlier_dH = []\n",
    "for i in dH:    \n",
    "  z = (i-np.mean(dH))/np.std(dH)   \n",
    "  if abs(z) > threshold:        \n",
    "    outlier_dH.append(i)\n",
    "\n",
    "print('outlier in dH is', outlier_dH) "
   ]
  },
  {
   "cell_type": "code",
   "execution_count": 85,
   "metadata": {},
   "outputs": [
    {
     "name": "stdout",
     "output_type": "stream",
     "text": [
      "outlier in temperature_depth_1_C is []\n"
     ]
    }
   ],
   "source": [
    "T1 = capteur_ZH['temperature_depth_1_C'].tolist()\n",
    "threshold = 3\n",
    "outlier_T1 = []\n",
    "for i in T1:    \n",
    "  z = (i-np.mean(T1))/np.std(T1)   \n",
    "  if abs(z) > threshold:        \n",
    "    outlier_T1.append(i)\n",
    "\n",
    "print('outlier in temperature_depth_1_C is', outlier_T1) "
   ]
  },
  {
   "cell_type": "code",
   "execution_count": 86,
   "metadata": {},
   "outputs": [
    {
     "name": "stdout",
     "output_type": "stream",
     "text": [
      "outlier in temperature_depth_2_C is []\n"
     ]
    }
   ],
   "source": [
    "T2 = capteur_ZH['temperature_depth_2_C'].tolist()\n",
    "threshold = 3\n",
    "outlier_T2 = []\n",
    "for i in T2:    \n",
    "  z = (i-np.mean(T2))/np.std(T2)   \n",
    "  if abs(z) > threshold:        \n",
    "    outlier_T2.append(i)\n",
    "\n",
    "print('outlier in temperature_depth_2_C is', outlier_T2) "
   ]
  },
  {
   "cell_type": "code",
   "execution_count": 87,
   "metadata": {},
   "outputs": [
    {
     "name": "stdout",
     "output_type": "stream",
     "text": [
      "outlier in temperature_depth_3_C is []\n"
     ]
    }
   ],
   "source": [
    "T3 = capteur_ZH['temperature_depth_2_C'].tolist()\n",
    "threshold = 3\n",
    "outlier_T3 = []\n",
    "for i in T3:    \n",
    "  z = (i-np.mean(T3))/np.std(T3)   \n",
    "  if abs(z) > threshold:        \n",
    "    outlier_T3.append(i)\n",
    "\n",
    "print('outlier in temperature_depth_3_C is', outlier_T3) "
   ]
  },
  {
   "cell_type": "code",
   "execution_count": 88,
   "metadata": {},
   "outputs": [
    {
     "name": "stdout",
     "output_type": "stream",
     "text": [
      "outlier in temperature_depth_4_C is []\n"
     ]
    }
   ],
   "source": [
    "T4 = capteur_ZH['temperature_depth_2_C'].tolist()\n",
    "threshold = 3\n",
    "outlier_T4 = []\n",
    "for i in T4:    \n",
    "  z = (i-np.mean(T4))/np.std(T4)   \n",
    "  if abs(z) > threshold:        \n",
    "    outlier_T4.append(i)\n",
    "\n",
    "print('outlier in temperature_depth_4_C is', outlier_T4) "
   ]
  },
  {
   "cell_type": "markdown",
   "metadata": {},
   "source": [
    "### 5.4 Comparer les deux méthodologies, donner leurs avantages et leurs limitations\n",
    "Vous pouvez proposer des alternatives."
   ]
  },
  {
   "cell_type": "markdown",
   "metadata": {},
   "source": [
    "L'objectif principal de Z-Score est de convertir uniformément des données de différentes magnitudes en la même magnitude et d'utiliser les valeurs Z-Score calculées afin d'assurer la comparabilité entre les données. Par conséquent, on peut voir que Z-Score peut convertir efficacement les données en une norme unifiée. Mais Z-Score lui-même n'a aucune signification pratique, sa signification pratique doit être réalisée par comparaison, ce qui est également un désavantage de Z-Score.\n",
    "\n",
    "L'intervalle interquartile, qui nous indique la distance entre le premier et le troisième quartile, indique à quel point la moitié médiane de notre ensemble de données est répartie. Le principal avantage de l'utilisation de l'intervalle interquartile plutôt que de l'intervalle pour la mesure de l'étalement d'un ensemble de données est que l'intervalle interquartile n'est pas sensible aux valeurs aberrantes.\n",
    "\n"
   ]
  },
  {
   "cell_type": "markdown",
   "metadata": {},
   "source": [
    "## 6. Proposer une fonction permettant d'aller des données brutes jusqu'au premier traitement des données.\n",
    "\n",
    "N'oubliez pas de permettre à l'utilisateur de pouvoir prendre des décisions et de l'aider à prendre ces décisions\n",
    "Pensez à indiquer à l'utilisateur si le jeu de données est utilisable, quels sont les capteurs défaillant, quel semble être l'orientation des échanges nappe-rivière, les données de différence de charge semblent t'elles données les mêmes informations que les données du profils de température.\n",
    "\n",
    "Votre function doit prendre en entrée, les trois fichiers et proposer au fur et à mesure de son dérouler des propositions à l'utilisateur."
   ]
  },
  {
   "cell_type": "code",
   "execution_count": 106,
   "metadata": {},
   "outputs": [],
   "source": [
    "def rename(data_riviere, data_ZH):\n",
    "    data_riviere.rename(columns={'#': '#', list(data_riviere.columns)[1]: 'dates',list(data_riviere.columns)[2]: 'tension_V',\n",
    "                                list(data_riviere.columns)[3]:'temperature_stream_C'}, inplace =  True)\n",
    "    data_riviere.drop(columns=data_riviere.columns[4:7], inplace=True)\n",
    "    data_riviere.dropna()\n",
    "    data_ZH.rename(columns={'#': '#', list(data_ZH.columns)[1]: 'dates', list(data_ZH.columns)[2]: 'temperature_depth_1_C',\n",
    "                           list(data_ZH.columns)[3]:'temperature_depth_2_C', list(data_ZH.columns)[4]:'temperature_depth_3_C',\n",
    "                           list(data_ZH.columns)[5]:'temperature_depth_4_C'}, inplace =  True)\n",
    "    data_ZH.drop(columns=data_ZH.columns[6:9], inplace=True)\n",
    "    data_ZH.dropna()"
   ]
  },
  {
   "cell_type": "code",
   "execution_count": 125,
   "metadata": {},
   "outputs": [],
   "source": [
    "def calculation_dH(data_riviere, data_etalonnage):\n",
    "    #data_riviere['diff_charge'] = (data_riviere['tension_V'] - data_riviere['temperature_stream_C']*(0.001474) - 1.210344)/(-1.462495)\n",
    "    data_riviere['diff_charge'] = (data_riviere.loc[1:, \"tension_V\"] - float(data_etalonnage.at[2, \"P508\"]) - float(data_etalonnage.at[4, \"P508\"]) * data_riviere.loc[1:, \"temperature_stream_C\"]) / float(data_etalonnage.at[3, \"P508\"])"
   ]
  },
  {
   "cell_type": "code",
   "execution_count": 126,
   "metadata": {},
   "outputs": [],
   "source": [
    "def datechange(data_riviere, data_ZH):\n",
    "    data_riviere.loc[1:, \"dates\"] = pd.to_datetime(data_riviere.loc[1:, \"dates\"])\n",
    "    data_ZH.loc[1:, \"dates\"] = pd.to_datetime(data_ZH.loc[1:, \"dates\"])"
   ]
  },
  {
   "cell_type": "code",
   "execution_count": 127,
   "metadata": {},
   "outputs": [],
   "source": [
    "def deleteAbe(data,columns):\n",
    "\n",
    "    def Abe(data, columns):\n",
    "        indices_abe = []\n",
    "        for column in columns :\n",
    "            # calcul des statistiques\n",
    "            q25 = data.describe().loc['25%'][column]\n",
    "            q75 = data.describe().loc['75%'][column]\n",
    "            iqr = q75 - q25\n",
    "            # repérage des lignes aberrantes\n",
    "            valeurs_aberr = data[column].loc[ (data[column]<q25-1.5*iqr) | (data[column]>q75+1.5*iqr) ]\n",
    "            # récupération des indices\n",
    "            indices_abe += list(valeurs_aberr.index.values)\n",
    "        return list(dict.fromkeys(indices_abe))\n",
    "\n",
    "    return data.drop(Abe(data,columns))\n"
   ]
  },
  {
   "cell_type": "code",
   "execution_count": 145,
   "metadata": {},
   "outputs": [],
   "source": [
    "def traitement(data_riviere, data_ZH, data_etalonnage):\n",
    "    \n",
    "    rename(data_riviere, data_ZH)\n",
    "    calculation_dH(data_riviere, data_etalonnage)\n",
    "    datechange(data_riviere, data_ZH)\n",
    "\n",
    "    a = input(\"IQR ? (y or n)\")\n",
    "    if a == \"y\":\n",
    "        data_riviere_s=data_riviere.drop(Abe(data_riviere,['diff_charge']))\n",
    "        data_ZH_s=data_ZH.drop(Abe(capteur_ZH, ['temperature_depth_1_C','temperature_depth_2_C','temperature_depth_3_C','temperature_depth_4_C']))\n",
    "        data_riviere_s.boxplot(column=['diff_charge'])\n",
    "        data_ZH_s.boxplot(column=['temperature_depth_1_C'])\n",
    "        data_ZH_s.boxplot(column=['temperature_depth_2_C'])\n",
    "        data_ZH_s.boxplot(column=['temperature_depth_3_C'])\n",
    "        data_ZH_s.boxplot(column=['temperature_depth_4_C'])\n",
    "\n",
    "    else:\n",
    "        b = input(\"Méthode Z ? (y or n)\")\n",
    "        if b == \"y\":\n",
    "            dH = data_riviere['diff_charge'].tolist()\n",
    "            T1 = data_ZH['temperature_depth_1_C'].tolist()\n",
    "            T2 = data_ZH['temperature_depth_2_C'].tolist()\n",
    "            T3 = data_ZH['temperature_depth_3_C'].tolist()\n",
    "            T4 = data_ZH['temperature_depth_4_C'].tolist()\n",
    "            threshold = 3\n",
    "        \n",
    "            for i in dH:\n",
    "                outlier_dH = []    \n",
    "                z = (i-np.mean(dH))/np.std(dH)   \n",
    "                if abs(z) > threshold:        \n",
    "                    outlier_dH.append(i)\n",
    "                \n",
    "            for i in T1:\n",
    "                outlier_T1 = []\n",
    "                z = (i-np.mean(T1))/np.std(T1)   \n",
    "                if abs(z) > threshold:        \n",
    "                    outlier_T1.append(i)\n",
    "\n",
    "            for i in T2:\n",
    "                outlier_T2 = []\n",
    "                z = (i-np.mean(T2))/np.std(T2)   \n",
    "                if abs(z) > threshold:        \n",
    "                    outlier_T2.append(i)\n",
    "\n",
    "            for i in T3:\n",
    "                outlier_T3 = []\n",
    "                z = (i-np.mean(T3))/np.std(T3)   \n",
    "                if abs(z) > threshold:        \n",
    "                    outlier_T3.append(i)\n",
    "\n",
    "            for i in T4:\n",
    "                outlier_T4 = []\n",
    "                z = (i-np.mean(T4))/np.std(T4)   \n",
    "                if abs(z) > threshold:        \n",
    "                    outlier_T4.append(i)\n",
    "\n",
    "            print('outlier in dH is', outlier_dH) \n",
    "            print('outlier in temperature_depth_1_C is', outlier_T1) \n",
    "            print('outlier in temperature_depth_2_C is', outlier_T2) \n",
    "            print('outlier in temperature_depth_3_C is', outlier_T3) \n",
    "            print('outlier in temperature_depth_4_C is', outlier_T4) \n",
    "\n",
    "    "
   ]
  },
  {
   "cell_type": "markdown",
   "metadata": {},
   "source": [
    "## Deux autres jeux de données sont disponibles sur le répertoire github.\n",
    "Votre rôle est de traiter et d'analyser ces données avec la méthodologie que vous avez développé"
   ]
  },
  {
   "cell_type": "code",
   "execution_count": 136,
   "metadata": {},
   "outputs": [],
   "source": [
    "# read in our data\n",
    "capteur_riviere1 = pd.read_csv(\"/Users/jiangxinbei/Desktop/MOLONARI_1D_RESOURCES-main/sampling_points/Point047/point047_P_measures.csv\",header=1)\n",
    "capteur_ZH1 = pd.read_csv(\"/Users/jiangxinbei/Desktop/MOLONARI_1D_RESOURCES-main/sampling_points/Point047/point047_T_measures.csv\",header=1)"
   ]
  },
  {
   "cell_type": "code",
   "execution_count": 146,
   "metadata": {},
   "outputs": [
    {
     "data": {
      "image/png": "[encoded data removed]",
      "text/plain": [
       "<Figure size 432x288 with 1 Axes>"
      ]
     },
     "metadata": {
      "needs_background": "light"
     },
     "output_type": "display_data"
    }
   ],
   "source": [
    "traitement(capteur_riviere1, capteur_ZH1, etalonage_capteur_riv)"
   ]
  },
  {
   "cell_type": "code",
   "execution_count": 142,
   "metadata": {},
   "outputs": [
    {
     "name": "stdout",
     "output_type": "stream",
     "text": [
      "outlier in dH is []\n",
      "outlier in temperature_depth_1_C is []\n",
      "outlier in temperature_depth_2_C is []\n",
      "outlier in temperature_depth_3_C is [-199.0]\n",
      "outlier in temperature_depth_4_C is []\n"
     ]
    }
   ],
   "source": [
    "traitement(capteur_riviere1, capteur_ZH1, etalonage_capteur_riv)"
   ]
  }
 ],
 "metadata": {
  "kernelspec": {
   "display_name": "Python 3",
   "language": "python",
   "name": "python3"
  },
  "language_info": {
   "codemirror_mode": {
    "name": "ipython",
    "version": 3
   },
   "file_extension": ".py",
   "mimetype": "text/x-python",
   "name": "python",
   "nbconvert_exporter": "python",
   "pygments_lexer": "ipython3",
   "version": "3.6.3"
  }
 },
 "nbformat": 4,
 "nbformat_minor": 4
}
