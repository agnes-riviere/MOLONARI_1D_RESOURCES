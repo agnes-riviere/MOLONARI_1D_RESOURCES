{
 "cells": [
  {
   "cell_type": "markdown",
   "metadata": {
    "_cell_guid": "5cd5061f-ae30-4837-a53b-690ffd5c5830",
    "_uuid": "9d82bf13584b8e682962fbb96131f2447d741679"
   },
   "source": [
    "# Mettre en place notre environnement\n",
    "________\n",
    "\n",
    "La première chose que nous devons faire est de charger les bibliothèques et les ensembles de données que nous allons utiliser. Pour aujourd'hui, nous allons travailler avec deux ensembles de données : un contenant des chroniques de température dans le lit de la rivière (zone hyporhéique), et un autre contenant des les chroniques de différence de charge enregistré en **Volt**.\n",
    "\n",
    "**Important!** Assurez-vous d'exécuter cette cellule vous-même ou le reste de votre code ne fonctionnera pas"
   ]
  },
  {
   "cell_type": "code",
   "execution_count": 80,
   "metadata": {},
   "outputs": [],
   "source": [
    "# Delete the first line of the file \n",
    "T_measures = \"../sampling_points/Point034/point034_T_measures.csv\"\n",
    "with open(T_measures, 'r') as file: \n",
    "    all_lines = file.readlines()\n",
    "    file.close()\n",
    "    all_lines[0] = '#,\"Date Heure, GMT+01:00\",\"Temp., °C (LGR S/N: 10117166, SEN S/N: 10117166, LBL: Température)\",\"Temp., °C (LGR S/N: 10117166, SEN S/N: 10117166, LBL: Température)\",\"Temp., °C (LGR S/N: 10117166, SEN S/N: 10117166, LBL: Température)\",\"Temp., °C (LGR S/N: 10117166, SEN S/N: 10117166, LBL: Température)\",\"Hôte connecté (LGR S/N: 10117166)\",\"Arrêté (LGR S/N: 10117166)\",Fin de fichier (LGR S/N: 10117166) \\n'   \n",
    "with open(T_measures, 'w') as file: \n",
    "    for line in all_lines: \n",
    "        file.write(line)"
   ]
  },
  {
   "cell_type": "code",
   "execution_count": 81,
   "metadata": {
    "_cell_guid": "135a7804-b5f5-40aa-8657-4a15774e3666",
    "_uuid": "835cbe0834b935fb0fd40c75b9c39454836f4d5f",
    "jupyter": {
     "outputs_hidden": true
    }
   },
   "outputs": [],
   "source": [
    "# modules\n",
    "import pandas as pd\n",
    "import numpy as np\n",
    "import matplotlib.pyplot as plt\n",
    "import seaborn as sns\n",
    "import datetime\n",
    "\n",
    "# read in our data\n",
    "capteur_riviere = pd.read_csv(\"../sampling_points/Point034/point034_P_measures.csv\")\n",
    "capteur_ZH = pd.read_csv(\"../sampling_points/Point034/point034_T_measures.csv\")\n",
    "etalonage_capteur_riv = pd.read_csv(\"../configuration/pressure_sensors/P508.csv\")\n",
    "\n",
    "# set seed for reproducibility\n",
    "np.random.seed(0)"
   ]
  },
  {
   "cell_type": "markdown",
   "metadata": {
    "_cell_guid": "604ac3a4-b1d9-4264-b312-4bbeecdeec00",
    "_uuid": "03ce3b4afe87d98f777172c2c7be066a66a0b237"
   },
   "source": [
    "Nous sommes maintenant prêts à examiner quelques dates ! (Si vous le souhaitez, vous pouvez profiter de cette occasion pour jeter un coup d'œil à certaines des données)."
   ]
  },
  {
   "cell_type": "markdown",
   "metadata": {},
   "source": [
    "# Imprimez le noms des colonnes\n",
    "renommer les colonnes du fichier capteur_riviere :  \tdates,tension_V,temperature_stream_C et celles du fichier capteur_ZH  :\n",
    "#,dates,temperature_depth_1_C,temperature_depth_2_C,temperature_depth_3_C,temperature_depth_4_C\n",
    "\n"
   ]
  },
  {
   "cell_type": "markdown",
   "metadata": {},
   "source": [
    "# Transformez les données de différence de charge en mètres\n",
    "\n"
   ]
  },
  {
   "cell_type": "code",
   "execution_count": 101,
   "metadata": {},
   "outputs": [
    {
     "name": "stdout",
     "output_type": "stream",
     "text": [
      "Titre de tracé : point_montberneux            object\n",
      "dates                                 datetime64[ns]\n",
      "tension_V                                    float64\n",
      "temperature_stream_C                         float64\n",
      "Unnamed: 4                                    object\n",
      "Unnamed: 5                                    object\n",
      "Unnamed: 6                                    object\n",
      "charge_M                                     float64\n",
      "dtype: object\n",
      "#                                                                                int64\n",
      "dates                                                                   datetime64[ns]\n",
      "Temp., �C (LGR S/N: 10117166, SEN S/N: 10117166, LBL: Temp�rature)             float64\n",
      "Temp., �C (LGR S/N: 10117166, SEN S/N: 10117166, LBL: Temp�rature).1           float64\n",
      "Temp., �C (LGR S/N: 10117166, SEN S/N: 10117166, LBL: Temp�rature).2           float64\n",
      "Temp., �C (LGR S/N: 10117166, SEN S/N: 10117166, LBL: Temp�rature).3           float64\n",
      "H�te connect� (LGR S/N: 10117166)                                               object\n",
      "Arr�t� (LGR S/N: 10117166)                                                      object\n",
      "Fin de fichier (LGR S/N: 10117166)                                              object\n",
      "dtype: object\n",
      "Titre de tracé : point_montberneux            object\n",
      "dates                                 datetime64[ns]\n",
      "tension_V                                    float64\n",
      "temperature_stream_C                         float64\n",
      "Unnamed: 4                                    object\n",
      "Unnamed: 5                                    object\n",
      "Unnamed: 6                                    object\n",
      "charge_M                                     float64\n",
      "dtype: object\n"
     ]
    },
    {
     "data": {
      "text/plain": [
       "Sensor_Name    object\n",
       "P508           object\n",
       "dtype: object"
      ]
     },
     "execution_count": 101,
     "metadata": {},
     "output_type": "execute_result"
    }
   ],
   "source": [
    "# Rename columns\n",
    "capteur_riviere.rename(columns = {'Unnamed: 1' : 'dates', 'Unnamed: 2' : 'tension_V', 'Unnamed: 3' : 'temperature_stream_C'}, inplace = True)\n",
    "capteur_ZH.rename(columns = {'Titre de tracé : T520' : '#', 'Date Heure, GMT+01:00': 'dates' , 'Temp., °C (LGR S/N: 10117166, SEN S/N: 10117166, LBL: Température)':'temperature_depth_1_C' ,\n",
    "                             'Temp., °C (LGR S/N: 10117166, SEN S/N: 10117166, LBL: Température).1':'temperature_depth_2_C' , 'Temp., °C (LGR S/N: 10117166, SEN S/N: 10117166, LBL: Température).2':'temperature_depth_3_C' ,\n",
    "                             'Temp., °C (LGR S/N: 10117166, SEN S/N: 10117166, LBL: Température).3':'temperature_depth_4_C'}, inplace = True)\n",
    "print(capteur_riviere.dtypes)\n",
    "print(capteur_ZH.dtypes)\n",
    "# Change types \n",
    "capteur_riviere['tension_V']=pd.to_numeric(capteur_riviere['tension_V'], errors  ='coerce')\n",
    "capteur_riviere['temperature_stream_C']=pd.to_numeric(capteur_riviere['temperature_stream_C'], errors  ='coerce')\n",
    "print(capteur_riviere.dtypes)\n",
    "capteur_riviere.head()\n",
    "etalonage_capteur_riv.dtypes"
   ]
  },
  {
   "cell_type": "code",
   "execution_count": 83,
   "metadata": {},
   "outputs": [
    {
     "data": {
      "text/plain": [
       "0         NaN\n",
       "1   -0.020848\n",
       "2    0.112499\n",
       "3    0.016578\n",
       "4   -0.009873\n",
       "Name: charge_M, dtype: float64"
      ]
     },
     "execution_count": 83,
     "metadata": {},
     "output_type": "execute_result"
    }
   ],
   "source": [
    "# Charge Calculation \n",
    "dUH = pd.to_numeric(etalonage_capteur_riv.loc[3,'P508'])\n",
    "dUT = pd.to_numeric(etalonage_capteur_riv.loc[4,'P508'])\n",
    "intercept = pd.to_numeric(etalonage_capteur_riv.loc[2,'P508'])\n",
    "capteur_riviere['charge_M'] = ((capteur_riviere['tension_V'])-(capteur_riviere['temperature_stream_C'])*dUT-intercept)/(dUH)\n",
    "capteur_riviere['charge_M'].head()"
   ]
  },
  {
   "cell_type": "code",
   "execution_count": null,
   "metadata": {},
   "outputs": [],
   "source": []
  },
  {
   "cell_type": "markdown",
   "metadata": {
    "_cell_guid": "9b87a77d-e5e5-4581-9cd3-0e7339fe1516",
    "_uuid": "742028572a307a42ce40db0102171bc219b05282"
   },
   "source": [
    "# Traitement des dates\n",
    "## Vérifiez le type de données de notre colonne de date\n",
    "___\n",
    "\n",
    "Imprimer les dates des deux fichiers"
   ]
  },
  {
   "cell_type": "code",
   "execution_count": 84,
   "metadata": {
    "_cell_guid": "e6b7eb39-c3e3-40a1-b0a5-91cfcd2d42da",
    "_uuid": "93a08de7a6a621e4b07968c07c1cc612936c6027",
    "jupyter": {
     "outputs_hidden": true
    }
   },
   "outputs": [
    {
     "name": "stdout",
     "output_type": "stream",
     "text": [
      "0       Date Heure, GMT+01:00\n",
      "1        06/27/16 12:00:00 PM\n",
      "2        06/27/16 12:15:00 PM\n",
      "3        06/27/16 12:30:00 PM\n",
      "4        06/27/16 12:45:00 PM\n",
      "                ...          \n",
      "1456         07/12/2016 15:45\n",
      "1457         07/12/2016 16:00\n",
      "1458         07/12/2016 16:15\n",
      "1459         07/12/2016 16:30\n",
      "1460         07/12/2016 16:45\n",
      "Name: dates, Length: 1461, dtype: object\n",
      "0       06/27/16 12:00:00 PM\n",
      "1       06/27/16 12:15:00 PM\n",
      "2       06/27/16 12:30:00 PM\n",
      "3       06/27/16 12:45:00 PM\n",
      "4       06/27/16 01:00:00 PM\n",
      "                ...         \n",
      "1433    07/12/16 10:15:00 AM\n",
      "1434    07/12/16 10:30:00 AM\n",
      "1435    07/12/16 10:45:00 AM\n",
      "1436    07/12/16 10:49:31 AM\n",
      "1437    07/12/16 10:49:47 AM\n",
      "Name: dates, Length: 1438, dtype: object\n"
     ]
    }
   ],
   "source": [
    "# Date impresion\n",
    "print(capteur_riviere['dates'])\n",
    "print(capteur_ZH['dates'])"
   ]
  },
  {
   "cell_type": "markdown",
   "metadata": {
    "_cell_guid": "dbdacb7c-10d4-4b0a-8f6b-6d4a940ca446",
    "_uuid": "d88dbc08ab145fd20f86073b027c53f40fd306bc"
   },
   "source": [
    "Remarquez qu'en bas de la sortie de `head()`, vous pouvez voir qu'il est dit que le type de données de cette colonne est \"object\". \n",
    "\n",
    "> Pandas utilise le dtype \"object\" pour stocker différents types de données, mais le plus souvent, lorsque vous voyez une colonne avec le dtype \"object\", elle contient des chaînes de caractères. \n",
    "\n",
    "Si vous consultez la documentation sur le dtype de Pandas [ici] (http://pandas.pydata.org/pandas-docs/stable/basics.html#dtypes), vous remarquerez qu'il existe également un dtype spécifique `datetime64`. Comme le dtype de notre colonne est `object` plutôt que `datetime64`, nous pouvons dire que Python ne sait pas que cette colonne contient des dates.\n",
    "\n",
    "Nous pouvons aussi regarder uniquement le dtype de votre colonne sans imprimer les premières lignes si nous le souhaitons :"
   ]
  },
  {
   "cell_type": "code",
   "execution_count": 85,
   "metadata": {
    "_cell_guid": "56a047f4-cbf7-4914-951c-a04310ee7432",
    "_uuid": "e2ab2ac80aaac7b165b3af64edb75d29f2612482",
    "jupyter": {
     "outputs_hidden": true
    }
   },
   "outputs": [
    {
     "data": {
      "text/plain": [
       "dtype('O')"
      ]
     },
     "execution_count": 85,
     "metadata": {},
     "output_type": "execute_result"
    }
   ],
   "source": [
    "# check the data type of our date column\n",
    "capteur_riviere.dtypes\n",
    "capteur_riviere.dtypes['dates']"
   ]
  },
  {
   "cell_type": "markdown",
   "metadata": {
    "_cell_guid": "99a207db-3db0-4343-9805-58753f51f6e8",
    "_uuid": "06e6483764014a04e7a1f34525e2f12aee5fdab8"
   },
   "source": [
    "You may have to check the [numpy documentation](https://docs.scipy.org/doc/numpy-1.12.0/reference/generated/numpy.dtype.kind.html#numpy.dtype.kind) to match the letter code to the dtype of the object. \"O\" is the code for \"object\", so we can see that these two methods give us the same information."
   ]
  },
  {
   "cell_type": "markdown",
   "metadata": {
    "_cell_guid": "fb3b552b-411b-4fc0-b1e6-a3a8156fd459",
    "_uuid": "0939ce269aef7001e35cc8f2a5f1eed1f6160940"
   },
   "source": [
    "## Convertir nos colonnes de date en datetime\n",
    "___\n",
    "\n",
    "Maintenant que nous savons que notre colonne de date n'est pas reconnue comme une date, il est temps de la convertir pour qu'elle soit reconnue comme une date. Cette opération est appelée \"analyse syntaxique des dates\" car nous prenons une chaîne de caractères et identifions ses composants. Nous allons utiliser la fonction pd.to_datetime.\n",
    "\n",
    "Nous pouvons indiquer à pandas le format de nos dates à l'aide d'un guide appelé [\"strftime directive\", sur lequel vous trouverez plus d'informations à ce lien] (http://strftime.org/). L'idée de base est que vous devez indiquer quelles parties de la date se trouvent où et quelle ponctuation se trouve entre elles. Il existe [de nombreuses parties possibles d'une date](http://strftime.org/), mais les plus courantes sont `%d` pour le jour, `%m` pour le mois, `%y` pour une année à deux chiffres et `%Y` pour une année à quatre chiffres.\n",
    "\n",
    "Quelques exemples :\n",
    "\n",
    " * Le 17 janvier 2007 a le format \"%m/%d/%y\".\n",
    " * 17-1-2007 a le format \"%d-%m-%Y\".\n",
    " "
   ]
  },
  {
   "cell_type": "code",
   "execution_count": 86,
   "metadata": {
    "_cell_guid": "f955aa17-ede7-4457-a913-ba1c44f8846d",
    "_uuid": "a471aae50241b245caa0c60fbb19821372682b76",
    "jupyter": {
     "outputs_hidden": true
    }
   },
   "outputs": [
    {
     "data": {
      "text/plain": [
       "Titre de tracé : point_montberneux            object\n",
       "dates                                 datetime64[ns]\n",
       "tension_V                                    float64\n",
       "temperature_stream_C                         float64\n",
       "Unnamed: 4                                    object\n",
       "Unnamed: 5                                    object\n",
       "Unnamed: 6                                    object\n",
       "charge_M                                     float64\n",
       "dtype: object"
      ]
     },
     "execution_count": 86,
     "metadata": {},
     "output_type": "execute_result"
    }
   ],
   "source": [
    "\n",
    "capteur_riviere['dates'] = pd.to_datetime(capteur_riviere['dates'] , infer_datetime_format = True, errors = 'coerce')\n",
    "# infer_datetime_format was used because there was diferents formats of datatime\n",
    "capteur_riviere.dtypes"
   ]
  },
  {
   "cell_type": "markdown",
   "metadata": {
    "_cell_guid": "7bd8f8b6-8a60-4a12-b94b-4100188845da",
    "_uuid": "fc95b22f0f4d7a6bc0cb1a7cc55abfb204cc81f9"
   },
   "source": [
    "Maintenant que nos dates sont analysées correctement, nous pouvons travailler avec celles-ci.\n",
    "\n",
    "___\n",
    "* Bien que nous spécifions le format de la date ici, il arrive parfois que vous rencontriez une erreur lorsque plusieurs formats de date sont présents dans une même colonne. Dans ce cas, vous pouvez demander à pandas de déduire le bon format de date. Vous pouvez le faire comme suit :\n",
    "\n",
    "`capteur_riviere['date'] = pd.to_datetime(capteur_riviere['date'], infer_datetime_format=True)``\n",
    "\n",
    "**Pourquoi ne pas toujours utiliser `infer_datetime_format = True?`** Il y a deux grandes raisons de ne pas toujours faire deviner à pandas le format de l'heure. La première est que pandas n'est toujours capable de trouver le bon format de date, surtout si quelqu'un a fait preuve de créativité dans la saisie des données. La seconde est que c'est beaucoup plus lent que de spécifier le format exact des dates.\n",
    "____"
   ]
  },
  {
   "cell_type": "code",
   "execution_count": 87,
   "metadata": {},
   "outputs": [
    {
     "data": {
      "text/html": [
       "<div>\n",
       "<style scoped>\n",
       "    .dataframe tbody tr th:only-of-type {\n",
       "        vertical-align: middle;\n",
       "    }\n",
       "\n",
       "    .dataframe tbody tr th {\n",
       "        vertical-align: top;\n",
       "    }\n",
       "\n",
       "    .dataframe thead th {\n",
       "        text-align: right;\n",
       "    }\n",
       "</style>\n",
       "<table border=\"1\" class=\"dataframe\">\n",
       "  <thead>\n",
       "    <tr style=\"text-align: right;\">\n",
       "      <th></th>\n",
       "      <th>#</th>\n",
       "      <th>dates</th>\n",
       "      <th>Temp., �C (LGR S/N: 10117166, SEN S/N: 10117166, LBL: Temp�rature)</th>\n",
       "      <th>Temp., �C (LGR S/N: 10117166, SEN S/N: 10117166, LBL: Temp�rature).1</th>\n",
       "      <th>Temp., �C (LGR S/N: 10117166, SEN S/N: 10117166, LBL: Temp�rature).2</th>\n",
       "      <th>Temp., �C (LGR S/N: 10117166, SEN S/N: 10117166, LBL: Temp�rature).3</th>\n",
       "      <th>H�te connect� (LGR S/N: 10117166)</th>\n",
       "      <th>Arr�t� (LGR S/N: 10117166)</th>\n",
       "      <th>Fin de fichier (LGR S/N: 10117166)</th>\n",
       "    </tr>\n",
       "  </thead>\n",
       "  <tbody>\n",
       "    <tr>\n",
       "      <th>0</th>\n",
       "      <td>1</td>\n",
       "      <td>2016-06-27 12:00:00</td>\n",
       "      <td>13.810</td>\n",
       "      <td>13.834</td>\n",
       "      <td>13.858</td>\n",
       "      <td>13.810</td>\n",
       "      <td>NaN</td>\n",
       "      <td>NaN</td>\n",
       "      <td>NaN</td>\n",
       "    </tr>\n",
       "    <tr>\n",
       "      <th>1</th>\n",
       "      <td>2</td>\n",
       "      <td>2016-06-27 12:15:00</td>\n",
       "      <td>13.834</td>\n",
       "      <td>13.858</td>\n",
       "      <td>13.882</td>\n",
       "      <td>13.834</td>\n",
       "      <td>NaN</td>\n",
       "      <td>NaN</td>\n",
       "      <td>NaN</td>\n",
       "    </tr>\n",
       "    <tr>\n",
       "      <th>2</th>\n",
       "      <td>3</td>\n",
       "      <td>2016-06-27 12:30:00</td>\n",
       "      <td>13.930</td>\n",
       "      <td>13.954</td>\n",
       "      <td>14.050</td>\n",
       "      <td>14.002</td>\n",
       "      <td>NaN</td>\n",
       "      <td>NaN</td>\n",
       "      <td>NaN</td>\n",
       "    </tr>\n",
       "    <tr>\n",
       "      <th>3</th>\n",
       "      <td>4</td>\n",
       "      <td>2016-06-27 12:45:00</td>\n",
       "      <td>13.882</td>\n",
       "      <td>13.954</td>\n",
       "      <td>14.026</td>\n",
       "      <td>13.954</td>\n",
       "      <td>NaN</td>\n",
       "      <td>NaN</td>\n",
       "      <td>NaN</td>\n",
       "    </tr>\n",
       "    <tr>\n",
       "      <th>4</th>\n",
       "      <td>5</td>\n",
       "      <td>2016-06-27 13:00:00</td>\n",
       "      <td>13.858</td>\n",
       "      <td>13.930</td>\n",
       "      <td>14.026</td>\n",
       "      <td>13.954</td>\n",
       "      <td>NaN</td>\n",
       "      <td>NaN</td>\n",
       "      <td>NaN</td>\n",
       "    </tr>\n",
       "  </tbody>\n",
       "</table>\n",
       "</div>"
      ],
      "text/plain": [
       "   #               dates  \\\n",
       "0  1 2016-06-27 12:00:00   \n",
       "1  2 2016-06-27 12:15:00   \n",
       "2  3 2016-06-27 12:30:00   \n",
       "3  4 2016-06-27 12:45:00   \n",
       "4  5 2016-06-27 13:00:00   \n",
       "\n",
       "   Temp., �C (LGR S/N: 10117166, SEN S/N: 10117166, LBL: Temp�rature)  \\\n",
       "0                                             13.810                    \n",
       "1                                             13.834                    \n",
       "2                                             13.930                    \n",
       "3                                             13.882                    \n",
       "4                                             13.858                    \n",
       "\n",
       "   Temp., �C (LGR S/N: 10117166, SEN S/N: 10117166, LBL: Temp�rature).1  \\\n",
       "0                                             13.834                      \n",
       "1                                             13.858                      \n",
       "2                                             13.954                      \n",
       "3                                             13.954                      \n",
       "4                                             13.930                      \n",
       "\n",
       "   Temp., �C (LGR S/N: 10117166, SEN S/N: 10117166, LBL: Temp�rature).2  \\\n",
       "0                                             13.858                      \n",
       "1                                             13.882                      \n",
       "2                                             14.050                      \n",
       "3                                             14.026                      \n",
       "4                                             14.026                      \n",
       "\n",
       "   Temp., �C (LGR S/N: 10117166, SEN S/N: 10117166, LBL: Temp�rature).3  \\\n",
       "0                                             13.810                      \n",
       "1                                             13.834                      \n",
       "2                                             14.002                      \n",
       "3                                             13.954                      \n",
       "4                                             13.954                      \n",
       "\n",
       "  H�te connect� (LGR S/N: 10117166) Arr�t� (LGR S/N: 10117166)  \\\n",
       "0                               NaN                        NaN   \n",
       "1                               NaN                        NaN   \n",
       "2                               NaN                        NaN   \n",
       "3                               NaN                        NaN   \n",
       "4                               NaN                        NaN   \n",
       "\n",
       "  Fin de fichier (LGR S/N: 10117166)   \n",
       "0                                 NaN  \n",
       "1                                 NaN  \n",
       "2                                 NaN  \n",
       "3                                 NaN  \n",
       "4                                 NaN  "
      ]
     },
     "execution_count": 87,
     "metadata": {},
     "output_type": "execute_result"
    }
   ],
   "source": [
    "capteur_ZH['dates'] = pd.to_datetime(capteur_ZH['dates'] , infer_datetime_format = True, errors = 'coerce')\n",
    "capteur_ZH.head()"
   ]
  },
  {
   "cell_type": "markdown",
   "metadata": {
    "_cell_guid": "fe33df7d-c85d-4b61-b572-5682e6eea81b",
    "_uuid": "a2cec7b480ef13c070d40ca0e0763d2d30a86a9c"
   },
   "source": [
    "## Tracer le jour du mois pour vérifier l'analyse de la date\n",
    "___\n",
    "\n",
    "L'un des plus grands dangers de l'analyse des dates est de mélanger les mois et les jours. La fonction to_datetime() a des messages d'erreur très utiles, mais il n'est pas inutile de vérifier que les jours du mois que nous avons extraits ont un sens. \n",
    "\n",
    "Pour ce faire, nous allons tracer un histogramme des jours du mois. Nous nous attendons à ce qu'il ait des valeurs entre 1 et 31 et, puisqu'il n'y a aucune raison de supposer que les glissements de terrain sont plus fréquents certains jours du mois que d'autres, une distribution relativement égale. (Avec un creux sur 31 car tous les mois n'ont pas 31 jours.) "
   ]
  },
  {
   "cell_type": "code",
   "execution_count": 88,
   "metadata": {
    "_cell_guid": "49feb18f-c077-474e-9353-a24ae850acf6",
    "_uuid": "d3d5a143d3d49e10187e420abfe9cfe18c7bac56",
    "jupyter": {
     "outputs_hidden": true
    }
   },
   "outputs": [
    {
     "data": {
      "text/plain": [
       "<AxesSubplot:>"
      ]
     },
     "execution_count": 88,
     "metadata": {},
     "output_type": "execute_result"
    },
    {
     "data": {
      "image/png": "[encoded data removed]",
      "text/plain": [
       "<Figure size 432x288 with 1 Axes>"
      ]
     },
     "metadata": {
      "needs_background": "light"
     },
     "output_type": "display_data"
    }
   ],
   "source": [
    "capteur_riviere['dates'].apply(lambda x: x.day).hist(bins = 31)\n",
    "# Le trou s'explique par le fait que les données ont éte prises entre le 26 juin et le 12 juillet "
   ]
  },
  {
   "cell_type": "code",
   "execution_count": 89,
   "metadata": {
    "_cell_guid": "49feb18f-c077-474e-9353-a24ae850acf6",
    "_uuid": "d3d5a143d3d49e10187e420abfe9cfe18c7bac56",
    "jupyter": {
     "outputs_hidden": true
    }
   },
   "outputs": [
    {
     "data": {
      "text/plain": [
       "<AxesSubplot:>"
      ]
     },
     "execution_count": 89,
     "metadata": {},
     "output_type": "execute_result"
    },
    {
     "data": {
      "image/png": "[encoded data removed]",
      "text/plain": [
       "<Figure size 432x288 with 1 Axes>"
      ]
     },
     "metadata": {
      "needs_background": "light"
     },
     "output_type": "display_data"
    }
   ],
   "source": [
    "capteur_ZH['dates'].apply(lambda x: x.day).hist(bins = 31)\n",
    "# idem "
   ]
  },
  {
   "cell_type": "markdown",
   "metadata": {},
   "source": [
    "# Valeurs aberrantes\n",
    "\n",
    "L'un des plus grands défis du nettoyage des données est l'identification et le traitement des valeurs aberrantes. En termes simples, les valeurs aberrantes sont des observations qui sont significativement différentes des autres points de données. Même les meilleurs algorithmes d'estimation des paramètres automatique seront moins performants si les observations aberrantes ne sont pas nettoyées des données, car elles impliquent des simulations obsolètes des variables.\n",
    "\n"
   ]
  },
  {
   "cell_type": "code",
   "execution_count": 90,
   "metadata": {},
   "outputs": [
    {
     "name": "stdout",
     "output_type": "stream",
     "text": [
      "<class 'pandas.core.frame.DataFrame'>\n",
      "RangeIndex: 1461 entries, 0 to 1460\n",
      "Data columns (total 8 columns):\n",
      " #   Column                              Non-Null Count  Dtype         \n",
      "---  ------                              --------------  -----         \n",
      " 0   Titre de tracé : point_montberneux  1461 non-null   object        \n",
      " 1   dates                               1460 non-null   datetime64[ns]\n",
      " 2   tension_V                           1460 non-null   float64       \n",
      " 3   temperature_stream_C                1460 non-null   float64       \n",
      " 4   Unnamed: 4                          1 non-null      object        \n",
      " 5   Unnamed: 5                          1 non-null      object        \n",
      " 6   Unnamed: 6                          1 non-null      object        \n",
      " 7   charge_M                            1460 non-null   float64       \n",
      "dtypes: datetime64[ns](1), float64(3), object(4)\n",
      "memory usage: 91.4+ KB\n",
      "None\n"
     ]
    }
   ],
   "source": [
    "print(capteur_riviere.info())"
   ]
  },
  {
   "cell_type": "code",
   "execution_count": 91,
   "metadata": {},
   "outputs": [
    {
     "name": "stdout",
     "output_type": "stream",
     "text": [
      "<class 'pandas.core.frame.DataFrame'>\n",
      "RangeIndex: 1438 entries, 0 to 1437\n",
      "Data columns (total 9 columns):\n",
      " #   Column                                                                Non-Null Count  Dtype         \n",
      "---  ------                                                                --------------  -----         \n",
      " 0   #                                                                     1438 non-null   int64         \n",
      " 1   dates                                                                 1438 non-null   datetime64[ns]\n",
      " 2   Temp., �C (LGR S/N: 10117166, SEN S/N: 10117166, LBL: Temp�rature)    1436 non-null   float64       \n",
      " 3   Temp., �C (LGR S/N: 10117166, SEN S/N: 10117166, LBL: Temp�rature).1  1436 non-null   float64       \n",
      " 4   Temp., �C (LGR S/N: 10117166, SEN S/N: 10117166, LBL: Temp�rature).2  1436 non-null   float64       \n",
      " 5   Temp., �C (LGR S/N: 10117166, SEN S/N: 10117166, LBL: Temp�rature).3  1436 non-null   float64       \n",
      " 6   H�te connect� (LGR S/N: 10117166)                                     1 non-null      object        \n",
      " 7   Arr�t� (LGR S/N: 10117166)                                            1 non-null      object        \n",
      " 8   Fin de fichier (LGR S/N: 10117166)                                    1 non-null      object        \n",
      "dtypes: datetime64[ns](1), float64(4), int64(1), object(3)\n",
      "memory usage: 101.2+ KB\n",
      "None\n"
     ]
    }
   ],
   "source": [
    "print(capteur_ZH.info())"
   ]
  },
  {
   "cell_type": "markdown",
   "metadata": {},
   "source": [
    "## Identification des valeurs aberrantes\n",
    "\n",
    "La présence de valeurs aberrantes dans les données peut avoir de nombreuses raisons. Parfois, les valeurs aberrantes peuvent être authentiques, alors que dans d'autres cas, elles peuvent être dues à des erreurs de saisie de données. Il est important de comprendre les raisons des valeurs aberrantes avant de les nettoyer.\n",
    "\n",
    "Nous allons commencer le processus de recherche des valeurs aberrantes en exécutant les statistiques sommaires sur les variables. Pour ce faire, nous utilisons la fonction describe() ci-dessous, qui fournit un résumé statistique de toutes les variables quantitatives.\n",
    "\n",
    "\n"
   ]
  },
  {
   "cell_type": "code",
   "execution_count": 92,
   "metadata": {},
   "outputs": [
    {
     "data": {
      "text/html": [
       "<div>\n",
       "<style scoped>\n",
       "    .dataframe tbody tr th:only-of-type {\n",
       "        vertical-align: middle;\n",
       "    }\n",
       "\n",
       "    .dataframe tbody tr th {\n",
       "        vertical-align: top;\n",
       "    }\n",
       "\n",
       "    .dataframe thead th {\n",
       "        text-align: right;\n",
       "    }\n",
       "</style>\n",
       "<table border=\"1\" class=\"dataframe\">\n",
       "  <thead>\n",
       "    <tr style=\"text-align: right;\">\n",
       "      <th></th>\n",
       "      <th>#</th>\n",
       "      <th>Temp., �C (LGR S/N: 10117166, SEN S/N: 10117166, LBL: Temp�rature)</th>\n",
       "      <th>Temp., �C (LGR S/N: 10117166, SEN S/N: 10117166, LBL: Temp�rature).1</th>\n",
       "      <th>Temp., �C (LGR S/N: 10117166, SEN S/N: 10117166, LBL: Temp�rature).2</th>\n",
       "      <th>Temp., �C (LGR S/N: 10117166, SEN S/N: 10117166, LBL: Temp�rature).3</th>\n",
       "    </tr>\n",
       "  </thead>\n",
       "  <tbody>\n",
       "    <tr>\n",
       "      <th>count</th>\n",
       "      <td>1438.000000</td>\n",
       "      <td>1436.000000</td>\n",
       "      <td>1436.000000</td>\n",
       "      <td>1436.000000</td>\n",
       "      <td>1436.000000</td>\n",
       "    </tr>\n",
       "    <tr>\n",
       "      <th>mean</th>\n",
       "      <td>719.500000</td>\n",
       "      <td>14.717557</td>\n",
       "      <td>14.502795</td>\n",
       "      <td>14.348946</td>\n",
       "      <td>14.097808</td>\n",
       "    </tr>\n",
       "    <tr>\n",
       "      <th>std</th>\n",
       "      <td>415.259156</td>\n",
       "      <td>0.721799</td>\n",
       "      <td>0.531472</td>\n",
       "      <td>0.423288</td>\n",
       "      <td>0.328507</td>\n",
       "    </tr>\n",
       "    <tr>\n",
       "      <th>min</th>\n",
       "      <td>1.000000</td>\n",
       "      <td>13.329000</td>\n",
       "      <td>13.642000</td>\n",
       "      <td>13.762000</td>\n",
       "      <td>13.690000</td>\n",
       "    </tr>\n",
       "    <tr>\n",
       "      <th>25%</th>\n",
       "      <td>360.250000</td>\n",
       "      <td>14.146000</td>\n",
       "      <td>14.098000</td>\n",
       "      <td>14.050000</td>\n",
       "      <td>13.882000</td>\n",
       "    </tr>\n",
       "    <tr>\n",
       "      <th>50%</th>\n",
       "      <td>719.500000</td>\n",
       "      <td>14.625000</td>\n",
       "      <td>14.409000</td>\n",
       "      <td>14.242000</td>\n",
       "      <td>14.002000</td>\n",
       "    </tr>\n",
       "    <tr>\n",
       "      <th>75%</th>\n",
       "      <td>1078.750000</td>\n",
       "      <td>15.127000</td>\n",
       "      <td>14.768000</td>\n",
       "      <td>14.505000</td>\n",
       "      <td>14.194000</td>\n",
       "    </tr>\n",
       "    <tr>\n",
       "      <th>max</th>\n",
       "      <td>1438.000000</td>\n",
       "      <td>17.320000</td>\n",
       "      <td>17.296000</td>\n",
       "      <td>17.034000</td>\n",
       "      <td>17.130000</td>\n",
       "    </tr>\n",
       "  </tbody>\n",
       "</table>\n",
       "</div>"
      ],
      "text/plain": [
       "                 #  \\\n",
       "count  1438.000000   \n",
       "mean    719.500000   \n",
       "std     415.259156   \n",
       "min       1.000000   \n",
       "25%     360.250000   \n",
       "50%     719.500000   \n",
       "75%    1078.750000   \n",
       "max    1438.000000   \n",
       "\n",
       "       Temp., �C (LGR S/N: 10117166, SEN S/N: 10117166, LBL: Temp�rature)  \\\n",
       "count                                        1436.000000                    \n",
       "mean                                           14.717557                    \n",
       "std                                             0.721799                    \n",
       "min                                            13.329000                    \n",
       "25%                                            14.146000                    \n",
       "50%                                            14.625000                    \n",
       "75%                                            15.127000                    \n",
       "max                                            17.320000                    \n",
       "\n",
       "       Temp., �C (LGR S/N: 10117166, SEN S/N: 10117166, LBL: Temp�rature).1  \\\n",
       "count                                        1436.000000                      \n",
       "mean                                           14.502795                      \n",
       "std                                             0.531472                      \n",
       "min                                            13.642000                      \n",
       "25%                                            14.098000                      \n",
       "50%                                            14.409000                      \n",
       "75%                                            14.768000                      \n",
       "max                                            17.296000                      \n",
       "\n",
       "       Temp., �C (LGR S/N: 10117166, SEN S/N: 10117166, LBL: Temp�rature).2  \\\n",
       "count                                        1436.000000                      \n",
       "mean                                           14.348946                      \n",
       "std                                             0.423288                      \n",
       "min                                            13.762000                      \n",
       "25%                                            14.050000                      \n",
       "50%                                            14.242000                      \n",
       "75%                                            14.505000                      \n",
       "max                                            17.034000                      \n",
       "\n",
       "       Temp., �C (LGR S/N: 10117166, SEN S/N: 10117166, LBL: Temp�rature).3  \n",
       "count                                        1436.000000                     \n",
       "mean                                           14.097808                     \n",
       "std                                             0.328507                     \n",
       "min                                            13.690000                     \n",
       "25%                                            13.882000                     \n",
       "50%                                            14.002000                     \n",
       "75%                                            14.194000                     \n",
       "max                                            17.130000                     "
      ]
     },
     "execution_count": 92,
     "metadata": {},
     "output_type": "execute_result"
    }
   ],
   "source": [
    "capteur_ZH.describe()"
   ]
  },
  {
   "cell_type": "code",
   "execution_count": 93,
   "metadata": {},
   "outputs": [
    {
     "data": {
      "text/html": [
       "<div>\n",
       "<style scoped>\n",
       "    .dataframe tbody tr th:only-of-type {\n",
       "        vertical-align: middle;\n",
       "    }\n",
       "\n",
       "    .dataframe tbody tr th {\n",
       "        vertical-align: top;\n",
       "    }\n",
       "\n",
       "    .dataframe thead th {\n",
       "        text-align: right;\n",
       "    }\n",
       "</style>\n",
       "<table border=\"1\" class=\"dataframe\">\n",
       "  <thead>\n",
       "    <tr style=\"text-align: right;\">\n",
       "      <th></th>\n",
       "      <th>tension_V</th>\n",
       "      <th>temperature_stream_C</th>\n",
       "      <th>charge_M</th>\n",
       "    </tr>\n",
       "  </thead>\n",
       "  <tbody>\n",
       "    <tr>\n",
       "      <th>count</th>\n",
       "      <td>1460.000000</td>\n",
       "      <td>1460.000000</td>\n",
       "      <td>1460.000000</td>\n",
       "    </tr>\n",
       "    <tr>\n",
       "      <th>mean</th>\n",
       "      <td>1.256888</td>\n",
       "      <td>14.896441</td>\n",
       "      <td>-0.016812</td>\n",
       "    </tr>\n",
       "    <tr>\n",
       "      <th>std</th>\n",
       "      <td>0.047302</td>\n",
       "      <td>1.142397</td>\n",
       "      <td>0.032176</td>\n",
       "    </tr>\n",
       "    <tr>\n",
       "      <th>min</th>\n",
       "      <td>0.652670</td>\n",
       "      <td>9.066000</td>\n",
       "      <td>-0.140099</td>\n",
       "    </tr>\n",
       "    <tr>\n",
       "      <th>25%</th>\n",
       "      <td>1.246590</td>\n",
       "      <td>14.203750</td>\n",
       "      <td>-0.025327</td>\n",
       "    </tr>\n",
       "    <tr>\n",
       "      <th>50%</th>\n",
       "      <td>1.262150</td>\n",
       "      <td>14.818000</td>\n",
       "      <td>-0.020557</td>\n",
       "    </tr>\n",
       "    <tr>\n",
       "      <th>75%</th>\n",
       "      <td>1.270010</td>\n",
       "      <td>15.555000</td>\n",
       "      <td>-0.009784</td>\n",
       "    </tr>\n",
       "    <tr>\n",
       "      <th>max</th>\n",
       "      <td>1.432100</td>\n",
       "      <td>18.342000</td>\n",
       "      <td>0.390494</td>\n",
       "    </tr>\n",
       "  </tbody>\n",
       "</table>\n",
       "</div>"
      ],
      "text/plain": [
       "         tension_V  temperature_stream_C     charge_M\n",
       "count  1460.000000           1460.000000  1460.000000\n",
       "mean      1.256888             14.896441    -0.016812\n",
       "std       0.047302              1.142397     0.032176\n",
       "min       0.652670              9.066000    -0.140099\n",
       "25%       1.246590             14.203750    -0.025327\n",
       "50%       1.262150             14.818000    -0.020557\n",
       "75%       1.270010             15.555000    -0.009784\n",
       "max       1.432100             18.342000     0.390494"
      ]
     },
     "execution_count": 93,
     "metadata": {},
     "output_type": "execute_result"
    }
   ],
   "source": [
    "capteur_riviere.describe()"
   ]
  },
  {
   "cell_type": "markdown",
   "metadata": {},
   "source": [
    "## Tracez les graphiques de distribution pour les différentes variables"
   ]
  },
  {
   "cell_type": "code",
   "execution_count": 94,
   "metadata": {},
   "outputs": [
    {
     "data": {
      "text/plain": [
       "array([[<AxesSubplot:title={'center':'dates'}>,\n",
       "        <AxesSubplot:title={'center':'tension_V'}>],\n",
       "       [<AxesSubplot:title={'center':'temperature_stream_C'}>,\n",
       "        <AxesSubplot:title={'center':'charge_M'}>]], dtype=object)"
      ]
     },
     "execution_count": 94,
     "metadata": {},
     "output_type": "execute_result"
    },
    {
     "data": {
      "image/png": "[encoded data removed]",
      "text/plain": [
       "<Figure size 432x288 with 4 Axes>"
      ]
     },
     "metadata": {
      "needs_background": "light"
     },
     "output_type": "display_data"
    }
   ],
   "source": [
    "capteur_riviere.hist()"
   ]
  },
  {
   "cell_type": "markdown",
   "metadata": {},
   "source": [
    "## Trouver les valeurs limites"
   ]
  },
  {
   "cell_type": "code",
   "execution_count": 95,
   "metadata": {},
   "outputs": [
    {
     "name": "stdout",
     "output_type": "stream",
     "text": [
      "La charge minimale est -0.14009855760190615 et la charge maximale est 0.39049449331450714\n",
      "La temperature minimale est 9.066 et la temperature maximale est 18.342\n"
     ]
    }
   ],
   "source": [
    "idmax = capteur_riviere['charge_M'].idxmax()\n",
    "idmin = capteur_riviere['charge_M'].idxmin()\n",
    "print('La charge minimale est', capteur_riviere['charge_M'].min(), 'et la charge maximale est', capteur_riviere['charge_M'].max())\n",
    "print('La temperature minimale est', capteur_riviere['temperature_stream_C'].min(), 'et la temperature maximale est', capteur_riviere['temperature_stream_C'].max())"
   ]
  },
  {
   "cell_type": "code",
   "execution_count": 96,
   "metadata": {},
   "outputs": [
    {
     "data": {
      "text/plain": [
       "<AxesSubplot:>"
      ]
     },
     "execution_count": 96,
     "metadata": {},
     "output_type": "execute_result"
    },
    {
     "data": {
      "image/png": "[encoded data removed]",
      "text/plain": [
       "<Figure size 432x288 with 1 Axes>"
      ]
     },
     "metadata": {
      "needs_background": "light"
     },
     "output_type": "display_data"
    }
   ],
   "source": [
    "# Delete every value which is greater than a certain threshold\n",
    "capteur_riviere.drop(capteur_riviere.loc[capteur_riviere['charge_M'] > 0.2].index)['charge_M'].hist()\n"
   ]
  },
  {
   "cell_type": "code",
   "execution_count": 97,
   "metadata": {},
   "outputs": [
    {
     "data": {
      "text/plain": [
       "<AxesSubplot:>"
      ]
     },
     "execution_count": 97,
     "metadata": {},
     "output_type": "execute_result"
    },
    {
     "data": {
      "image/png": "[encoded data removed]",
      "text/plain": [
       "<Figure size 432x288 with 1 Axes>"
      ]
     },
     "metadata": {
      "needs_background": "light"
     },
     "output_type": "display_data"
    }
   ],
   "source": [
    "capteur_riviere['charge_M'].hist()\n",
    "# Here we see the outliers whit the greatest values "
   ]
  },
  {
   "cell_type": "markdown",
   "metadata": {},
   "source": [
    "## Identification des valeurs aberrantes\n",
    "\n",
    "La présence de valeurs aberrantes dans les données peut avoir de nombreuses raisons. Parfois, les valeurs aberrantes peuvent être authentiques, alors que dans d'autres cas, elles peuvent être dues à des erreurs de saisie de données. Il est important de comprendre les raisons des valeurs aberrantes avant de les nettoyer.\n",
    "\n",
    "Nous allons commencer le processus de recherche des valeurs aberrantes en exécutant les statistiques sommaires sur les variables. Pour ce faire, nous utilisons la fonction describe() ci-dessous, qui fournit un résumé statistique de toutes les variables quantitatives."
   ]
  },
  {
   "cell_type": "markdown",
   "metadata": {},
   "source": [
    "## Tracez les graphiques de distribution pour les différentes variables"
   ]
  },
  {
   "cell_type": "markdown",
   "metadata": {},
   "source": [
    "#### 1. Box plot\n",
    "\n",
    "Le box plot est une manière standardisée d'afficher la distribution des données sur la base du résumé en cinq chiffres (minimum, premier quartile (Q1), médiane, troisième quartile (Q3) et maximum). Elle est souvent utilisée pour identifier la distribution des données et détecter les valeurs aberrantes. La ligne de code ci-dessous trace le box plot de la variable numérique 'Loan_amount'. \n",
    "\n"
   ]
  },
  {
   "cell_type": "code",
   "execution_count": 98,
   "metadata": {},
   "outputs": [
    {
     "data": {
      "text/plain": [
       "<AxesSubplot:>"
      ]
     },
     "execution_count": 98,
     "metadata": {},
     "output_type": "execute_result"
    },
    {
     "data": {
      "image/png": "[encoded data removed]",
      "text/plain": [
       "<Figure size 432x288 with 1 Axes>"
      ]
     },
     "metadata": {
      "needs_background": "light"
     },
     "output_type": "display_data"
    }
   ],
   "source": [
    "capteur_riviere.boxplot(column = ['charge_M'])"
   ]
  },
  {
   "cell_type": "code",
   "execution_count": 99,
   "metadata": {},
   "outputs": [
    {
     "data": {
      "text/plain": [
       "<AxesSubplot:>"
      ]
     },
     "execution_count": 99,
     "metadata": {},
     "output_type": "execute_result"
    },
    {
     "data": {
      "image/png": "[encoded data removed]",
      "text/plain": [
       "<Figure size 432x288 with 1 Axes>"
      ]
     },
     "metadata": {
      "needs_background": "light"
     },
     "output_type": "display_data"
    }
   ],
   "source": [
    "capteur_riviere.boxplot(column = ['temperature_stream_C'])"
   ]
  },
  {
   "cell_type": "code",
   "execution_count": 100,
   "metadata": {},
   "outputs": [
    {
     "ename": "KeyError",
     "evalue": "\"None of [Index(['temperature_depth_1_C', 'temperature_depth_2_C',\\n       'temperature_depth_3_C', 'temperature_depth_4_C'],\\n      dtype='object')] are in the [columns]\"",
     "output_type": "error",
     "traceback": [
      "\u001b[1;31m---------------------------------------------------------------------------\u001b[0m",
      "\u001b[1;31mKeyError\u001b[0m                                  Traceback (most recent call last)",
      "\u001b[1;32m<ipython-input-100-e9b2fae7c6b8>\u001b[0m in \u001b[0;36m<module>\u001b[1;34m\u001b[0m\n\u001b[1;32m----> 1\u001b[1;33m \u001b[0mcapteur_ZH\u001b[0m\u001b[1;33m.\u001b[0m\u001b[0mboxplot\u001b[0m\u001b[1;33m(\u001b[0m\u001b[0mcolumn\u001b[0m \u001b[1;33m=\u001b[0m \u001b[1;33m[\u001b[0m\u001b[1;34m'temperature_depth_1_C'\u001b[0m\u001b[1;33m,\u001b[0m\u001b[1;34m'temperature_depth_2_C'\u001b[0m\u001b[1;33m,\u001b[0m\u001b[1;34m'temperature_depth_3_C'\u001b[0m\u001b[1;33m,\u001b[0m\u001b[1;34m'temperature_depth_4_C'\u001b[0m\u001b[1;33m]\u001b[0m\u001b[1;33m)\u001b[0m\u001b[1;33m\u001b[0m\u001b[1;33m\u001b[0m\u001b[0m\n\u001b[0m",
      "\u001b[1;32mD:\\conda\\envs\\sdd2021\\lib\\site-packages\\pandas\\plotting\\_core.py\u001b[0m in \u001b[0;36mboxplot_frame\u001b[1;34m(self, column, by, ax, fontsize, rot, grid, figsize, layout, return_type, backend, **kwargs)\u001b[0m\n\u001b[0;32m    492\u001b[0m ):\n\u001b[0;32m    493\u001b[0m     \u001b[0mplot_backend\u001b[0m \u001b[1;33m=\u001b[0m \u001b[0m_get_plot_backend\u001b[0m\u001b[1;33m(\u001b[0m\u001b[0mbackend\u001b[0m\u001b[1;33m)\u001b[0m\u001b[1;33m\u001b[0m\u001b[1;33m\u001b[0m\u001b[0m\n\u001b[1;32m--> 494\u001b[1;33m     return plot_backend.boxplot_frame(\n\u001b[0m\u001b[0;32m    495\u001b[0m         \u001b[0mself\u001b[0m\u001b[1;33m,\u001b[0m\u001b[1;33m\u001b[0m\u001b[1;33m\u001b[0m\u001b[0m\n\u001b[0;32m    496\u001b[0m         \u001b[0mcolumn\u001b[0m\u001b[1;33m=\u001b[0m\u001b[0mcolumn\u001b[0m\u001b[1;33m,\u001b[0m\u001b[1;33m\u001b[0m\u001b[1;33m\u001b[0m\u001b[0m\n",
      "\u001b[1;32mD:\\conda\\envs\\sdd2021\\lib\\site-packages\\pandas\\plotting\\_matplotlib\\boxplot.py\u001b[0m in \u001b[0;36mboxplot_frame\u001b[1;34m(self, column, by, ax, fontsize, rot, grid, figsize, layout, return_type, **kwds)\u001b[0m\n\u001b[0;32m    383\u001b[0m     \u001b[1;32mimport\u001b[0m \u001b[0mmatplotlib\u001b[0m\u001b[1;33m.\u001b[0m\u001b[0mpyplot\u001b[0m \u001b[1;32mas\u001b[0m \u001b[0mplt\u001b[0m\u001b[1;33m\u001b[0m\u001b[1;33m\u001b[0m\u001b[0m\n\u001b[0;32m    384\u001b[0m \u001b[1;33m\u001b[0m\u001b[0m\n\u001b[1;32m--> 385\u001b[1;33m     ax = boxplot(\n\u001b[0m\u001b[0;32m    386\u001b[0m         \u001b[0mself\u001b[0m\u001b[1;33m,\u001b[0m\u001b[1;33m\u001b[0m\u001b[1;33m\u001b[0m\u001b[0m\n\u001b[0;32m    387\u001b[0m         \u001b[0mcolumn\u001b[0m\u001b[1;33m=\u001b[0m\u001b[0mcolumn\u001b[0m\u001b[1;33m,\u001b[0m\u001b[1;33m\u001b[0m\u001b[1;33m\u001b[0m\u001b[0m\n",
      "\u001b[1;32mD:\\conda\\envs\\sdd2021\\lib\\site-packages\\pandas\\plotting\\_matplotlib\\boxplot.py\u001b[0m in \u001b[0;36mboxplot\u001b[1;34m(data, column, by, ax, fontsize, rot, grid, figsize, layout, return_type, **kwds)\u001b[0m\n\u001b[0;32m    360\u001b[0m             \u001b[0mcolumns\u001b[0m \u001b[1;33m=\u001b[0m \u001b[0mdata\u001b[0m\u001b[1;33m.\u001b[0m\u001b[0mcolumns\u001b[0m\u001b[1;33m\u001b[0m\u001b[1;33m\u001b[0m\u001b[0m\n\u001b[0;32m    361\u001b[0m         \u001b[1;32melse\u001b[0m\u001b[1;33m:\u001b[0m\u001b[1;33m\u001b[0m\u001b[1;33m\u001b[0m\u001b[0m\n\u001b[1;32m--> 362\u001b[1;33m             \u001b[0mdata\u001b[0m \u001b[1;33m=\u001b[0m \u001b[0mdata\u001b[0m\u001b[1;33m[\u001b[0m\u001b[0mcolumns\u001b[0m\u001b[1;33m]\u001b[0m\u001b[1;33m\u001b[0m\u001b[1;33m\u001b[0m\u001b[0m\n\u001b[0m\u001b[0;32m    363\u001b[0m \u001b[1;33m\u001b[0m\u001b[0m\n\u001b[0;32m    364\u001b[0m         \u001b[0mresult\u001b[0m \u001b[1;33m=\u001b[0m \u001b[0mplot_group\u001b[0m\u001b[1;33m(\u001b[0m\u001b[0mcolumns\u001b[0m\u001b[1;33m,\u001b[0m \u001b[0mdata\u001b[0m\u001b[1;33m.\u001b[0m\u001b[0mvalues\u001b[0m\u001b[1;33m.\u001b[0m\u001b[0mT\u001b[0m\u001b[1;33m,\u001b[0m \u001b[0max\u001b[0m\u001b[1;33m)\u001b[0m\u001b[1;33m\u001b[0m\u001b[1;33m\u001b[0m\u001b[0m\n",
      "\u001b[1;32mD:\\conda\\envs\\sdd2021\\lib\\site-packages\\pandas\\core\\frame.py\u001b[0m in \u001b[0;36m__getitem__\u001b[1;34m(self, key)\u001b[0m\n\u001b[0;32m   3028\u001b[0m             \u001b[1;32mif\u001b[0m \u001b[0mis_iterator\u001b[0m\u001b[1;33m(\u001b[0m\u001b[0mkey\u001b[0m\u001b[1;33m)\u001b[0m\u001b[1;33m:\u001b[0m\u001b[1;33m\u001b[0m\u001b[1;33m\u001b[0m\u001b[0m\n\u001b[0;32m   3029\u001b[0m                 \u001b[0mkey\u001b[0m \u001b[1;33m=\u001b[0m \u001b[0mlist\u001b[0m\u001b[1;33m(\u001b[0m\u001b[0mkey\u001b[0m\u001b[1;33m)\u001b[0m\u001b[1;33m\u001b[0m\u001b[1;33m\u001b[0m\u001b[0m\n\u001b[1;32m-> 3030\u001b[1;33m             \u001b[0mindexer\u001b[0m \u001b[1;33m=\u001b[0m \u001b[0mself\u001b[0m\u001b[1;33m.\u001b[0m\u001b[0mloc\u001b[0m\u001b[1;33m.\u001b[0m\u001b[0m_get_listlike_indexer\u001b[0m\u001b[1;33m(\u001b[0m\u001b[0mkey\u001b[0m\u001b[1;33m,\u001b[0m \u001b[0maxis\u001b[0m\u001b[1;33m=\u001b[0m\u001b[1;36m1\u001b[0m\u001b[1;33m,\u001b[0m \u001b[0mraise_missing\u001b[0m\u001b[1;33m=\u001b[0m\u001b[1;32mTrue\u001b[0m\u001b[1;33m)\u001b[0m\u001b[1;33m[\u001b[0m\u001b[1;36m1\u001b[0m\u001b[1;33m]\u001b[0m\u001b[1;33m\u001b[0m\u001b[1;33m\u001b[0m\u001b[0m\n\u001b[0m\u001b[0;32m   3031\u001b[0m \u001b[1;33m\u001b[0m\u001b[0m\n\u001b[0;32m   3032\u001b[0m         \u001b[1;31m# take() does not accept boolean indexers\u001b[0m\u001b[1;33m\u001b[0m\u001b[1;33m\u001b[0m\u001b[1;33m\u001b[0m\u001b[0m\n",
      "\u001b[1;32mD:\\conda\\envs\\sdd2021\\lib\\site-packages\\pandas\\core\\indexing.py\u001b[0m in \u001b[0;36m_get_listlike_indexer\u001b[1;34m(self, key, axis, raise_missing)\u001b[0m\n\u001b[0;32m   1264\u001b[0m             \u001b[0mkeyarr\u001b[0m\u001b[1;33m,\u001b[0m \u001b[0mindexer\u001b[0m\u001b[1;33m,\u001b[0m \u001b[0mnew_indexer\u001b[0m \u001b[1;33m=\u001b[0m \u001b[0max\u001b[0m\u001b[1;33m.\u001b[0m\u001b[0m_reindex_non_unique\u001b[0m\u001b[1;33m(\u001b[0m\u001b[0mkeyarr\u001b[0m\u001b[1;33m)\u001b[0m\u001b[1;33m\u001b[0m\u001b[1;33m\u001b[0m\u001b[0m\n\u001b[0;32m   1265\u001b[0m \u001b[1;33m\u001b[0m\u001b[0m\n\u001b[1;32m-> 1266\u001b[1;33m         \u001b[0mself\u001b[0m\u001b[1;33m.\u001b[0m\u001b[0m_validate_read_indexer\u001b[0m\u001b[1;33m(\u001b[0m\u001b[0mkeyarr\u001b[0m\u001b[1;33m,\u001b[0m \u001b[0mindexer\u001b[0m\u001b[1;33m,\u001b[0m \u001b[0maxis\u001b[0m\u001b[1;33m,\u001b[0m \u001b[0mraise_missing\u001b[0m\u001b[1;33m=\u001b[0m\u001b[0mraise_missing\u001b[0m\u001b[1;33m)\u001b[0m\u001b[1;33m\u001b[0m\u001b[1;33m\u001b[0m\u001b[0m\n\u001b[0m\u001b[0;32m   1267\u001b[0m         \u001b[1;32mreturn\u001b[0m \u001b[0mkeyarr\u001b[0m\u001b[1;33m,\u001b[0m \u001b[0mindexer\u001b[0m\u001b[1;33m\u001b[0m\u001b[1;33m\u001b[0m\u001b[0m\n\u001b[0;32m   1268\u001b[0m \u001b[1;33m\u001b[0m\u001b[0m\n",
      "\u001b[1;32mD:\\conda\\envs\\sdd2021\\lib\\site-packages\\pandas\\core\\indexing.py\u001b[0m in \u001b[0;36m_validate_read_indexer\u001b[1;34m(self, key, indexer, axis, raise_missing)\u001b[0m\n\u001b[0;32m   1306\u001b[0m             \u001b[1;32mif\u001b[0m \u001b[0mmissing\u001b[0m \u001b[1;33m==\u001b[0m \u001b[0mlen\u001b[0m\u001b[1;33m(\u001b[0m\u001b[0mindexer\u001b[0m\u001b[1;33m)\u001b[0m\u001b[1;33m:\u001b[0m\u001b[1;33m\u001b[0m\u001b[1;33m\u001b[0m\u001b[0m\n\u001b[0;32m   1307\u001b[0m                 \u001b[0maxis_name\u001b[0m \u001b[1;33m=\u001b[0m \u001b[0mself\u001b[0m\u001b[1;33m.\u001b[0m\u001b[0mobj\u001b[0m\u001b[1;33m.\u001b[0m\u001b[0m_get_axis_name\u001b[0m\u001b[1;33m(\u001b[0m\u001b[0maxis\u001b[0m\u001b[1;33m)\u001b[0m\u001b[1;33m\u001b[0m\u001b[1;33m\u001b[0m\u001b[0m\n\u001b[1;32m-> 1308\u001b[1;33m                 \u001b[1;32mraise\u001b[0m \u001b[0mKeyError\u001b[0m\u001b[1;33m(\u001b[0m\u001b[1;34mf\"None of [{key}] are in the [{axis_name}]\"\u001b[0m\u001b[1;33m)\u001b[0m\u001b[1;33m\u001b[0m\u001b[1;33m\u001b[0m\u001b[0m\n\u001b[0m\u001b[0;32m   1309\u001b[0m \u001b[1;33m\u001b[0m\u001b[0m\n\u001b[0;32m   1310\u001b[0m             \u001b[0max\u001b[0m \u001b[1;33m=\u001b[0m \u001b[0mself\u001b[0m\u001b[1;33m.\u001b[0m\u001b[0mobj\u001b[0m\u001b[1;33m.\u001b[0m\u001b[0m_get_axis\u001b[0m\u001b[1;33m(\u001b[0m\u001b[0maxis\u001b[0m\u001b[1;33m)\u001b[0m\u001b[1;33m\u001b[0m\u001b[1;33m\u001b[0m\u001b[0m\n",
      "\u001b[1;31mKeyError\u001b[0m: \"None of [Index(['temperature_depth_1_C', 'temperature_depth_2_C',\\n       'temperature_depth_3_C', 'temperature_depth_4_C'],\\n      dtype='object')] are in the [columns]\""
     ]
    },
    {
     "data": {
      "image/png": "[encoded data removed]",
      "text/plain": [
       "<Figure size 432x288 with 1 Axes>"
      ]
     },
     "metadata": {
      "needs_background": "light"
     },
     "output_type": "display_data"
    }
   ],
   "source": [
    "capteur_ZH.boxplot(column = ['temperature_depth_1_C','temperature_depth_2_C','temperature_depth_3_C','temperature_depth_4_C'])"
   ]
  },
  {
   "cell_type": "markdown",
   "metadata": {},
   "source": [
    "## 2. Histogramme\n",
    "\n",
    "Un histogramme est utilisé pour visualiser la distribution d'une variable numérique. Une valeur aberrante apparaît en dehors du modèle général de distribution. La ligne de code ci-dessous trace un histogramme de la variable 'Revenu', en utilisant la fonction hist(). A histogram is used to visualize the distribution of a numerical variable. An outlier will appear outside the overall pattern of distribution. The line of code below plots a histogram of the 'Income' variable, using the hist() function."
   ]
  },
  {
   "cell_type": "code",
   "execution_count": null,
   "metadata": {},
   "outputs": [],
   "source": [
    "capteur_ZH.hist(column = ['temperature_depth_1_C','temperature_depth_2_C','temperature_depth_3_C','temperature_depth_4_C'])"
   ]
  },
  {
   "cell_type": "markdown",
   "metadata": {},
   "source": [
    "## 3. Scatterplot\n",
    "\n",
    "Un nuage de points permet de visualiser la relation entre deux variables quantitatives. Les données sont affichées sous la forme d'une collection de points, et tout point qui ne correspond pas au regroupement général des deux variables peut indiquer des valeurs aberrantes. \n",
    "\n",
    "génèrez un nuage de points entre les différentes variables de températures. \n",
    "\n"
   ]
  },
  {
   "cell_type": "code",
   "execution_count": null,
   "metadata": {},
   "outputs": [],
   "source": [
    "capteur_ZH.plot.scatter(x = 'temperature_depth_1_C' , y = 'temperature_depth_2_C')\n",
    "capteur_ZH.plot.scatter(x = 'temperature_depth_2_C' , y = 'temperature_depth_3_C')\n",
    "# We can see un obvious outlier in the upper right corner "
   ]
  },
  {
   "cell_type": "markdown",
   "metadata": {},
   "source": [
    "## Identification des valeurs aberrantes avec l'écart interquartile (IQR)\n",
    "\n",
    "L'écart interquartile (IQR) est une mesure de la dispersion statistique et est calculé comme la différence entre les 75e et 25e percentiles. Il est représenté par la formule IQR = Q3 - Q1. Les  lignes de code ci-dessous calculent et impriment l'écart interquartile pour chacune des variables de l'ensemble de données.  La règle générale est que tout ce qui n'est pas dans la plage de (Q1 - 1,5 IQR) et (Q3 + 1,5 IQR) est une valeur aberrante et peut être supprimé.\n",
    "\n",
    "### Fonctions d'assistance\n",
    "\n",
    "Ecrire des fonctions afin d'examiner chaque colonne des deux fichiers de données de terain et de calculer les 1er et 3e quartiles, l'intervalle inter-quartile et le minimum et le maximum. Toute valeur en dehors du minimum et du maximum est une valeur aberrante."
   ]
  },
  {
   "cell_type": "code",
   "execution_count": null,
   "metadata": {},
   "outputs": [],
   "source": [
    "def remove_Outliers(data, col, treshold = 1.5):\n",
    "    if type(col) is str :\n",
    "        Q3 = data[col].quantile(0.75)\n",
    "        Q1 = data[col].quantile(0.25)\n",
    "        IQR = Q3 - Q1\n",
    "        lower_range = Q1 - treshold*IQR\n",
    "        upper_range = Q3 + treshold*IQR\n",
    "        outlier_free_list = [x for x in data[col] if ((x > lower_range) & (x < upper_range))]\n",
    "        filtered_data = data.loc[data[col].isin(outlier_free_list)]\n",
    "        return  filtered_data\n",
    "    elif len(col)>1:\n",
    "        filtered_data = remove_Outliers(data, col[0])\n",
    "        for i in col[1:]:\n",
    "            filtered_data = remove_Outliers(filtered_data, i)       \n",
    "        return filtered_data\n",
    "    \n",
    "\n",
    "res = remove_Outliers(capteur_ZH, ['temperature_depth_1_C','temperature_depth_2_C','temperature_depth_3_C','temperature_depth_4_C'])\n",
    "res.boxplot( 'temperature_depth_1_C')\n"
   ]
  },
  {
   "cell_type": "markdown",
   "metadata": {},
   "source": [
    "### Résolution de la distribution asymétrique…\n",
    "\n",
    "A partir de nos données dans un histogramme, nous pouvons obtenir une distribution asymétrique des données. Une seule grande barre avec de minuscules barres à gauche ou à droite (ou les deux) est un signe révélateur que des valeurs aberrantes peuvent être présentes dans les données et cela signifie que notre bel histogramme, bien rangé et normalement distribué, est complètement caché et obscurci par le seul grand bar.\n",
    "\n",
    "\n",
    "Lorsque nous observons ce modèle, nous devons supprimer les valeurs aberrantes, puis voir à quoi ressemble la nouvelle distribution. Si nous voulons vérifier la présence de valeurs aberrantes, une boîte à moustaches rapide confirmera ou refusera…\n"
   ]
  },
  {
   "cell_type": "markdown",
   "metadata": {},
   "source": [
    "C'est ce que l'on a déjà fait dans la partie \"Trouver la valeur limite\"."
   ]
  },
  {
   "cell_type": "markdown",
   "metadata": {},
   "source": [
    "\n",
    "## Suppression des valeurs aberrantes et visualisation du résultat\n",
    "\n",
    "Après avoir fait tout le gros du travail dans les fonctions d'assistance, nous pouvons maintenant supprimer les lignes des données qui contiennent des valeurs aberrantes en dehors de | - et - | moustaches…\n",
    "\n",
    "\n",
    "\n",
    "## Expliquez le résultat\n",
    "est ce que cette méthodologie vous semble suffisante? Tentez de trouver les limites de cette méthodologie?\n",
    "Que pouvez vous apportez aux fonctions afin de les améliorer? "
   ]
  },
  {
   "cell_type": "markdown",
   "metadata": {},
   "source": [
    "Une limite de cette méthodologie est qu'elle est arbitraire et pas adaptable : tous les points très loin de la mediane ne sont pas forcement aberrants. C'est pourquoi le paramètre 1.5 est devenue une variable de la function. "
   ]
  },
  {
   "cell_type": "markdown",
   "metadata": {},
   "source": [
    "## Valeurs abérantes avec la méthode score Z \n",
    "Il s'agit d'une unité mesurée en écart-type. Fondamentalement, il s'agit d'une mesure de la distance entre le score brut et la moyenne. Il est compris entre -3 et +3, où 0 = moyenne et 1 = écart-type, c'est-à-dire une distribution normale.\n",
    "\n",
    "Cette méthode suggère qu'en tout point de données il existe une relation entre l'écart-type et la moyenne. Le score Z permet de trouver la distribution des données où la moyenne est égale à 0 et l'écart-type à 1, c'est-à-dire une distribution normale. Vous devez vous demander en quoi cela peut nous aider à identifier les valeurs aberrantes ? En calculant le score Z, nous redimensionnons et centrons les données et recherchons les points de données qui sont trop éloignés de zéro. Ces points de données qui sont trop éloignés de zéro seront traités comme des valeurs aberrantes. Dans la plupart des cas, un seuil de 3 ou -3 est utilisé, c'est-à-dire que si la valeur du score Z est supérieure ou inférieure à 3 ou -3 respectivement, ce point de données sera identifié comme aberrant.\n",
    "\n",
    "Formule pour le score Z = (Observation - Moyenne)/Écart-type\n",
    "\n",
    "z = (X - μ) / σ\n",
    "\n",
    "Ecrire des functions afin de pouvoir appliquer cette méthodologie aux données"
   ]
  },
  {
   "cell_type": "code",
   "execution_count": null,
   "metadata": {},
   "outputs": [],
   "source": [
    "def remove_Z_outliers(data, col, treshold = 3):\n",
    "    if type(col) is str :\n",
    "        mean = data[col].mean()\n",
    "        std = data[col].std()\n",
    "        outlier_free_list = [x for x in data[col] if (np.abs(x-mean)/std <treshold)]\n",
    "        filtered_data = data.loc[data[col].isin(outlier_free_list)]\n",
    "        return  filtered_data\n",
    "    else:\n",
    "        filtered_data = remove_Z_outliers(data, col[0], treshold)\n",
    "        for i in col[1:]:\n",
    "            filtered_data = remove_Z_outliers(filtered_data, i, treshold)       \n",
    "        return filtered_data\n",
    "\n",
    "res = remove_Z_outliers(capteur_ZH, ['temperature_depth_1_C','temperature_depth_1_C'])\n",
    "res.boxplot( 'temperature_depth_1_C')"
   ]
  },
  {
   "cell_type": "code",
   "execution_count": null,
   "metadata": {},
   "outputs": [],
   "source": [
    "capteur_ZH.boxplot( 'temperature_depth_1_C')"
   ]
  },
  {
   "cell_type": "code",
   "execution_count": null,
   "metadata": {},
   "outputs": [],
   "source": [
    "res.plot.scatter(x = 'temperature_depth_1_C' , y = 'temperature_depth_2_C')"
   ]
  },
  {
   "cell_type": "markdown",
   "metadata": {},
   "source": [
    "## Comparer les deux méthodologies, donner leurs avantages et leurs limitations\n",
    "Vous pouvez proposer des alternatives.\n"
   ]
  },
  {
   "cell_type": "markdown",
   "metadata": {},
   "source": [
    "On peut faire le même commentaire pour la méthodologie Z-score. Elle est arbitraire et pas adaptable : tous les points très loin de la mediane ne sont pas forcement aberrants. C'est pourquoi le paramètre 3 est devenue une variable de la function. \n",
    "Le Z-score a tout de même comme avantage de préserver 99% des valeures d'une gaussiene. "
   ]
  },
  {
   "cell_type": "markdown",
   "metadata": {},
   "source": [
    "\n",
    "## Proposer une fonction permettant d'aller des données brutes jusqu'au premier traitement des données.\n",
    "\n",
    "N'oubliez pas de permettre à l'utilisateur de pouvoir prendre des décisions et de l'aider à prendre ces décisions\n",
    "Pensez à indiquer à l'utilisateur si le jeu de données est utilisable, quels sont les capteurs défaillant, quel semble être l'orientation des échanges nappe-rivière, les données de différence de charge semblent t'elles données les mêmes informations que les données du profils de température.\n",
    "\n",
    "Votre function doit prendre en entrée, les trois fichiers et proposer au fur et à mesure de son dérouler des propositions à l'utilisateur.\n"
   ]
  },
  {
   "cell_type": "code",
   "execution_count": null,
   "metadata": {},
   "outputs": [],
   "source": [
    "import pandas as pd\n",
    "import numpy as np\n",
    "import matplotlib.pyplot as plt\n",
    "import seaborn as sns\n",
    "import datetime\n",
    "\n",
    "def upper_cut(data, col, treshold = 0.2):\n",
    "    if type(col) is str :\n",
    "        res = data.drop(data.loc[data[col] > treshold].index)\n",
    "        return res\n",
    "    elif len(col)>1:\n",
    "        filtered_data = upper_cut(data, col[0], treshold)\n",
    "        for i in col[1:]:\n",
    "            filtered_data = upper_cut(filtered_data, i, treshold)     \n",
    "        return filtered_data\n",
    "\n",
    "def under_cut(data, col, treshold = 0.2):\n",
    "    if type(col) is str :\n",
    "        res = data.drop(data.loc[data[col] < treshold].index)\n",
    "        return res\n",
    "    elif len(col)>1:\n",
    "        filtered_data = upper_cut(data, col[0], treshold)\n",
    "        for i in col[1:]:\n",
    "            filtered_data = upper_cut(filtered_data, i, treshold)     \n",
    "        return filtered_data\n",
    "    \n",
    "def processing(T_measures = \"../sampling_points/Point034/point034_T_measures.csv\", \n",
    "               P_measures =\"../sampling_points/Point034/point034_P_measures.csv\", \n",
    "               config = \"../configuration/pressure_sensors/P508.csv\"):\n",
    "    with open(T_measures, 'r') as file: \n",
    "        all_lines = file.readlines()\n",
    "    file.close()\n",
    "    all_lines[0] = '#,\"Date Heure, GMT+01:00\",\"Temp., °C (LGR S/N: 10117166, SEN S/N: 10117166, LBL: Température)\",\"Temp., °C (LGR S/N: 10117166, SEN S/N: 10117166, LBL: Température)\",\"Temp., °C (LGR S/N: 10117166, SEN S/N: 10117166, LBL: Température)\",\"Temp., °C (LGR S/N: 10117166, SEN S/N: 10117166, LBL: Température)\",\"Hôte connecté (LGR S/N: 10117166)\",\"Arrêté (LGR S/N: 10117166)\",\"Fin de fichier (LGR S/N: 10117166)\" \\n'   \n",
    "    with open(T_measures, 'w') as file: \n",
    "        for line in all_lines: \n",
    "            file.write(line)\n",
    "    capteur_riviere = pd.read_csv(P_measures)\n",
    "    capteur_ZH = pd.read_csv(T_measures)\n",
    "    etalonage_capteur_riv = pd.read_csv(config)\n",
    "    np.random.seed(0)\n",
    "    capteur_ZH.head()\n",
    "    capteur_riviere.rename(columns = {'Unnamed: 1' : 'dates', 'Unnamed: 2' : 'tension_V', 'Unnamed: 3' : 'temperature_stream_C'}, inplace = True)\n",
    "    capteur_ZH.rename(columns = {'Titre de tracé : T520' : '#', 'Date Heure, GMT+01:00': 'dates' , 'Temp., °C (LGR S/N: 10117166, SEN S/N: 10117166, LBL: Température)':'temperature_depth_1_C' , 'Temp., °C (LGR S/N: 10117166, SEN S/N: 10117166, LBL: Température).1':'temperature_depth_2_C' , 'Temp., °C (LGR S/N: 10117166, SEN S/N: 10117166, LBL: Température).2':'temperature_depth_3_C' , 'Temp., °C (LGR S/N: 10117166, SEN S/N: 10117166, LBL: Température).3':'temperature_depth_4_C'}, inplace = True)\n",
    "    print(capteur_riviere.dtypes)\n",
    "    capteur_riviere['tension_V']=pd.to_numeric(capteur_riviere['tension_V'], errors  ='coerce')\n",
    "    capteur_riviere['temperature_stream_C']=pd.to_numeric(capteur_riviere['temperature_stream_C'], errors  ='coerce')\n",
    "    print(capteur_riviere.dtypes)\n",
    "  \n",
    "    etalonage_capteur_riv.dtypes\n",
    "    dUH = pd.to_numeric(etalonage_capteur_riv.loc[3,'P508'])\n",
    "    dUT = pd.to_numeric(etalonage_capteur_riv.loc[4,'P508'])\n",
    "    intercept = pd.to_numeric(etalonage_capteur_riv.loc[2,'P508'])\n",
    "    capteur_riviere['charge_M'] = ((capteur_riviere['tension_V'])-(capteur_riviere['temperature_stream_C'])*dUT-intercept)/(dUH)\n",
    "    capteur_riviere['dates'] = pd.to_datetime(capteur_riviere['dates'] , infer_datetime_format = True, errors = 'coerce')\n",
    "    capteur_ZH['dates'] = pd.to_datetime(capteur_ZH['dates'] , infer_datetime_format = True, errors = 'coerce')\n",
    "    print(capteur_riviere.info())\n",
    "    print(capteur_ZH.info())\n",
    "    capteur_ZH.describe()\n",
    "    capteur_riviere.describe()\n",
    "    capteur_riviere['temperature_stream_C'].hist()\n",
    "    #idmax = capteur_riviere['charge_M'].idxmax()\n",
    "    #idmin = capteur_riviere['charge_M'].idxmin()\n",
    "    print('La charge minimale est', capteur_riviere['charge_M'].min(), 'et la charge maximale est', capteur_riviere['charge_M'].max())\n",
    "    print('La temperature minimale est', capteur_riviere['temperature_stream_C'].min(), 'et la temperature maximale est', capteur_riviere['temperature_stream_C'].max())\n",
    "    print(\"Raw data\")\n",
    "    capteur_riviere['charge_M'].hist()\n",
    "    capteur_riviere.boxplot(column = ['charge_M'])\n",
    "    capteur_riviere.boxplot(column = ['temperature_stream_C'])\n",
    "    #capteur_ZH.boxplot(column = ['temperature_depth_1_C','temperature_depth_2_C','temperature_depth_3_C','temperature_depth_4_C'])\n",
    "    capteur_ZH.hist(column = ['temperature_depth_1_C','temperature_depth_2_C','temperature_depth_3_C','temperature_depth_4_C'])\n",
    "    capteur_ZH.plot.scatter(x = 'temperature_depth_1_C' , y = 'temperature_depth_2_C')\n",
    "    capteur_ZH.plot.scatter(x = 'temperature_depth_2_C' , y = 'temperature_depth_3_C')\n",
    "    def id(data, col, treshold):\n",
    "        return data\n",
    "    mode = input(\"Remove temp outlier method (None, up_cut, un_cut, Z_score, IQ) :\" )\n",
    "    methods = {'up_cut' : upper_cut, 'un_cut' : under_cut, 'Z_score' : remove_Z_outliers, 'IQ' : remove_Outliers, 'None' : id}\n",
    "    treshold = input(\"Threshold (press enter for default):\")\n",
    "    if treshold == '':\n",
    "        filtered_temp = methods[mode](capteur_ZH, col =  ['temperature_depth_1_C','temperature_depth_2_C','temperature_depth_3_C','temperature_depth_4_C'])\n",
    "    else:\n",
    "        treshold = int(treshold)\n",
    "        filtered_temp = methods[mode](capteur_ZH, col =  ['temperature_depth_1_C','temperature_depth_2_C','temperature_depth_3_C','temperature_depth_4_C'], treshold = treshold)\n",
    "    \n",
    "    #filtered_temp.boxplot(column = ['temperature_depth_1_C','temperature_depth_2_C','temperature_depth_3_C','temperature_depth_4_C'])\n",
    "    filtered_temp.hist(column = ['temperature_depth_1_C','temperature_depth_2_C','temperature_depth_3_C','temperature_depth_4_C'])\n",
    "    filtered_temp.plot.scatter(x = 'temperature_depth_1_C' , y = 'temperature_depth_2_C')\n",
    "    filtered_temp.plot.scatter(x = 'temperature_depth_2_C' , y = 'temperature_depth_3_C')\n",
    "    \n",
    "    mode = input(\"Remove Pressure outlier method (None, up_cut, un_cut, Z_score, IQ) :\" )\n",
    "\n",
    "    treshold = input(\"Threshold (press enter for default):\")\n",
    "    if treshold == '':\n",
    "        filtered_p = methods[mode](capteur_riviere, col =  ['temperature_stream_C','charge_M'])\n",
    "    else:\n",
    "        treshold = int(treshold)\n",
    "        filtered_p = methods[mode](capteur_riviere, col =  ['temperature_stream_C','charge_M'], treshold = treshold)\n",
    "    filtered_p['charge_M'].hist()\n",
    "    filtered_p.boxplot(column = ['charge_M'])\n",
    "    filtered_p.boxplot(column = ['temperature_stream_C'])\n",
    "    return filtered_p,filtered_temp"
   ]
  },
  {
   "cell_type": "code",
   "execution_count": null,
   "metadata": {},
   "outputs": [],
   "source": [
    "processing()"
   ]
  },
  {
   "cell_type": "markdown",
   "metadata": {},
   "source": [
    "\n",
    "\n",
    "# Deux autres jeux de données sont disponibles sur le répertoire github.\n",
    "Votre rôle est de traiter et d'analyser ces données avec la méthodologie que vous avez développé."
   ]
  },
  {
   "cell_type": "markdown",
   "metadata": {},
   "source": []
  },
  {
   "cell_type": "markdown",
   "metadata": {},
   "source": []
  }
 ],
 "metadata": {
  "kernelspec": {
   "display_name": "Python 3 (ipykernel)",
   "language": "python",
   "name": "python3"
  },
  "language_info": {
   "codemirror_mode": {
    "name": "ipython",
    "version": 3
   },
   "file_extension": ".py",
   "mimetype": "text/x-python",
   "name": "python",
   "nbconvert_exporter": "python",
   "pygments_lexer": "ipython3",
   "version": "3.9.4"
  }
 },
 "nbformat": 4,
 "nbformat_minor": 4
}
