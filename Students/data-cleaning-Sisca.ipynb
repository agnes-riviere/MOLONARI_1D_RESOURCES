{
 "cells": [
  {
   "cell_type": "markdown",
   "metadata": {
    "_cell_guid": "5cd5061f-ae30-4837-a53b-690ffd5c5830",
    "_uuid": "9d82bf13584b8e682962fbb96131f2447d741679"
   },
   "source": [
    "# Mettre en place notre environnement\n",
    "________\n",
    "\n",
    "La première chose que nous devons faire est de charger les bibliothèques et les ensembles de données que nous allons utiliser. Pour aujourd'hui, nous allons travailler avec deux ensembles de données : un contenant des chroniques de température dans le lit de la rivière (zone hyporhéique), et un autre contenant des les chroniques de différence de charge enregistré en **Volt**.\n",
    "\n",
    "**Important!** Assurez-vous d'exécuter cette cellule vous-même ou le reste de votre code ne fonctionnera pas"
   ]
  },
  {
   "cell_type": "code",
   "execution_count": 2,
   "metadata": {
    "_cell_guid": "135a7804-b5f5-40aa-8657-4a15774e3666",
    "_uuid": "835cbe0834b935fb0fd40c75b9c39454836f4d5f",
    "jupyter": {
     "outputs_hidden": true
    }
   },
   "outputs": [],
   "source": [
    "# modules\n",
    "import pandas as pd\n",
    "import numpy as np\n",
    "import matplotlib.pyplot as plt\n",
    "import seaborn as sns\n",
    "import datetime\n",
    "\n",
    "\n",
    "# read in our data\n",
    "capteur_riviere = pd.read_csv(\"C:/Users/33689/OneDrive/Documents/2A/MOLONARI_1D_RESOURCES/sampling_points/Point034/point034_P_measures.csv\")\n",
    "capteur_ZH = pd.read_csv(\"C:/Users/33689/OneDrive/Documents/2A/MOLONARI_1D_RESOURCES/sampling_points/Point034/point034_T_measures.csv\")\n",
    "etalonage_capteur_riv = pd.read_csv(\"C:/Users/33689/OneDrive/Documents/2A/MOLONARI_1D_RESOURCES/configuration/pressure_sensors/P508.csv\")\n",
    "\n",
    "# set seed for reproducibility\n",
    "np.random.seed(0)"
   ]
  },
  {
   "cell_type": "markdown",
   "metadata": {
    "_cell_guid": "604ac3a4-b1d9-4264-b312-4bbeecdeec00",
    "_uuid": "03ce3b4afe87d98f777172c2c7be066a66a0b237"
   },
   "source": [
    "Nous sommes maintenant prêts à examiner quelques dates ! (Si vous le souhaitez, vous pouvez profiter de cette occasion pour jeter un coup d'œil à certaines des données)."
   ]
  },
  {
   "cell_type": "markdown",
   "metadata": {},
   "source": [
    "# Imprimez le noms des colonnes\n",
    "renommer les colonnes du fichier capteur_riviere :  \tdates,tension_V,temperature_stream_C et celles du fichier capteur_ZH  :\n",
    "#,dates,temperature_depth_1_C,temperature_depth_2_C,temperature_depth_3_C,temperature_depth_4_C\n",
    "\n"
   ]
  },
  {
   "cell_type": "code",
   "execution_count": 3,
   "metadata": {},
   "outputs": [
    {
     "data": {
      "text/html": [
       "<div>\n",
       "<style scoped>\n",
       "    .dataframe tbody tr th:only-of-type {\n",
       "        vertical-align: middle;\n",
       "    }\n",
       "\n",
       "    .dataframe tbody tr th {\n",
       "        vertical-align: top;\n",
       "    }\n",
       "\n",
       "    .dataframe thead th {\n",
       "        text-align: right;\n",
       "    }\n",
       "</style>\n",
       "<table border=\"1\" class=\"dataframe\">\n",
       "  <thead>\n",
       "    <tr style=\"text-align: right;\">\n",
       "      <th></th>\n",
       "      <th>Titre de tracé : point_montberneux</th>\n",
       "      <th>dates</th>\n",
       "      <th>tension_V</th>\n",
       "      <th>temperature_stream_C</th>\n",
       "      <th>Unnamed: 4</th>\n",
       "      <th>Unnamed: 5</th>\n",
       "      <th>Unnamed: 6</th>\n",
       "    </tr>\n",
       "  </thead>\n",
       "  <tbody>\n",
       "    <tr>\n",
       "      <th>0</th>\n",
       "      <td>#</td>\n",
       "      <td>Date Heure, GMT+01:00</td>\n",
       "      <td>Tension, V (LGR S/N: 10831978, SEN S/N: 108319...</td>\n",
       "      <td>Temp., °C (LGR S/N: 10831978, SEN S/N: 1083197...</td>\n",
       "      <td>Hôte connecté (LGR S/N: 10831978)</td>\n",
       "      <td>Arrêté (LGR S/N: 10831978)</td>\n",
       "      <td>Fin de fichier (LGR S/N: 10831978)</td>\n",
       "    </tr>\n",
       "    <tr>\n",
       "      <th>1</th>\n",
       "      <td>1</td>\n",
       "      <td>06/27/16 12:00:00 PM</td>\n",
       "      <td>1.26787</td>\n",
       "      <td>18.342</td>\n",
       "      <td>NaN</td>\n",
       "      <td>NaN</td>\n",
       "      <td>NaN</td>\n",
       "    </tr>\n",
       "    <tr>\n",
       "      <th>2</th>\n",
       "      <td>2</td>\n",
       "      <td>06/27/16 12:15:00 PM</td>\n",
       "      <td>1.0663</td>\n",
       "      <td>13.898</td>\n",
       "      <td>NaN</td>\n",
       "      <td>NaN</td>\n",
       "      <td>NaN</td>\n",
       "    </tr>\n",
       "    <tr>\n",
       "      <th>3</th>\n",
       "      <td>3</td>\n",
       "      <td>06/27/16 12:30:00 PM</td>\n",
       "      <td>1.20661</td>\n",
       "      <td>13.915</td>\n",
       "      <td>NaN</td>\n",
       "      <td>NaN</td>\n",
       "      <td>NaN</td>\n",
       "    </tr>\n",
       "    <tr>\n",
       "      <th>4</th>\n",
       "      <td>4</td>\n",
       "      <td>06/27/16 12:45:00 PM</td>\n",
       "      <td>1.24533</td>\n",
       "      <td>13.939</td>\n",
       "      <td>NaN</td>\n",
       "      <td>NaN</td>\n",
       "      <td>NaN</td>\n",
       "    </tr>\n",
       "    <tr>\n",
       "      <th>...</th>\n",
       "      <td>...</td>\n",
       "      <td>...</td>\n",
       "      <td>...</td>\n",
       "      <td>...</td>\n",
       "      <td>...</td>\n",
       "      <td>...</td>\n",
       "      <td>...</td>\n",
       "    </tr>\n",
       "    <tr>\n",
       "      <th>1456</th>\n",
       "      <td>1447</td>\n",
       "      <td>07/12/2016 15:45</td>\n",
       "      <td>1.13668</td>\n",
       "      <td>9.126</td>\n",
       "      <td>NaN</td>\n",
       "      <td>NaN</td>\n",
       "      <td>NaN</td>\n",
       "    </tr>\n",
       "    <tr>\n",
       "      <th>1457</th>\n",
       "      <td>1447.7</td>\n",
       "      <td>07/12/2016 16:00</td>\n",
       "      <td>1.33513</td>\n",
       "      <td>9.157</td>\n",
       "      <td>NaN</td>\n",
       "      <td>NaN</td>\n",
       "      <td>NaN</td>\n",
       "    </tr>\n",
       "    <tr>\n",
       "      <th>1458</th>\n",
       "      <td>1448.4</td>\n",
       "      <td>07/12/2016 16:15</td>\n",
       "      <td>1.38926</td>\n",
       "      <td>9.199</td>\n",
       "      <td>NaN</td>\n",
       "      <td>NaN</td>\n",
       "      <td>NaN</td>\n",
       "    </tr>\n",
       "    <tr>\n",
       "      <th>1459</th>\n",
       "      <td>1449.1</td>\n",
       "      <td>07/12/2016 16:30</td>\n",
       "      <td>1.41386</td>\n",
       "      <td>9.244</td>\n",
       "      <td>NaN</td>\n",
       "      <td>NaN</td>\n",
       "      <td>NaN</td>\n",
       "    </tr>\n",
       "    <tr>\n",
       "      <th>1460</th>\n",
       "      <td>1449.8</td>\n",
       "      <td>07/12/2016 16:45</td>\n",
       "      <td>1.42794</td>\n",
       "      <td>9.29</td>\n",
       "      <td>NaN</td>\n",
       "      <td>NaN</td>\n",
       "      <td>NaN</td>\n",
       "    </tr>\n",
       "  </tbody>\n",
       "</table>\n",
       "<p>1461 rows × 7 columns</p>\n",
       "</div>"
      ],
      "text/plain": [
       "     Titre de tracé : point_montberneux                  dates  \\\n",
       "0                                     #  Date Heure, GMT+01:00   \n",
       "1                                     1   06/27/16 12:00:00 PM   \n",
       "2                                     2   06/27/16 12:15:00 PM   \n",
       "3                                     3   06/27/16 12:30:00 PM   \n",
       "4                                     4   06/27/16 12:45:00 PM   \n",
       "...                                 ...                    ...   \n",
       "1456                               1447       07/12/2016 15:45   \n",
       "1457                             1447.7       07/12/2016 16:00   \n",
       "1458                             1448.4       07/12/2016 16:15   \n",
       "1459                             1449.1       07/12/2016 16:30   \n",
       "1460                             1449.8       07/12/2016 16:45   \n",
       "\n",
       "                                              tension_V  \\\n",
       "0     Tension, V (LGR S/N: 10831978, SEN S/N: 108319...   \n",
       "1                                               1.26787   \n",
       "2                                                1.0663   \n",
       "3                                               1.20661   \n",
       "4                                               1.24533   \n",
       "...                                                 ...   \n",
       "1456                                            1.13668   \n",
       "1457                                            1.33513   \n",
       "1458                                            1.38926   \n",
       "1459                                            1.41386   \n",
       "1460                                            1.42794   \n",
       "\n",
       "                                   temperature_stream_C  \\\n",
       "0     Temp., °C (LGR S/N: 10831978, SEN S/N: 1083197...   \n",
       "1                                                18.342   \n",
       "2                                                13.898   \n",
       "3                                                13.915   \n",
       "4                                                13.939   \n",
       "...                                                 ...   \n",
       "1456                                              9.126   \n",
       "1457                                              9.157   \n",
       "1458                                              9.199   \n",
       "1459                                              9.244   \n",
       "1460                                               9.29   \n",
       "\n",
       "                             Unnamed: 4                  Unnamed: 5  \\\n",
       "0     Hôte connecté (LGR S/N: 10831978)  Arrêté (LGR S/N: 10831978)   \n",
       "1                                   NaN                         NaN   \n",
       "2                                   NaN                         NaN   \n",
       "3                                   NaN                         NaN   \n",
       "4                                   NaN                         NaN   \n",
       "...                                 ...                         ...   \n",
       "1456                                NaN                         NaN   \n",
       "1457                                NaN                         NaN   \n",
       "1458                                NaN                         NaN   \n",
       "1459                                NaN                         NaN   \n",
       "1460                                NaN                         NaN   \n",
       "\n",
       "                              Unnamed: 6  \n",
       "0     Fin de fichier (LGR S/N: 10831978)  \n",
       "1                                    NaN  \n",
       "2                                    NaN  \n",
       "3                                    NaN  \n",
       "4                                    NaN  \n",
       "...                                  ...  \n",
       "1456                                 NaN  \n",
       "1457                                 NaN  \n",
       "1458                                 NaN  \n",
       "1459                                 NaN  \n",
       "1460                                 NaN  \n",
       "\n",
       "[1461 rows x 7 columns]"
      ]
     },
     "execution_count": 3,
     "metadata": {},
     "output_type": "execute_result"
    }
   ],
   "source": [
    "capteur_riviere.columns = ['Titre de tracé : point_montberneux', 'dates', 'tension_V',\n",
    "       'temperature_stream_C', 'Unnamed: 4', 'Unnamed: 5', 'Unnamed: 6']\n",
    "\n",
    "# pour le renommage de colonnes suivant, la première ligne du fichier sampling_points/Point034/point034_T_measures.csv\n",
    "# a été supprimée\n",
    "capteur_ZH.columns = ['#', 'dates', 'temperature_depth_1', 'temperature_depth_2', 'temperature_depth_3', 'temperature_depth_4', 'Hôte connecté (LGR S/N: 10117166)', 'Arrêté (LGR S/N: 10117166)',\n",
    "       'Fin de fichier (LGR S/N: 10117166)']\n",
    "\n",
    "capteur_riviere"
   ]
  },
  {
   "cell_type": "markdown",
   "metadata": {},
   "source": [
    "# Transformez les données de différence de charge en mètres\n",
    "\n"
   ]
  },
  {
   "cell_type": "code",
   "execution_count": 4,
   "metadata": {},
   "outputs": [
    {
     "data": {
      "text/html": [
       "<div>\n",
       "<style scoped>\n",
       "    .dataframe tbody tr th:only-of-type {\n",
       "        vertical-align: middle;\n",
       "    }\n",
       "\n",
       "    .dataframe tbody tr th {\n",
       "        vertical-align: top;\n",
       "    }\n",
       "\n",
       "    .dataframe thead th {\n",
       "        text-align: right;\n",
       "    }\n",
       "</style>\n",
       "<table border=\"1\" class=\"dataframe\">\n",
       "  <thead>\n",
       "    <tr style=\"text-align: right;\">\n",
       "      <th></th>\n",
       "      <th>Titre de tracé : point_montberneux</th>\n",
       "      <th>dates</th>\n",
       "      <th>tension_V</th>\n",
       "      <th>temperature_stream_C</th>\n",
       "      <th>Unnamed: 4</th>\n",
       "      <th>Unnamed: 5</th>\n",
       "      <th>Unnamed: 6</th>\n",
       "      <th>charge</th>\n",
       "    </tr>\n",
       "  </thead>\n",
       "  <tbody>\n",
       "    <tr>\n",
       "      <th>0</th>\n",
       "      <td>#</td>\n",
       "      <td>Date Heure, GMT+01:00</td>\n",
       "      <td>NaN</td>\n",
       "      <td>NaN</td>\n",
       "      <td>Hôte connecté (LGR S/N: 10831978)</td>\n",
       "      <td>Arrêté (LGR S/N: 10831978)</td>\n",
       "      <td>Fin de fichier (LGR S/N: 10831978)</td>\n",
       "      <td>NaN</td>\n",
       "    </tr>\n",
       "    <tr>\n",
       "      <th>1</th>\n",
       "      <td>1</td>\n",
       "      <td>06/27/16 12:00:00 PM</td>\n",
       "      <td>1.26787</td>\n",
       "      <td>18.342</td>\n",
       "      <td>NaN</td>\n",
       "      <td>NaN</td>\n",
       "      <td>NaN</td>\n",
       "      <td>-0.020848</td>\n",
       "    </tr>\n",
       "    <tr>\n",
       "      <th>2</th>\n",
       "      <td>2</td>\n",
       "      <td>06/27/16 12:15:00 PM</td>\n",
       "      <td>1.06630</td>\n",
       "      <td>13.898</td>\n",
       "      <td>NaN</td>\n",
       "      <td>NaN</td>\n",
       "      <td>NaN</td>\n",
       "      <td>0.112499</td>\n",
       "    </tr>\n",
       "    <tr>\n",
       "      <th>3</th>\n",
       "      <td>3</td>\n",
       "      <td>06/27/16 12:30:00 PM</td>\n",
       "      <td>1.20661</td>\n",
       "      <td>13.915</td>\n",
       "      <td>NaN</td>\n",
       "      <td>NaN</td>\n",
       "      <td>NaN</td>\n",
       "      <td>0.016578</td>\n",
       "    </tr>\n",
       "    <tr>\n",
       "      <th>4</th>\n",
       "      <td>4</td>\n",
       "      <td>06/27/16 12:45:00 PM</td>\n",
       "      <td>1.24533</td>\n",
       "      <td>13.939</td>\n",
       "      <td>NaN</td>\n",
       "      <td>NaN</td>\n",
       "      <td>NaN</td>\n",
       "      <td>-0.009873</td>\n",
       "    </tr>\n",
       "    <tr>\n",
       "      <th>...</th>\n",
       "      <td>...</td>\n",
       "      <td>...</td>\n",
       "      <td>...</td>\n",
       "      <td>...</td>\n",
       "      <td>...</td>\n",
       "      <td>...</td>\n",
       "      <td>...</td>\n",
       "      <td>...</td>\n",
       "    </tr>\n",
       "    <tr>\n",
       "      <th>1456</th>\n",
       "      <td>1447</td>\n",
       "      <td>07/12/2016 15:45</td>\n",
       "      <td>1.13668</td>\n",
       "      <td>9.126</td>\n",
       "      <td>NaN</td>\n",
       "      <td>NaN</td>\n",
       "      <td>NaN</td>\n",
       "      <td>0.059567</td>\n",
       "    </tr>\n",
       "    <tr>\n",
       "      <th>1457</th>\n",
       "      <td>1447.7</td>\n",
       "      <td>07/12/2016 16:00</td>\n",
       "      <td>1.33513</td>\n",
       "      <td>9.157</td>\n",
       "      <td>NaN</td>\n",
       "      <td>NaN</td>\n",
       "      <td>NaN</td>\n",
       "      <td>-0.076095</td>\n",
       "    </tr>\n",
       "    <tr>\n",
       "      <th>1458</th>\n",
       "      <td>1448.4</td>\n",
       "      <td>07/12/2016 16:15</td>\n",
       "      <td>1.38926</td>\n",
       "      <td>9.199</td>\n",
       "      <td>NaN</td>\n",
       "      <td>NaN</td>\n",
       "      <td>NaN</td>\n",
       "      <td>-0.113065</td>\n",
       "    </tr>\n",
       "    <tr>\n",
       "      <th>1459</th>\n",
       "      <td>1449.1</td>\n",
       "      <td>07/12/2016 16:30</td>\n",
       "      <td>1.41386</td>\n",
       "      <td>9.244</td>\n",
       "      <td>NaN</td>\n",
       "      <td>NaN</td>\n",
       "      <td>NaN</td>\n",
       "      <td>-0.129840</td>\n",
       "    </tr>\n",
       "    <tr>\n",
       "      <th>1460</th>\n",
       "      <td>1449.8</td>\n",
       "      <td>07/12/2016 16:45</td>\n",
       "      <td>1.42794</td>\n",
       "      <td>9.290</td>\n",
       "      <td>NaN</td>\n",
       "      <td>NaN</td>\n",
       "      <td>NaN</td>\n",
       "      <td>-0.139421</td>\n",
       "    </tr>\n",
       "  </tbody>\n",
       "</table>\n",
       "<p>1461 rows × 8 columns</p>\n",
       "</div>"
      ],
      "text/plain": [
       "     Titre de tracé : point_montberneux                  dates  tension_V  \\\n",
       "0                                     #  Date Heure, GMT+01:00        NaN   \n",
       "1                                     1   06/27/16 12:00:00 PM    1.26787   \n",
       "2                                     2   06/27/16 12:15:00 PM    1.06630   \n",
       "3                                     3   06/27/16 12:30:00 PM    1.20661   \n",
       "4                                     4   06/27/16 12:45:00 PM    1.24533   \n",
       "...                                 ...                    ...        ...   \n",
       "1456                               1447       07/12/2016 15:45    1.13668   \n",
       "1457                             1447.7       07/12/2016 16:00    1.33513   \n",
       "1458                             1448.4       07/12/2016 16:15    1.38926   \n",
       "1459                             1449.1       07/12/2016 16:30    1.41386   \n",
       "1460                             1449.8       07/12/2016 16:45    1.42794   \n",
       "\n",
       "      temperature_stream_C                         Unnamed: 4  \\\n",
       "0                      NaN  Hôte connecté (LGR S/N: 10831978)   \n",
       "1                   18.342                                NaN   \n",
       "2                   13.898                                NaN   \n",
       "3                   13.915                                NaN   \n",
       "4                   13.939                                NaN   \n",
       "...                    ...                                ...   \n",
       "1456                 9.126                                NaN   \n",
       "1457                 9.157                                NaN   \n",
       "1458                 9.199                                NaN   \n",
       "1459                 9.244                                NaN   \n",
       "1460                 9.290                                NaN   \n",
       "\n",
       "                      Unnamed: 5                          Unnamed: 6    charge  \n",
       "0     Arrêté (LGR S/N: 10831978)  Fin de fichier (LGR S/N: 10831978)       NaN  \n",
       "1                            NaN                                 NaN -0.020848  \n",
       "2                            NaN                                 NaN  0.112499  \n",
       "3                            NaN                                 NaN  0.016578  \n",
       "4                            NaN                                 NaN -0.009873  \n",
       "...                          ...                                 ...       ...  \n",
       "1456                         NaN                                 NaN  0.059567  \n",
       "1457                         NaN                                 NaN -0.076095  \n",
       "1458                         NaN                                 NaN -0.113065  \n",
       "1459                         NaN                                 NaN -0.129840  \n",
       "1460                         NaN                                 NaN -0.139421  \n",
       "\n",
       "[1461 rows x 8 columns]"
      ]
     },
     "execution_count": 4,
     "metadata": {},
     "output_type": "execute_result"
    }
   ],
   "source": [
    "\n",
    "capteur_riviere['tension_V']=pd.to_numeric(capteur_riviere['tension_V'], errors  ='coerce')\n",
    "capteur_riviere['temperature_stream_C']=pd.to_numeric(capteur_riviere['temperature_stream_C'], errors  ='coerce')\n",
    "\n",
    "dU_dH = -1.462495\n",
    "dU_dT = 0.001474\n",
    "Intercept = 1.210344\n",
    "\n",
    "capteur_riviere.assign(charge = (capteur_riviere['tension_V'] - capteur_riviere['temperature_stream_C']*dU_dT - Intercept) / dU_dH)\n"
   ]
  },
  {
   "cell_type": "markdown",
   "metadata": {
    "_cell_guid": "9b87a77d-e5e5-4581-9cd3-0e7339fe1516",
    "_uuid": "742028572a307a42ce40db0102171bc219b05282"
   },
   "source": [
    "# Traitement des dates\n",
    "## Vérifiez le type de données de notre colonne de date\n",
    "___\n",
    "\n",
    "Imprimer les dates des deux fichiers"
   ]
  },
  {
   "cell_type": "code",
   "execution_count": 5,
   "metadata": {
    "_cell_guid": "e6b7eb39-c3e3-40a1-b0a5-91cfcd2d42da",
    "_uuid": "93a08de7a6a621e4b07968c07c1cc612936c6027",
    "jupyter": {
     "outputs_hidden": true
    }
   },
   "outputs": [
    {
     "data": {
      "text/plain": [
       "0       Date Heure, GMT+01:00\n",
       "1        06/27/16 12:00:00 PM\n",
       "2        06/27/16 12:15:00 PM\n",
       "3        06/27/16 12:30:00 PM\n",
       "4        06/27/16 12:45:00 PM\n",
       "                ...          \n",
       "1456         07/12/2016 15:45\n",
       "1457         07/12/2016 16:00\n",
       "1458         07/12/2016 16:15\n",
       "1459         07/12/2016 16:30\n",
       "1460         07/12/2016 16:45\n",
       "Name: dates, Length: 1461, dtype: object"
      ]
     },
     "execution_count": 5,
     "metadata": {},
     "output_type": "execute_result"
    }
   ],
   "source": [
    "capteur_riviere['dates']"
   ]
  },
  {
   "cell_type": "code",
   "execution_count": 6,
   "metadata": {},
   "outputs": [
    {
     "data": {
      "text/plain": [
       "0       06/27/16 12:00:00 PM\n",
       "1       06/27/16 12:15:00 PM\n",
       "2       06/27/16 12:30:00 PM\n",
       "3       06/27/16 12:45:00 PM\n",
       "4       06/27/16 01:00:00 PM\n",
       "                ...         \n",
       "1433    07/12/16 10:15:00 AM\n",
       "1434    07/12/16 10:30:00 AM\n",
       "1435    07/12/16 10:45:00 AM\n",
       "1436    07/12/16 10:49:31 AM\n",
       "1437    07/12/16 10:49:47 AM\n",
       "Name: dates, Length: 1438, dtype: object"
      ]
     },
     "execution_count": 6,
     "metadata": {},
     "output_type": "execute_result"
    }
   ],
   "source": [
    "capteur_ZH['dates']"
   ]
  },
  {
   "cell_type": "markdown",
   "metadata": {
    "_cell_guid": "dbdacb7c-10d4-4b0a-8f6b-6d4a940ca446",
    "_uuid": "d88dbc08ab145fd20f86073b027c53f40fd306bc"
   },
   "source": [
    "Remarquez qu'en bas de la sortie de `head()`, vous pouvez voir qu'il est dit que le type de données de cette colonne est \"object\". \n",
    "\n",
    "> Pandas utilise le dtype \"object\" pour stocker différents types de données, mais le plus souvent, lorsque vous voyez une colonne avec le dtype \"object\", elle contient des chaînes de caractères. \n",
    "\n",
    "Si vous consultez la documentation sur le dtype de Pandas [ici] (http://pandas.pydata.org/pandas-docs/stable/basics.html#dtypes), vous remarquerez qu'il existe également un dtype spécifique `datetime64`. Comme le dtype de notre colonne est `object` plutôt que `datetime64`, nous pouvons dire que Python ne sait pas que cette colonne contient des dates.\n",
    "\n",
    "Nous pouvons aussi regarder uniquement le dtype de votre colonne sans imprimer les premières lignes si nous le souhaitons :"
   ]
  },
  {
   "cell_type": "code",
   "execution_count": 7,
   "metadata": {
    "_cell_guid": "56a047f4-cbf7-4914-951c-a04310ee7432",
    "_uuid": "e2ab2ac80aaac7b165b3af64edb75d29f2612482",
    "jupyter": {
     "outputs_hidden": true
    }
   },
   "outputs": [
    {
     "data": {
      "text/plain": [
       "dtype('O')"
      ]
     },
     "execution_count": 7,
     "metadata": {},
     "output_type": "execute_result"
    }
   ],
   "source": [
    "# check the data type of our date column\n",
    "capteur_ZH.dates.dtype\n"
   ]
  },
  {
   "cell_type": "code",
   "execution_count": 8,
   "metadata": {},
   "outputs": [
    {
     "data": {
      "text/plain": [
       "dtype('O')"
      ]
     },
     "execution_count": 8,
     "metadata": {},
     "output_type": "execute_result"
    }
   ],
   "source": [
    "capteur_riviere.dates.dtype\n"
   ]
  },
  {
   "cell_type": "markdown",
   "metadata": {
    "_cell_guid": "99a207db-3db0-4343-9805-58753f51f6e8",
    "_uuid": "06e6483764014a04e7a1f34525e2f12aee5fdab8"
   },
   "source": [
    "You may have to check the [numpy documentation](https://docs.scipy.org/doc/numpy-1.12.0/reference/generated/numpy.dtype.kind.html#numpy.dtype.kind) to match the letter code to the dtype of the object. \"O\" is the code for \"object\", so we can see that these two methods give us the same information."
   ]
  },
  {
   "cell_type": "markdown",
   "metadata": {
    "_cell_guid": "fb3b552b-411b-4fc0-b1e6-a3a8156fd459",
    "_uuid": "0939ce269aef7001e35cc8f2a5f1eed1f6160940"
   },
   "source": [
    "## Convertir nos colonnes de date en datetime\n",
    "___\n",
    "\n",
    "Maintenant que nous savons que notre colonne de date n'est pas reconnue comme une date, il est temps de la convertir pour qu'elle soit reconnue comme une date. Cette opération est appelée \"analyse syntaxique des dates\" car nous prenons une chaîne de caractères et identifions ses composants. Nous allons utiliser la fonction pd.to_datetime.\n",
    "\n",
    "Nous pouvons indiquer à pandas le format de nos dates à l'aide d'un guide appelé [\"strftime directive\", sur lequel vous trouverez plus d'informations à ce lien] (http://strftime.org/). L'idée de base est que vous devez indiquer quelles parties de la date se trouvent où et quelle ponctuation se trouve entre elles. Il existe [de nombreuses parties possibles d'une date](http://strftime.org/), mais les plus courantes sont `%d` pour le jour, `%m` pour le mois, `%y` pour une année à deux chiffres et `%Y` pour une année à quatre chiffres.\n",
    "\n",
    "Quelques exemples :\n",
    "\n",
    " * Le 17 janvier 2007 a le format \"%m/%d/%y\".\n",
    " * 17-1-2007 a le format \"%d-%m-%Y\".\n",
    " "
   ]
  },
  {
   "cell_type": "code",
   "execution_count": 9,
   "metadata": {
    "_cell_guid": "f955aa17-ede7-4457-a913-ba1c44f8846d",
    "_uuid": "a471aae50241b245caa0c60fbb19821372682b76",
    "jupyter": {
     "outputs_hidden": true
    }
   },
   "outputs": [
    {
     "data": {
      "text/plain": [
       "0                      NaT\n",
       "1      2016-06-27 12:00:00\n",
       "2      2016-06-27 12:15:00\n",
       "3      2016-06-27 12:30:00\n",
       "4      2016-06-27 12:45:00\n",
       "               ...        \n",
       "1456   2016-07-12 15:45:00\n",
       "1457   2016-07-12 16:00:00\n",
       "1458   2016-07-12 16:15:00\n",
       "1459   2016-07-12 16:30:00\n",
       "1460   2016-07-12 16:45:00\n",
       "Name: dates, Length: 1461, dtype: datetime64[ns]"
      ]
     },
     "execution_count": 9,
     "metadata": {},
     "output_type": "execute_result"
    }
   ],
   "source": [
    "capteur_riviere['dates'] = pd.to_datetime(capteur_riviere['dates'], infer_datetime_format=True, errors = 'coerce')\n",
    "\n",
    "capteur_riviere['dates']"
   ]
  },
  {
   "cell_type": "markdown",
   "metadata": {
    "_cell_guid": "7bd8f8b6-8a60-4a12-b94b-4100188845da",
    "_uuid": "fc95b22f0f4d7a6bc0cb1a7cc55abfb204cc81f9"
   },
   "source": [
    "Maintenant que nos dates sont analysées correctement, nous pouvons travailler avec celles-ci.\n",
    "\n",
    "___\n",
    "* Bien que nous spécifions le format de la date ici, il arrive parfois que vous rencontriez une erreur lorsque plusieurs formats de date sont présents dans une même colonne. Dans ce cas, vous pouvez demander à pandas de déduire le bon format de date. Vous pouvez le faire comme suit :\n",
    "\n",
    "`capteur_riviere['date'] = pd.to_datetime(capteur_riviere['date'], infer_datetime_format=True)``\n",
    "\n",
    "**Pourquoi ne pas toujours utiliser `infer_datetime_format = True?`** Il y a deux grandes raisons de ne pas toujours faire deviner à pandas le format de l'heure. La première est que pandas n'est toujours capable de trouver le bon format de date, surtout si quelqu'un a fait preuve de créativité dans la saisie des données. La seconde est que c'est beaucoup plus lent que de spécifier le format exact des dates.\n",
    "____"
   ]
  },
  {
   "cell_type": "markdown",
   "metadata": {
    "_cell_guid": "fe33df7d-c85d-4b61-b572-5682e6eea81b",
    "_uuid": "a2cec7b480ef13c070d40ca0e0763d2d30a86a9c"
   },
   "source": [
    "## Tracer le jour du mois pour vérifier l'analyse de la date\n",
    "___\n",
    "\n",
    "L'un des plus grands dangers de l'analyse des dates est de mélanger les mois et les jours. La fonction to_datetime() a des messages d'erreur très utiles, mais il n'est pas inutile de vérifier que les jours du mois que nous avons extraits ont un sens. \n",
    "\n",
    "Pour ce faire, nous allons tracer un histogramme des jours du mois. Nous nous attendons à ce qu'il ait des valeurs entre 1 et 31 et, puisqu'il n'y a aucune raison de supposer que les glissements de terrain sont plus fréquents certains jours du mois que d'autres, une distribution relativement égale. (Avec un creux sur 31 car tous les mois n'ont pas 31 jours.) "
   ]
  },
  {
   "cell_type": "code",
   "execution_count": 10,
   "metadata": {
    "_cell_guid": "49feb18f-c077-474e-9353-a24ae850acf6",
    "_uuid": "d3d5a143d3d49e10187e420abfe9cfe18c7bac56",
    "collapsed": true,
    "jupyter": {
     "outputs_hidden": true
    }
   },
   "outputs": [
    {
     "data": {
      "text/plain": [
       "array([[<AxesSubplot:title={'center':'jour'}>]], dtype=object)"
      ]
     },
     "execution_count": 10,
     "metadata": {},
     "output_type": "execute_result"
    },
    {
     "data": {
      "image/png": "[encoded data removed]",
      "text/plain": [
       "<Figure size 432x288 with 1 Axes>"
      ]
     },
     "metadata": {
      "needs_background": "light"
     },
     "output_type": "display_data"
    }
   ],
   "source": [
    "capteur_riviere['jour'] = capteur_riviere['dates'].apply(lambda x: x.day)\n",
    "capteur_riviere.hist(column = ['jour'],bins=31)\n"
   ]
  },
  {
   "cell_type": "markdown",
   "metadata": {},
   "source": [
    "# Valeurs aberrantes\n",
    "\n",
    "L'un des plus grands défis du nettoyage des données est l'identification et le traitement des valeurs aberrantes. En termes simples, les valeurs aberrantes sont des observations qui sont significativement différentes des autres points de données. Même les meilleurs algorithmes d'estimation des paramètres automatique seront moins performants si les observations aberrantes ne sont pas nettoyées des données, car elles impliquent des simulations obsolètes des variables.\n",
    "\n"
   ]
  },
  {
   "cell_type": "code",
   "execution_count": 11,
   "metadata": {},
   "outputs": [
    {
     "name": "stdout",
     "output_type": "stream",
     "text": [
      "<class 'pandas.core.frame.DataFrame'>\n",
      "RangeIndex: 1461 entries, 0 to 1460\n",
      "Data columns (total 8 columns):\n",
      " #   Column                              Non-Null Count  Dtype         \n",
      "---  ------                              --------------  -----         \n",
      " 0   Titre de tracé : point_montberneux  1461 non-null   object        \n",
      " 1   dates                               1460 non-null   datetime64[ns]\n",
      " 2   tension_V                           1460 non-null   float64       \n",
      " 3   temperature_stream_C                1460 non-null   float64       \n",
      " 4   Unnamed: 4                          1 non-null      object        \n",
      " 5   Unnamed: 5                          1 non-null      object        \n",
      " 6   Unnamed: 6                          1 non-null      object        \n",
      " 7   jour                                1460 non-null   float64       \n",
      "dtypes: datetime64[ns](1), float64(3), object(4)\n",
      "memory usage: 91.4+ KB\n",
      "None\n"
     ]
    }
   ],
   "source": [
    "print(capteur_riviere.info())"
   ]
  },
  {
   "cell_type": "markdown",
   "metadata": {},
   "source": []
  },
  {
   "cell_type": "markdown",
   "metadata": {},
   "source": [
    "## Identification des valeurs aberrantes\n",
    "\n",
    "La présence de valeurs aberrantes dans les données peut avoir de nombreuses raisons. Parfois, les valeurs aberrantes peuvent être authentiques, alors que dans d'autres cas, elles peuvent être dues à des erreurs de saisie de données. Il est important de comprendre les raisons des valeurs aberrantes avant de les nettoyer.\n",
    "\n",
    "Nous allons commencer le processus de recherche des valeurs aberrantes en exécutant les statistiques sommaires sur les variables. Pour ce faire, nous utilisons la fonction describe() ci-dessous, qui fournit un résumé statistique de toutes les variables quantitatives.\n",
    "\n",
    "\n"
   ]
  },
  {
   "cell_type": "markdown",
   "metadata": {},
   "source": [
    "## Tracez les graphiques de distribution pour les différentes variables"
   ]
  },
  {
   "cell_type": "code",
   "execution_count": 12,
   "metadata": {},
   "outputs": [
    {
     "data": {
      "text/html": [
       "<div>\n",
       "<style scoped>\n",
       "    .dataframe tbody tr th:only-of-type {\n",
       "        vertical-align: middle;\n",
       "    }\n",
       "\n",
       "    .dataframe tbody tr th {\n",
       "        vertical-align: top;\n",
       "    }\n",
       "\n",
       "    .dataframe thead th {\n",
       "        text-align: right;\n",
       "    }\n",
       "</style>\n",
       "<table border=\"1\" class=\"dataframe\">\n",
       "  <thead>\n",
       "    <tr style=\"text-align: right;\">\n",
       "      <th></th>\n",
       "      <th>tension_V</th>\n",
       "      <th>temperature_stream_C</th>\n",
       "      <th>jour</th>\n",
       "    </tr>\n",
       "  </thead>\n",
       "  <tbody>\n",
       "    <tr>\n",
       "      <th>count</th>\n",
       "      <td>1460.000000</td>\n",
       "      <td>1460.000000</td>\n",
       "      <td>1460.000000</td>\n",
       "    </tr>\n",
       "    <tr>\n",
       "      <th>mean</th>\n",
       "      <td>1.256888</td>\n",
       "      <td>14.896441</td>\n",
       "      <td>11.506849</td>\n",
       "    </tr>\n",
       "    <tr>\n",
       "      <th>std</th>\n",
       "      <td>0.047302</td>\n",
       "      <td>1.142397</td>\n",
       "      <td>9.880885</td>\n",
       "    </tr>\n",
       "    <tr>\n",
       "      <th>min</th>\n",
       "      <td>0.652670</td>\n",
       "      <td>9.066000</td>\n",
       "      <td>1.000000</td>\n",
       "    </tr>\n",
       "    <tr>\n",
       "      <th>25%</th>\n",
       "      <td>1.246590</td>\n",
       "      <td>14.203750</td>\n",
       "      <td>4.000000</td>\n",
       "    </tr>\n",
       "    <tr>\n",
       "      <th>50%</th>\n",
       "      <td>1.262150</td>\n",
       "      <td>14.818000</td>\n",
       "      <td>8.000000</td>\n",
       "    </tr>\n",
       "    <tr>\n",
       "      <th>75%</th>\n",
       "      <td>1.270010</td>\n",
       "      <td>15.555000</td>\n",
       "      <td>12.000000</td>\n",
       "    </tr>\n",
       "    <tr>\n",
       "      <th>max</th>\n",
       "      <td>1.432100</td>\n",
       "      <td>18.342000</td>\n",
       "      <td>30.000000</td>\n",
       "    </tr>\n",
       "  </tbody>\n",
       "</table>\n",
       "</div>"
      ],
      "text/plain": [
       "         tension_V  temperature_stream_C         jour\n",
       "count  1460.000000           1460.000000  1460.000000\n",
       "mean      1.256888             14.896441    11.506849\n",
       "std       0.047302              1.142397     9.880885\n",
       "min       0.652670              9.066000     1.000000\n",
       "25%       1.246590             14.203750     4.000000\n",
       "50%       1.262150             14.818000     8.000000\n",
       "75%       1.270010             15.555000    12.000000\n",
       "max       1.432100             18.342000    30.000000"
      ]
     },
     "execution_count": 12,
     "metadata": {},
     "output_type": "execute_result"
    }
   ],
   "source": [
    "capteur_riviere.describe()"
   ]
  },
  {
   "cell_type": "code",
   "execution_count": 13,
   "metadata": {},
   "outputs": [
    {
     "data": {
      "text/plain": [
       "<AxesSubplot:ylabel='Density'>"
      ]
     },
     "execution_count": 13,
     "metadata": {},
     "output_type": "execute_result"
    },
    {
     "data": {
      "image/png": "[encoded data removed]",
      "text/plain": [
       "<Figure size 432x288 with 1 Axes>"
      ]
     },
     "metadata": {
      "needs_background": "light"
     },
     "output_type": "display_data"
    }
   ],
   "source": [
    "capteur_riviere['tension_V'].plot.kde()"
   ]
  },
  {
   "cell_type": "code",
   "execution_count": 14,
   "metadata": {},
   "outputs": [
    {
     "data": {
      "text/plain": [
       "<AxesSubplot:ylabel='Density'>"
      ]
     },
     "execution_count": 14,
     "metadata": {},
     "output_type": "execute_result"
    },
    {
     "data": {
      "image/png": "[encoded data removed]",
      "text/plain": [
       "<Figure size 432x288 with 1 Axes>"
      ]
     },
     "metadata": {
      "needs_background": "light"
     },
     "output_type": "display_data"
    }
   ],
   "source": [
    "capteur_riviere['temperature_stream_C'].plot.kde()"
   ]
  },
  {
   "cell_type": "markdown",
   "metadata": {},
   "source": [
    "## Trouver les valeurs limites"
   ]
  },
  {
   "cell_type": "code",
   "execution_count": 15,
   "metadata": {},
   "outputs": [
    {
     "name": "stderr",
     "output_type": "stream",
     "text": [
      "C:\\Users\\33689\\AppData\\Local\\Temp/ipykernel_20800/3789786246.py:1: UserWarning: Boolean Series key will be reindexed to match DataFrame index.\n",
      "  final_capteur_riviere = capteur_riviere[(capteur_riviere['temperature_stream_C'] > 12.4) & (capteur_riviere['temperature_stream_C'] < 18)][(capteur_riviere['tension_V'] > 1.1) & (capteur_riviere['tension_V'] < 1.3)]\n"
     ]
    },
    {
     "data": {
      "text/plain": [
       "<AxesSubplot:ylabel='Density'>"
      ]
     },
     "execution_count": 15,
     "metadata": {},
     "output_type": "execute_result"
    },
    {
     "data": {
      "image/png": "[encoded data removed]",
      "text/plain": [
       "<Figure size 432x288 with 1 Axes>"
      ]
     },
     "metadata": {
      "needs_background": "light"
     },
     "output_type": "display_data"
    }
   ],
   "source": [
    "final_capteur_riviere = capteur_riviere[(capteur_riviere['temperature_stream_C'] > 12.4) & (capteur_riviere['temperature_stream_C'] < 18)][(capteur_riviere['tension_V'] > 1.1) & (capteur_riviere['tension_V'] < 1.3)]\n",
    "\n",
    "final_capteur_riviere['temperature_stream_C'].plot.kde()"
   ]
  },
  {
   "cell_type": "code",
   "execution_count": 16,
   "metadata": {},
   "outputs": [
    {
     "data": {
      "text/plain": [
       "<AxesSubplot:ylabel='Density'>"
      ]
     },
     "execution_count": 16,
     "metadata": {},
     "output_type": "execute_result"
    },
    {
     "data": {
      "image/png": "[encoded data removed]",
      "text/plain": [
       "<Figure size 432x288 with 1 Axes>"
      ]
     },
     "metadata": {
      "needs_background": "light"
     },
     "output_type": "display_data"
    }
   ],
   "source": [
    "final_capteur_riviere['tension_V'].plot.kde()"
   ]
  },
  {
   "cell_type": "markdown",
   "metadata": {},
   "source": [
    "## 5.1 Identification des valeurs aberrantes\n",
    "\n",
    "La présence de valeurs aberrantes dans les données peut avoir de nombreuses raisons. Parfois, les valeurs aberrantes peuvent être authentiques, alors que dans d'autres cas, elles peuvent être dues à des erreurs de saisie de données. Il est important de comprendre les raisons des valeurs aberrantes avant de les nettoyer.\n",
    "\n",
    "Nous allons commencer le processus de recherche des valeurs aberrantes en exécutant les statistiques sommaires sur les variables. Pour ce faire, nous utilisons la fonction describe() ci-dessous, qui fournit un résumé statistique de toutes les variables quantitatives.\n",
    "\n",
    "\n"
   ]
  },
  {
   "cell_type": "markdown",
   "metadata": {},
   "source": [
    "### 5.1.1. Box plot\n",
    "\n",
    "Le box plot est une manière standardisée d'afficher la distribution des données sur la base du résumé en cinq chiffres (minimum, premier quartile (Q1), médiane, troisième quartile (Q3) et maximum). Elle est souvent utilisée pour identifier la distribution des données et détecter les valeurs aberrantes. La ligne de code ci-dessous trace le box plot de la variable numérique 'Loan_amount'. "
   ]
  },
  {
   "cell_type": "code",
   "execution_count": 17,
   "metadata": {},
   "outputs": [
    {
     "data": {
      "text/plain": [
       "{'whiskers': [<matplotlib.lines.Line2D at 0x23859ffee20>,\n",
       "  <matplotlib.lines.Line2D at 0x2385a0111f0>],\n",
       " 'caps': [<matplotlib.lines.Line2D at 0x2385a011580>,\n",
       "  <matplotlib.lines.Line2D at 0x2385a011910>],\n",
       " 'boxes': [<matplotlib.lines.Line2D at 0x23859ffea90>],\n",
       " 'medians': [<matplotlib.lines.Line2D at 0x2385a011ca0>],\n",
       " 'fliers': [<matplotlib.lines.Line2D at 0x2385a01d070>],\n",
       " 'means': []}"
      ]
     },
     "execution_count": 17,
     "metadata": {},
     "output_type": "execute_result"
    },
    {
     "data": {
      "image/png": "[encoded data removed]",
      "text/plain": [
       "<Figure size 432x288 with 1 Axes>"
      ]
     },
     "metadata": {
      "needs_background": "light"
     },
     "output_type": "display_data"
    }
   ],
   "source": [
    "plt.boxplot(capteur_riviere['temperature_stream_C'][1:])"
   ]
  },
  {
   "cell_type": "markdown",
   "metadata": {},
   "source": [
    "### 5.1.2. Histogramme\n",
    "\n",
    "Un histogramme est utilisé pour visualiser la distribution d'une variable numérique. Une valeur aberrante apparaît en dehors du modèle général de distribution. La ligne de code ci-dessous trace un histogramme de la variable 'Revenu', en utilisant la fonction hist(). A histogram is used to visualize the distribution of a numerical variable. An outlier will appear outside the overall pattern of distribution. The line of code below plots a histogram of the 'Income' variable, using the hist() function. "
   ]
  },
  {
   "cell_type": "code",
   "execution_count": 18,
   "metadata": {},
   "outputs": [
    {
     "data": {
      "text/plain": [
       "(array([ 10.,   2.,   8.,   0.,  98., 507., 473., 244.,  91.,  27.]),\n",
       " array([ 9.066 ,  9.9936, 10.9212, 11.8488, 12.7764, 13.704 , 14.6316,\n",
       "        15.5592, 16.4868, 17.4144, 18.342 ]),\n",
       " <BarContainer object of 10 artists>)"
      ]
     },
     "execution_count": 18,
     "metadata": {},
     "output_type": "execute_result"
    },
    {
     "data": {
      "image/png": "[encoded data removed]",
      "text/plain": [
       "<Figure size 432x288 with 1 Axes>"
      ]
     },
     "metadata": {
      "needs_background": "light"
     },
     "output_type": "display_data"
    }
   ],
   "source": [
    "plt.hist(capteur_riviere['temperature_stream_C'][1:])"
   ]
  },
  {
   "cell_type": "markdown",
   "metadata": {},
   "source": [
    "### 5.1.3. Scatterplot\n",
    "\n",
    "Un nuage de points permet de visualiser la relation entre deux variables quantitatives. Les données sont affichées sous la forme d'une collection de points, et tout point qui ne correspond pas au regroupement général des deux variables peut indiquer des valeurs aberrantes. \n",
    "\n",
    "génèrez un nuage de points entre les différentes variables de températures. \n",
    "\n"
   ]
  },
  {
   "cell_type": "code",
   "execution_count": 19,
   "metadata": {},
   "outputs": [
    {
     "data": {
      "text/plain": [
       "<matplotlib.collections.PathCollection at 0x2385a0f9250>"
      ]
     },
     "execution_count": 19,
     "metadata": {},
     "output_type": "execute_result"
    },
    {
     "data": {
      "image/png": "[encoded data removed]",
      "text/plain": [
       "<Figure size 432x288 with 1 Axes>"
      ]
     },
     "metadata": {
      "needs_background": "light"
     },
     "output_type": "display_data"
    }
   ],
   "source": [
    "capteur_ZH['temperature_depth_1'][:-2]\n",
    "capteur_ZH['temperature_depth_2'][:-2]\n",
    "\n",
    "plt.scatter(capteur_ZH['temperature_depth_1'][:-2], capteur_ZH['temperature_depth_2'][:-2], c='#ff7f0e')\n",
    "plt.scatter(capteur_ZH['temperature_depth_1'][:-2], capteur_ZH['temperature_depth_3'][:-2], c='#2ca02c')\n",
    "plt.scatter(capteur_ZH['temperature_depth_1'][:-2], capteur_ZH['temperature_depth_4'][:-2], c='#d62728')\n",
    "\n"
   ]
  },
  {
   "cell_type": "markdown",
   "metadata": {},
   "source": [
    "## 5.2 Identification des valeurs aberrantes avec l'écart interquartile (IQR)\n",
    "\n",
    "L'écart interquartile (IQR) est une mesure de la dispersion statistique et est calculé comme la différence entre les 75e et 25e percentiles. Il est représenté par la formule IQR = Q3 - Q1. Les  lignes de code ci-dessous calculent et impriment l'écart interquartile pour chacune des variables de l'ensemble de données.  La règle générale est que tout ce qui n'est pas dans la plage de (Q1 - 1,5 IQR) et (Q3 + 1,5 IQR) est une valeur aberrante et peut être supprimé.\n"
   ]
  },
  {
   "cell_type": "code",
   "execution_count": 42,
   "metadata": {},
   "outputs": [
    {
     "name": "stdout",
     "output_type": "stream",
     "text": [
      "0.023419999999999996\n",
      "1.3512500000000003\n"
     ]
    }
   ],
   "source": [
    "Q1_tension = np.percentile(capteur_riviere['tension_V'][1:], 25)\n",
    "Q3_tension = np.percentile(capteur_riviere['tension_V'][1:], 75)\n",
    "\n",
    "iqr_tension = Q3_tension - Q1_tension\n",
    "print(iqr_tension)\n",
    "\n",
    "Q1_temperature = np.percentile(capteur_riviere['temperature_stream_C'][1:], 25)\n",
    "Q3_temperature = np.percentile(capteur_riviere['temperature_stream_C'][1:], 75)\n",
    "\n",
    "iqr_temperature = Q3_temperature - Q1_temperature\n",
    "print(iqr_temperature)\n"
   ]
  },
  {
   "cell_type": "code",
   "execution_count": 43,
   "metadata": {},
   "outputs": [
    {
     "name": "stderr",
     "output_type": "stream",
     "text": [
      "C:\\Users\\33689\\AppData\\Local\\Temp/ipykernel_20800/2862063054.py:1: UserWarning: Boolean Series key will be reindexed to match DataFrame index.\n",
      "  final_capteur_riviere = capteur_riviere[(capteur_riviere['temperature_stream_C'] > Q1_temperature-1.5*iqr_temperature) & (capteur_riviere['temperature_stream_C'] < Q3_temperature+1.5*iqr_temperature)][(capteur_riviere['tension_V'] > Q1_tension-1.5*iqr_tension) & (capteur_riviere['tension_V'] < Q3_tension+1.5*iqr_tension)]\n"
     ]
    },
    {
     "data": {
      "text/plain": [
       "<AxesSubplot:ylabel='Density'>"
      ]
     },
     "execution_count": 43,
     "metadata": {},
     "output_type": "execute_result"
    },
    {
     "data": {
      "image/png": "[encoded data removed]",
      "text/plain": [
       "<Figure size 432x288 with 1 Axes>"
      ]
     },
     "metadata": {
      "needs_background": "light"
     },
     "output_type": "display_data"
    }
   ],
   "source": [
    "final_capteur_riviere = capteur_riviere[(capteur_riviere['temperature_stream_C'] > Q1_temperature-1.5*iqr_temperature) & (capteur_riviere['temperature_stream_C'] < Q3_temperature+1.5*iqr_temperature)][(capteur_riviere['tension_V'] > Q1_tension-1.5*iqr_tension) & (capteur_riviere['tension_V'] < Q3_tension+1.5*iqr_tension)]\n",
    "\n",
    "final_capteur_riviere['temperature_stream_C'].plot.kde()\n"
   ]
  },
  {
   "cell_type": "code",
   "execution_count": 44,
   "metadata": {},
   "outputs": [
    {
     "data": {
      "text/plain": [
       "<AxesSubplot:ylabel='Density'>"
      ]
     },
     "execution_count": 44,
     "metadata": {},
     "output_type": "execute_result"
    },
    {
     "data": {
      "image/png": "[encoded data removed]",
      "text/plain": [
       "<Figure size 432x288 with 1 Axes>"
      ]
     },
     "metadata": {
      "needs_background": "light"
     },
     "output_type": "display_data"
    }
   ],
   "source": [
    "final_capteur_riviere['tension_V'].plot.kde()\n"
   ]
  }
 ],
 "metadata": {
  "kernelspec": {
   "display_name": "Python 3",
   "language": "python",
   "name": "python3"
  },
  "language_info": {
   "codemirror_mode": {
    "name": "ipython",
    "version": 3
   },
   "file_extension": ".py",
   "mimetype": "text/x-python",
   "name": "python",
   "nbconvert_exporter": "python",
   "pygments_lexer": "ipython3",
   "version": "3.9.7"
  }
 },
 "nbformat": 4,
 "nbformat_minor": 4
}
